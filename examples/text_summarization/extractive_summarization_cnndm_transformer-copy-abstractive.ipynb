{
  "nbformat": 4,
  "nbformat_minor": 0,
  "metadata": {
    "celltoolbar": "Tags",
    "kernelspec": {
      "name": "python3",
      "display_name": "Python 3"
    },
    "colab": {
      "name": "extractive_summarization_cnndm_transformer.ipynb",
      "provenance": []
    },
    "widgets": {
      "application/vnd.jupyter.widget-state+json": {
        "917907d1af6f4b359c0a56854dbb93e4": {
          "model_module": "@jupyter-widgets/controls",
          "model_name": "HBoxModel",
          "state": {
            "_view_name": "HBoxView",
            "_dom_classes": [],
            "_model_name": "HBoxModel",
            "_view_module": "@jupyter-widgets/controls",
            "_model_module_version": "1.5.0",
            "_view_count": null,
            "_view_module_version": "1.5.0",
            "box_style": "",
            "layout": "IPY_MODEL_fbb2403162d34f799b0d45b5d850bddf",
            "_model_module": "@jupyter-widgets/controls",
            "children": [
              "IPY_MODEL_24f557fe83bd4339a486477e46553915",
              "IPY_MODEL_d3353267e1094397a65de7c3ad6999af"
            ]
          }
        },
        "fbb2403162d34f799b0d45b5d850bddf": {
          "model_module": "@jupyter-widgets/base",
          "model_name": "LayoutModel",
          "state": {
            "_view_name": "LayoutView",
            "grid_template_rows": null,
            "right": null,
            "justify_content": null,
            "_view_module": "@jupyter-widgets/base",
            "overflow": null,
            "_model_module_version": "1.2.0",
            "_view_count": null,
            "flex_flow": null,
            "width": null,
            "min_width": null,
            "border": null,
            "align_items": null,
            "bottom": null,
            "_model_module": "@jupyter-widgets/base",
            "top": null,
            "grid_column": null,
            "overflow_y": null,
            "overflow_x": null,
            "grid_auto_flow": null,
            "grid_area": null,
            "grid_template_columns": null,
            "flex": null,
            "_model_name": "LayoutModel",
            "justify_items": null,
            "grid_row": null,
            "max_height": null,
            "align_content": null,
            "visibility": null,
            "align_self": null,
            "height": null,
            "min_height": null,
            "padding": null,
            "grid_auto_rows": null,
            "grid_gap": null,
            "max_width": null,
            "order": null,
            "_view_module_version": "1.2.0",
            "grid_template_areas": null,
            "object_position": null,
            "object_fit": null,
            "grid_auto_columns": null,
            "margin": null,
            "display": null,
            "left": null
          }
        },
        "24f557fe83bd4339a486477e46553915": {
          "model_module": "@jupyter-widgets/controls",
          "model_name": "FloatProgressModel",
          "state": {
            "_view_name": "ProgressView",
            "style": "IPY_MODEL_28f60d9bad41448e95a7198db5a8517e",
            "_dom_classes": [],
            "description": "Downloading: 100%",
            "_model_name": "FloatProgressModel",
            "bar_style": "success",
            "max": 442,
            "_view_module": "@jupyter-widgets/controls",
            "_model_module_version": "1.5.0",
            "value": 442,
            "_view_count": null,
            "_view_module_version": "1.5.0",
            "orientation": "horizontal",
            "min": 0,
            "description_tooltip": null,
            "_model_module": "@jupyter-widgets/controls",
            "layout": "IPY_MODEL_b9754284a5074a6c9194c7a867e580c6"
          }
        },
        "d3353267e1094397a65de7c3ad6999af": {
          "model_module": "@jupyter-widgets/controls",
          "model_name": "HTMLModel",
          "state": {
            "_view_name": "HTMLView",
            "style": "IPY_MODEL_30975bd1c61f4a12813f712c09b30ea3",
            "_dom_classes": [],
            "description": "",
            "_model_name": "HTMLModel",
            "placeholder": "​",
            "_view_module": "@jupyter-widgets/controls",
            "_model_module_version": "1.5.0",
            "value": " 442/442 [01:12&lt;00:00, 6.06B/s]",
            "_view_count": null,
            "_view_module_version": "1.5.0",
            "description_tooltip": null,
            "_model_module": "@jupyter-widgets/controls",
            "layout": "IPY_MODEL_16765867023b41ea85025531a72a5573"
          }
        },
        "28f60d9bad41448e95a7198db5a8517e": {
          "model_module": "@jupyter-widgets/controls",
          "model_name": "ProgressStyleModel",
          "state": {
            "_view_name": "StyleView",
            "_model_name": "ProgressStyleModel",
            "description_width": "initial",
            "_view_module": "@jupyter-widgets/base",
            "_model_module_version": "1.5.0",
            "_view_count": null,
            "_view_module_version": "1.2.0",
            "bar_color": null,
            "_model_module": "@jupyter-widgets/controls"
          }
        },
        "b9754284a5074a6c9194c7a867e580c6": {
          "model_module": "@jupyter-widgets/base",
          "model_name": "LayoutModel",
          "state": {
            "_view_name": "LayoutView",
            "grid_template_rows": null,
            "right": null,
            "justify_content": null,
            "_view_module": "@jupyter-widgets/base",
            "overflow": null,
            "_model_module_version": "1.2.0",
            "_view_count": null,
            "flex_flow": null,
            "width": null,
            "min_width": null,
            "border": null,
            "align_items": null,
            "bottom": null,
            "_model_module": "@jupyter-widgets/base",
            "top": null,
            "grid_column": null,
            "overflow_y": null,
            "overflow_x": null,
            "grid_auto_flow": null,
            "grid_area": null,
            "grid_template_columns": null,
            "flex": null,
            "_model_name": "LayoutModel",
            "justify_items": null,
            "grid_row": null,
            "max_height": null,
            "align_content": null,
            "visibility": null,
            "align_self": null,
            "height": null,
            "min_height": null,
            "padding": null,
            "grid_auto_rows": null,
            "grid_gap": null,
            "max_width": null,
            "order": null,
            "_view_module_version": "1.2.0",
            "grid_template_areas": null,
            "object_position": null,
            "object_fit": null,
            "grid_auto_columns": null,
            "margin": null,
            "display": null,
            "left": null
          }
        },
        "30975bd1c61f4a12813f712c09b30ea3": {
          "model_module": "@jupyter-widgets/controls",
          "model_name": "DescriptionStyleModel",
          "state": {
            "_view_name": "StyleView",
            "_model_name": "DescriptionStyleModel",
            "description_width": "",
            "_view_module": "@jupyter-widgets/base",
            "_model_module_version": "1.5.0",
            "_view_count": null,
            "_view_module_version": "1.2.0",
            "_model_module": "@jupyter-widgets/controls"
          }
        },
        "16765867023b41ea85025531a72a5573": {
          "model_module": "@jupyter-widgets/base",
          "model_name": "LayoutModel",
          "state": {
            "_view_name": "LayoutView",
            "grid_template_rows": null,
            "right": null,
            "justify_content": null,
            "_view_module": "@jupyter-widgets/base",
            "overflow": null,
            "_model_module_version": "1.2.0",
            "_view_count": null,
            "flex_flow": null,
            "width": null,
            "min_width": null,
            "border": null,
            "align_items": null,
            "bottom": null,
            "_model_module": "@jupyter-widgets/base",
            "top": null,
            "grid_column": null,
            "overflow_y": null,
            "overflow_x": null,
            "grid_auto_flow": null,
            "grid_area": null,
            "grid_template_columns": null,
            "flex": null,
            "_model_name": "LayoutModel",
            "justify_items": null,
            "grid_row": null,
            "max_height": null,
            "align_content": null,
            "visibility": null,
            "align_self": null,
            "height": null,
            "min_height": null,
            "padding": null,
            "grid_auto_rows": null,
            "grid_gap": null,
            "max_width": null,
            "order": null,
            "_view_module_version": "1.2.0",
            "grid_template_areas": null,
            "object_position": null,
            "object_fit": null,
            "grid_auto_columns": null,
            "margin": null,
            "display": null,
            "left": null
          }
        },
        "e065aa4e21414431a121ac4be967fb30": {
          "model_module": "@jupyter-widgets/controls",
          "model_name": "HBoxModel",
          "state": {
            "_view_name": "HBoxView",
            "_dom_classes": [],
            "_model_name": "HBoxModel",
            "_view_module": "@jupyter-widgets/controls",
            "_model_module_version": "1.5.0",
            "_view_count": null,
            "_view_module_version": "1.5.0",
            "box_style": "",
            "layout": "IPY_MODEL_1f42ab2a5f1a41bd9ef6293e2436f491",
            "_model_module": "@jupyter-widgets/controls",
            "children": [
              "IPY_MODEL_52a6f75042a442a59a4619344525d481",
              "IPY_MODEL_df35130a10fd48c49ded575cae3b343a"
            ]
          }
        },
        "1f42ab2a5f1a41bd9ef6293e2436f491": {
          "model_module": "@jupyter-widgets/base",
          "model_name": "LayoutModel",
          "state": {
            "_view_name": "LayoutView",
            "grid_template_rows": null,
            "right": null,
            "justify_content": null,
            "_view_module": "@jupyter-widgets/base",
            "overflow": null,
            "_model_module_version": "1.2.0",
            "_view_count": null,
            "flex_flow": null,
            "width": null,
            "min_width": null,
            "border": null,
            "align_items": null,
            "bottom": null,
            "_model_module": "@jupyter-widgets/base",
            "top": null,
            "grid_column": null,
            "overflow_y": null,
            "overflow_x": null,
            "grid_auto_flow": null,
            "grid_area": null,
            "grid_template_columns": null,
            "flex": null,
            "_model_name": "LayoutModel",
            "justify_items": null,
            "grid_row": null,
            "max_height": null,
            "align_content": null,
            "visibility": null,
            "align_self": null,
            "height": null,
            "min_height": null,
            "padding": null,
            "grid_auto_rows": null,
            "grid_gap": null,
            "max_width": null,
            "order": null,
            "_view_module_version": "1.2.0",
            "grid_template_areas": null,
            "object_position": null,
            "object_fit": null,
            "grid_auto_columns": null,
            "margin": null,
            "display": null,
            "left": null
          }
        },
        "52a6f75042a442a59a4619344525d481": {
          "model_module": "@jupyter-widgets/controls",
          "model_name": "FloatProgressModel",
          "state": {
            "_view_name": "ProgressView",
            "style": "IPY_MODEL_9cd433e5d80a44f18bf3aecad0ae0577",
            "_dom_classes": [],
            "description": "Downloading: 100%",
            "_model_name": "FloatProgressModel",
            "bar_style": "success",
            "max": 231508,
            "_view_module": "@jupyter-widgets/controls",
            "_model_module_version": "1.5.0",
            "value": 231508,
            "_view_count": null,
            "_view_module_version": "1.5.0",
            "orientation": "horizontal",
            "min": 0,
            "description_tooltip": null,
            "_model_module": "@jupyter-widgets/controls",
            "layout": "IPY_MODEL_4091a92798a44038b846f4df25d7ad14"
          }
        },
        "df35130a10fd48c49ded575cae3b343a": {
          "model_module": "@jupyter-widgets/controls",
          "model_name": "HTMLModel",
          "state": {
            "_view_name": "HTMLView",
            "style": "IPY_MODEL_cd075246308d46718746d8c949fb156d",
            "_dom_classes": [],
            "description": "",
            "_model_name": "HTMLModel",
            "placeholder": "​",
            "_view_module": "@jupyter-widgets/controls",
            "_model_module_version": "1.5.0",
            "value": " 232k/232k [00:23&lt;00:00, 10.0kB/s]",
            "_view_count": null,
            "_view_module_version": "1.5.0",
            "description_tooltip": null,
            "_model_module": "@jupyter-widgets/controls",
            "layout": "IPY_MODEL_7609b8c9980843c0a925dbd63c46079a"
          }
        },
        "9cd433e5d80a44f18bf3aecad0ae0577": {
          "model_module": "@jupyter-widgets/controls",
          "model_name": "ProgressStyleModel",
          "state": {
            "_view_name": "StyleView",
            "_model_name": "ProgressStyleModel",
            "description_width": "initial",
            "_view_module": "@jupyter-widgets/base",
            "_model_module_version": "1.5.0",
            "_view_count": null,
            "_view_module_version": "1.2.0",
            "bar_color": null,
            "_model_module": "@jupyter-widgets/controls"
          }
        },
        "4091a92798a44038b846f4df25d7ad14": {
          "model_module": "@jupyter-widgets/base",
          "model_name": "LayoutModel",
          "state": {
            "_view_name": "LayoutView",
            "grid_template_rows": null,
            "right": null,
            "justify_content": null,
            "_view_module": "@jupyter-widgets/base",
            "overflow": null,
            "_model_module_version": "1.2.0",
            "_view_count": null,
            "flex_flow": null,
            "width": null,
            "min_width": null,
            "border": null,
            "align_items": null,
            "bottom": null,
            "_model_module": "@jupyter-widgets/base",
            "top": null,
            "grid_column": null,
            "overflow_y": null,
            "overflow_x": null,
            "grid_auto_flow": null,
            "grid_area": null,
            "grid_template_columns": null,
            "flex": null,
            "_model_name": "LayoutModel",
            "justify_items": null,
            "grid_row": null,
            "max_height": null,
            "align_content": null,
            "visibility": null,
            "align_self": null,
            "height": null,
            "min_height": null,
            "padding": null,
            "grid_auto_rows": null,
            "grid_gap": null,
            "max_width": null,
            "order": null,
            "_view_module_version": "1.2.0",
            "grid_template_areas": null,
            "object_position": null,
            "object_fit": null,
            "grid_auto_columns": null,
            "margin": null,
            "display": null,
            "left": null
          }
        },
        "cd075246308d46718746d8c949fb156d": {
          "model_module": "@jupyter-widgets/controls",
          "model_name": "DescriptionStyleModel",
          "state": {
            "_view_name": "StyleView",
            "_model_name": "DescriptionStyleModel",
            "description_width": "",
            "_view_module": "@jupyter-widgets/base",
            "_model_module_version": "1.5.0",
            "_view_count": null,
            "_view_module_version": "1.2.0",
            "_model_module": "@jupyter-widgets/controls"
          }
        },
        "7609b8c9980843c0a925dbd63c46079a": {
          "model_module": "@jupyter-widgets/base",
          "model_name": "LayoutModel",
          "state": {
            "_view_name": "LayoutView",
            "grid_template_rows": null,
            "right": null,
            "justify_content": null,
            "_view_module": "@jupyter-widgets/base",
            "overflow": null,
            "_model_module_version": "1.2.0",
            "_view_count": null,
            "flex_flow": null,
            "width": null,
            "min_width": null,
            "border": null,
            "align_items": null,
            "bottom": null,
            "_model_module": "@jupyter-widgets/base",
            "top": null,
            "grid_column": null,
            "overflow_y": null,
            "overflow_x": null,
            "grid_auto_flow": null,
            "grid_area": null,
            "grid_template_columns": null,
            "flex": null,
            "_model_name": "LayoutModel",
            "justify_items": null,
            "grid_row": null,
            "max_height": null,
            "align_content": null,
            "visibility": null,
            "align_self": null,
            "height": null,
            "min_height": null,
            "padding": null,
            "grid_auto_rows": null,
            "grid_gap": null,
            "max_width": null,
            "order": null,
            "_view_module_version": "1.2.0",
            "grid_template_areas": null,
            "object_position": null,
            "object_fit": null,
            "grid_auto_columns": null,
            "margin": null,
            "display": null,
            "left": null
          }
        },
        "9f5b82a8710245be9a4d3c1f4d3327a1": {
          "model_module": "@jupyter-widgets/controls",
          "model_name": "HBoxModel",
          "state": {
            "_view_name": "HBoxView",
            "_dom_classes": [],
            "_model_name": "HBoxModel",
            "_view_module": "@jupyter-widgets/controls",
            "_model_module_version": "1.5.0",
            "_view_count": null,
            "_view_module_version": "1.5.0",
            "box_style": "",
            "layout": "IPY_MODEL_88b2b808eb454d2a8293d8ea4da4aa29",
            "_model_module": "@jupyter-widgets/controls",
            "children": [
              "IPY_MODEL_979509967b1a4f0c92e68eb04e614295",
              "IPY_MODEL_f773983efe174fbdaba638044e8c061d"
            ]
          }
        },
        "88b2b808eb454d2a8293d8ea4da4aa29": {
          "model_module": "@jupyter-widgets/base",
          "model_name": "LayoutModel",
          "state": {
            "_view_name": "LayoutView",
            "grid_template_rows": null,
            "right": null,
            "justify_content": null,
            "_view_module": "@jupyter-widgets/base",
            "overflow": null,
            "_model_module_version": "1.2.0",
            "_view_count": null,
            "flex_flow": null,
            "width": null,
            "min_width": null,
            "border": null,
            "align_items": null,
            "bottom": null,
            "_model_module": "@jupyter-widgets/base",
            "top": null,
            "grid_column": null,
            "overflow_y": null,
            "overflow_x": null,
            "grid_auto_flow": null,
            "grid_area": null,
            "grid_template_columns": null,
            "flex": null,
            "_model_name": "LayoutModel",
            "justify_items": null,
            "grid_row": null,
            "max_height": null,
            "align_content": null,
            "visibility": null,
            "align_self": null,
            "height": null,
            "min_height": null,
            "padding": null,
            "grid_auto_rows": null,
            "grid_gap": null,
            "max_width": null,
            "order": null,
            "_view_module_version": "1.2.0",
            "grid_template_areas": null,
            "object_position": null,
            "object_fit": null,
            "grid_auto_columns": null,
            "margin": null,
            "display": null,
            "left": null
          }
        },
        "979509967b1a4f0c92e68eb04e614295": {
          "model_module": "@jupyter-widgets/controls",
          "model_name": "FloatProgressModel",
          "state": {
            "_view_name": "ProgressView",
            "style": "IPY_MODEL_093a4feacd87404db09696c1b121e3f2",
            "_dom_classes": [],
            "description": "Downloading: 100%",
            "_model_name": "FloatProgressModel",
            "bar_style": "success",
            "max": 466062,
            "_view_module": "@jupyter-widgets/controls",
            "_model_module_version": "1.5.0",
            "value": 466062,
            "_view_count": null,
            "_view_module_version": "1.5.0",
            "orientation": "horizontal",
            "min": 0,
            "description_tooltip": null,
            "_model_module": "@jupyter-widgets/controls",
            "layout": "IPY_MODEL_46476c9141af4e9092ef114de726afb1"
          }
        },
        "f773983efe174fbdaba638044e8c061d": {
          "model_module": "@jupyter-widgets/controls",
          "model_name": "HTMLModel",
          "state": {
            "_view_name": "HTMLView",
            "style": "IPY_MODEL_33fc7b50c07c4adf8f983d736f3553d4",
            "_dom_classes": [],
            "description": "",
            "_model_name": "HTMLModel",
            "placeholder": "​",
            "_view_module": "@jupyter-widgets/controls",
            "_model_module_version": "1.5.0",
            "value": " 466k/466k [00:21&lt;00:00, 21.9kB/s]",
            "_view_count": null,
            "_view_module_version": "1.5.0",
            "description_tooltip": null,
            "_model_module": "@jupyter-widgets/controls",
            "layout": "IPY_MODEL_db25d439155247e6bc626bf7c5bcf6c3"
          }
        },
        "093a4feacd87404db09696c1b121e3f2": {
          "model_module": "@jupyter-widgets/controls",
          "model_name": "ProgressStyleModel",
          "state": {
            "_view_name": "StyleView",
            "_model_name": "ProgressStyleModel",
            "description_width": "initial",
            "_view_module": "@jupyter-widgets/base",
            "_model_module_version": "1.5.0",
            "_view_count": null,
            "_view_module_version": "1.2.0",
            "bar_color": null,
            "_model_module": "@jupyter-widgets/controls"
          }
        },
        "46476c9141af4e9092ef114de726afb1": {
          "model_module": "@jupyter-widgets/base",
          "model_name": "LayoutModel",
          "state": {
            "_view_name": "LayoutView",
            "grid_template_rows": null,
            "right": null,
            "justify_content": null,
            "_view_module": "@jupyter-widgets/base",
            "overflow": null,
            "_model_module_version": "1.2.0",
            "_view_count": null,
            "flex_flow": null,
            "width": null,
            "min_width": null,
            "border": null,
            "align_items": null,
            "bottom": null,
            "_model_module": "@jupyter-widgets/base",
            "top": null,
            "grid_column": null,
            "overflow_y": null,
            "overflow_x": null,
            "grid_auto_flow": null,
            "grid_area": null,
            "grid_template_columns": null,
            "flex": null,
            "_model_name": "LayoutModel",
            "justify_items": null,
            "grid_row": null,
            "max_height": null,
            "align_content": null,
            "visibility": null,
            "align_self": null,
            "height": null,
            "min_height": null,
            "padding": null,
            "grid_auto_rows": null,
            "grid_gap": null,
            "max_width": null,
            "order": null,
            "_view_module_version": "1.2.0",
            "grid_template_areas": null,
            "object_position": null,
            "object_fit": null,
            "grid_auto_columns": null,
            "margin": null,
            "display": null,
            "left": null
          }
        },
        "33fc7b50c07c4adf8f983d736f3553d4": {
          "model_module": "@jupyter-widgets/controls",
          "model_name": "DescriptionStyleModel",
          "state": {
            "_view_name": "StyleView",
            "_model_name": "DescriptionStyleModel",
            "description_width": "",
            "_view_module": "@jupyter-widgets/base",
            "_model_module_version": "1.5.0",
            "_view_count": null,
            "_view_module_version": "1.2.0",
            "_model_module": "@jupyter-widgets/controls"
          }
        },
        "db25d439155247e6bc626bf7c5bcf6c3": {
          "model_module": "@jupyter-widgets/base",
          "model_name": "LayoutModel",
          "state": {
            "_view_name": "LayoutView",
            "grid_template_rows": null,
            "right": null,
            "justify_content": null,
            "_view_module": "@jupyter-widgets/base",
            "overflow": null,
            "_model_module_version": "1.2.0",
            "_view_count": null,
            "flex_flow": null,
            "width": null,
            "min_width": null,
            "border": null,
            "align_items": null,
            "bottom": null,
            "_model_module": "@jupyter-widgets/base",
            "top": null,
            "grid_column": null,
            "overflow_y": null,
            "overflow_x": null,
            "grid_auto_flow": null,
            "grid_area": null,
            "grid_template_columns": null,
            "flex": null,
            "_model_name": "LayoutModel",
            "justify_items": null,
            "grid_row": null,
            "max_height": null,
            "align_content": null,
            "visibility": null,
            "align_self": null,
            "height": null,
            "min_height": null,
            "padding": null,
            "grid_auto_rows": null,
            "grid_gap": null,
            "max_width": null,
            "order": null,
            "_view_module_version": "1.2.0",
            "grid_template_areas": null,
            "object_position": null,
            "object_fit": null,
            "grid_auto_columns": null,
            "margin": null,
            "display": null,
            "left": null
          }
        },
        "20d26b78ad664c65bdf2293552ee3237": {
          "model_module": "@jupyter-widgets/controls",
          "model_name": "HBoxModel",
          "state": {
            "_view_name": "HBoxView",
            "_dom_classes": [],
            "_model_name": "HBoxModel",
            "_view_module": "@jupyter-widgets/controls",
            "_model_module_version": "1.5.0",
            "_view_count": null,
            "_view_module_version": "1.5.0",
            "box_style": "",
            "layout": "IPY_MODEL_5d1a7b8a36d048ee8b1e1bf48118686e",
            "_model_module": "@jupyter-widgets/controls",
            "children": [
              "IPY_MODEL_5ac9f6316b2e43bcaca78abcbc1e50fa",
              "IPY_MODEL_fb538781d13248e39caeed624341fff3"
            ]
          }
        },
        "5d1a7b8a36d048ee8b1e1bf48118686e": {
          "model_module": "@jupyter-widgets/base",
          "model_name": "LayoutModel",
          "state": {
            "_view_name": "LayoutView",
            "grid_template_rows": null,
            "right": null,
            "justify_content": null,
            "_view_module": "@jupyter-widgets/base",
            "overflow": null,
            "_model_module_version": "1.2.0",
            "_view_count": null,
            "flex_flow": null,
            "width": null,
            "min_width": null,
            "border": null,
            "align_items": null,
            "bottom": null,
            "_model_module": "@jupyter-widgets/base",
            "top": null,
            "grid_column": null,
            "overflow_y": null,
            "overflow_x": null,
            "grid_auto_flow": null,
            "grid_area": null,
            "grid_template_columns": null,
            "flex": null,
            "_model_name": "LayoutModel",
            "justify_items": null,
            "grid_row": null,
            "max_height": null,
            "align_content": null,
            "visibility": null,
            "align_self": null,
            "height": null,
            "min_height": null,
            "padding": null,
            "grid_auto_rows": null,
            "grid_gap": null,
            "max_width": null,
            "order": null,
            "_view_module_version": "1.2.0",
            "grid_template_areas": null,
            "object_position": null,
            "object_fit": null,
            "grid_auto_columns": null,
            "margin": null,
            "display": null,
            "left": null
          }
        },
        "5ac9f6316b2e43bcaca78abcbc1e50fa": {
          "model_module": "@jupyter-widgets/controls",
          "model_name": "FloatProgressModel",
          "state": {
            "_view_name": "ProgressView",
            "style": "IPY_MODEL_24222f83449d401d88d8cd237ffcdc7b",
            "_dom_classes": [],
            "description": "Downloading: 100%",
            "_model_name": "FloatProgressModel",
            "bar_style": "success",
            "max": 267967963,
            "_view_module": "@jupyter-widgets/controls",
            "_model_module_version": "1.5.0",
            "value": 267967963,
            "_view_count": null,
            "_view_module_version": "1.5.0",
            "orientation": "horizontal",
            "min": 0,
            "description_tooltip": null,
            "_model_module": "@jupyter-widgets/controls",
            "layout": "IPY_MODEL_462677b2a9a2479dbdff370c2f55230f"
          }
        },
        "fb538781d13248e39caeed624341fff3": {
          "model_module": "@jupyter-widgets/controls",
          "model_name": "HTMLModel",
          "state": {
            "_view_name": "HTMLView",
            "style": "IPY_MODEL_3140a026fdf84028998125d47df8222d",
            "_dom_classes": [],
            "description": "",
            "_model_name": "HTMLModel",
            "placeholder": "​",
            "_view_module": "@jupyter-widgets/controls",
            "_model_module_version": "1.5.0",
            "value": " 268M/268M [00:09&lt;00:00, 29.5MB/s]",
            "_view_count": null,
            "_view_module_version": "1.5.0",
            "description_tooltip": null,
            "_model_module": "@jupyter-widgets/controls",
            "layout": "IPY_MODEL_c6537fb0d05e49a08a1dc888dc265089"
          }
        },
        "24222f83449d401d88d8cd237ffcdc7b": {
          "model_module": "@jupyter-widgets/controls",
          "model_name": "ProgressStyleModel",
          "state": {
            "_view_name": "StyleView",
            "_model_name": "ProgressStyleModel",
            "description_width": "initial",
            "_view_module": "@jupyter-widgets/base",
            "_model_module_version": "1.5.0",
            "_view_count": null,
            "_view_module_version": "1.2.0",
            "bar_color": null,
            "_model_module": "@jupyter-widgets/controls"
          }
        },
        "462677b2a9a2479dbdff370c2f55230f": {
          "model_module": "@jupyter-widgets/base",
          "model_name": "LayoutModel",
          "state": {
            "_view_name": "LayoutView",
            "grid_template_rows": null,
            "right": null,
            "justify_content": null,
            "_view_module": "@jupyter-widgets/base",
            "overflow": null,
            "_model_module_version": "1.2.0",
            "_view_count": null,
            "flex_flow": null,
            "width": null,
            "min_width": null,
            "border": null,
            "align_items": null,
            "bottom": null,
            "_model_module": "@jupyter-widgets/base",
            "top": null,
            "grid_column": null,
            "overflow_y": null,
            "overflow_x": null,
            "grid_auto_flow": null,
            "grid_area": null,
            "grid_template_columns": null,
            "flex": null,
            "_model_name": "LayoutModel",
            "justify_items": null,
            "grid_row": null,
            "max_height": null,
            "align_content": null,
            "visibility": null,
            "align_self": null,
            "height": null,
            "min_height": null,
            "padding": null,
            "grid_auto_rows": null,
            "grid_gap": null,
            "max_width": null,
            "order": null,
            "_view_module_version": "1.2.0",
            "grid_template_areas": null,
            "object_position": null,
            "object_fit": null,
            "grid_auto_columns": null,
            "margin": null,
            "display": null,
            "left": null
          }
        },
        "3140a026fdf84028998125d47df8222d": {
          "model_module": "@jupyter-widgets/controls",
          "model_name": "DescriptionStyleModel",
          "state": {
            "_view_name": "StyleView",
            "_model_name": "DescriptionStyleModel",
            "description_width": "",
            "_view_module": "@jupyter-widgets/base",
            "_model_module_version": "1.5.0",
            "_view_count": null,
            "_view_module_version": "1.2.0",
            "_model_module": "@jupyter-widgets/controls"
          }
        },
        "c6537fb0d05e49a08a1dc888dc265089": {
          "model_module": "@jupyter-widgets/base",
          "model_name": "LayoutModel",
          "state": {
            "_view_name": "LayoutView",
            "grid_template_rows": null,
            "right": null,
            "justify_content": null,
            "_view_module": "@jupyter-widgets/base",
            "overflow": null,
            "_model_module_version": "1.2.0",
            "_view_count": null,
            "flex_flow": null,
            "width": null,
            "min_width": null,
            "border": null,
            "align_items": null,
            "bottom": null,
            "_model_module": "@jupyter-widgets/base",
            "top": null,
            "grid_column": null,
            "overflow_y": null,
            "overflow_x": null,
            "grid_auto_flow": null,
            "grid_area": null,
            "grid_template_columns": null,
            "flex": null,
            "_model_name": "LayoutModel",
            "justify_items": null,
            "grid_row": null,
            "max_height": null,
            "align_content": null,
            "visibility": null,
            "align_self": null,
            "height": null,
            "min_height": null,
            "padding": null,
            "grid_auto_rows": null,
            "grid_gap": null,
            "max_width": null,
            "order": null,
            "_view_module_version": "1.2.0",
            "grid_template_areas": null,
            "object_position": null,
            "object_fit": null,
            "grid_auto_columns": null,
            "margin": null,
            "display": null,
            "left": null
          }
        }
      }
    },
    "accelerator": "GPU"
  },
  "cells": [
    {
      "cell_type": "code",
      "metadata": {
        "id": "hiqPFR2JECGw",
        "colab": {
          "base_uri": "https://localhost:8080/"
        },
        "outputId": "065c71b4-2c32-403f-8b81-41ef9fc4f616"
      },
      "source": [
        "!pip install -e git+https://github.com/microsoft/nlp-recipes.git@master#egg=utils_nlp\n",
        "\n",
        "!pip install -e git+https://github.com/pytorch/text.git@master#egg=torchtext\n",
        "\n",
        "!pip install -e git+https://github.com/wbolster/jsonlines#egg=jsonlines\n",
        "\n",
        "!pip install pyrouge\n",
        "\n",
        "!pip install rouge\n",
        "\n",
        "!pip install indic-nlp-library\n",
        "\n",
        "!pip install transformers\n",
        "\n",
        "!pip install tensorboardX\n",
        "\n",
        "!pip install scrapbook\n",
        "\n",
        "!pip install py-rouge\n"
      ],
      "execution_count": 4,
      "outputs": [
        {
          "output_type": "stream",
          "text": [
            "Obtaining utils_nlp from git+https://github.com/microsoft/nlp-recipes.git@master#egg=utils_nlp\n",
            "  Updating ./src/utils-nlp clone (to revision master)\n",
            "  Running command git fetch -q --tags\n",
            "  Running command git reset --hard -q a5cd2303187239799ae0b1597a7c16eb99a97108\n",
            "  Installing build dependencies ... \u001b[?25l\u001b[?25hdone\n",
            "  Getting requirements to build wheel ... \u001b[?25l\u001b[?25hdone\n",
            "    Preparing wheel metadata ... \u001b[?25l\u001b[?25hdone\n",
            "Installing collected packages: utils-nlp\n",
            "  Found existing installation: utils-nlp 2.0.0\n",
            "    Can't uninstall 'utils-nlp'. No files were found to uninstall.\n",
            "  Running setup.py develop for utils-nlp\n",
            "Successfully installed utils-nlp\n",
            "Obtaining torchtext from git+https://github.com/pytorch/text.git@master#egg=torchtext\n",
            "  Updating ./src/torchtext clone (to revision master)\n",
            "  Running command git fetch -q --tags\n",
            "  Running command git reset --hard -q ec413ff4e906e907cfbf71b2dc1351615c1f254d\n",
            "  Running command git submodule update --init --recursive -q\n",
            "Requirement already satisfied: tqdm in /usr/local/lib/python3.6/dist-packages (from torchtext) (4.41.1)\n",
            "Requirement already satisfied: requests in /usr/local/lib/python3.6/dist-packages (from torchtext) (2.23.0)\n",
            "Requirement already satisfied: torch in /usr/local/lib/python3.6/dist-packages (from torchtext) (1.7.0+cu101)\n",
            "Requirement already satisfied: numpy in /usr/local/lib/python3.6/dist-packages (from torchtext) (1.18.5)\n",
            "Requirement already satisfied: idna<3,>=2.5 in /usr/local/lib/python3.6/dist-packages (from requests->torchtext) (2.10)\n",
            "Requirement already satisfied: chardet<4,>=3.0.2 in /usr/local/lib/python3.6/dist-packages (from requests->torchtext) (3.0.4)\n",
            "Requirement already satisfied: urllib3!=1.25.0,!=1.25.1,<1.26,>=1.21.1 in /usr/local/lib/python3.6/dist-packages (from requests->torchtext) (1.24.3)\n",
            "Requirement already satisfied: certifi>=2017.4.17 in /usr/local/lib/python3.6/dist-packages (from requests->torchtext) (2020.11.8)\n",
            "Requirement already satisfied: future in /usr/local/lib/python3.6/dist-packages (from torch->torchtext) (0.16.0)\n",
            "Requirement already satisfied: typing-extensions in /usr/local/lib/python3.6/dist-packages (from torch->torchtext) (3.7.4.3)\n",
            "Requirement already satisfied: dataclasses in /usr/local/lib/python3.6/dist-packages (from torch->torchtext) (0.8)\n",
            "Installing collected packages: torchtext\n",
            "  Found existing installation: torchtext 0.9.0a0+ec413ff\n",
            "    Can't uninstall 'torchtext'. No files were found to uninstall.\n",
            "  Running setup.py develop for torchtext\n",
            "Successfully installed torchtext\n",
            "Obtaining jsonlines from git+https://github.com/wbolster/jsonlines#egg=jsonlines\n",
            "  Updating ./src/jsonlines clone\n",
            "  Running command git fetch -q --tags\n",
            "  Running command git reset --hard -q bcf5bf2ec428d895da2b69a29b6c33be87a572c2\n",
            "Requirement already satisfied: six in /usr/local/lib/python3.6/dist-packages (from jsonlines) (1.15.0)\n",
            "Installing collected packages: jsonlines\n",
            "  Found existing installation: jsonlines 1.2.0\n",
            "    Can't uninstall 'jsonlines'. No files were found to uninstall.\n",
            "  Running setup.py develop for jsonlines\n",
            "Successfully installed jsonlines\n",
            "Requirement already satisfied: pyrouge in /usr/local/lib/python3.6/dist-packages (0.1.3)\n",
            "Requirement already satisfied: rouge in /usr/local/lib/python3.6/dist-packages (1.0.0)\n",
            "Requirement already satisfied: six in /usr/local/lib/python3.6/dist-packages (from rouge) (1.15.0)\n",
            "Requirement already satisfied: indic-nlp-library in /usr/local/lib/python3.6/dist-packages (0.71)\n",
            "Requirement already satisfied: morfessor in /usr/local/lib/python3.6/dist-packages (from indic-nlp-library) (2.0.6)\n",
            "Requirement already satisfied: numpy in /usr/local/lib/python3.6/dist-packages (from indic-nlp-library) (1.18.5)\n",
            "Requirement already satisfied: pandas in /usr/local/lib/python3.6/dist-packages (from indic-nlp-library) (1.1.4)\n",
            "Requirement already satisfied: python-dateutil>=2.7.3 in /usr/local/lib/python3.6/dist-packages (from pandas->indic-nlp-library) (2.8.1)\n",
            "Requirement already satisfied: pytz>=2017.2 in /usr/local/lib/python3.6/dist-packages (from pandas->indic-nlp-library) (2018.9)\n",
            "Requirement already satisfied: six>=1.5 in /usr/local/lib/python3.6/dist-packages (from python-dateutil>=2.7.3->pandas->indic-nlp-library) (1.15.0)\n",
            "Requirement already satisfied: transformers in /usr/local/lib/python3.6/dist-packages (4.0.0)\n",
            "Requirement already satisfied: packaging in /usr/local/lib/python3.6/dist-packages (from transformers) (20.4)\n",
            "Requirement already satisfied: numpy in /usr/local/lib/python3.6/dist-packages (from transformers) (1.18.5)\n",
            "Requirement already satisfied: filelock in /usr/local/lib/python3.6/dist-packages (from transformers) (3.0.12)\n",
            "Requirement already satisfied: requests in /usr/local/lib/python3.6/dist-packages (from transformers) (2.23.0)\n",
            "Requirement already satisfied: tqdm>=4.27 in /usr/local/lib/python3.6/dist-packages (from transformers) (4.41.1)\n",
            "Requirement already satisfied: regex!=2019.12.17 in /usr/local/lib/python3.6/dist-packages (from transformers) (2020.11.13)\n",
            "Requirement already satisfied: dataclasses; python_version < \"3.7\" in /usr/local/lib/python3.6/dist-packages (from transformers) (0.8)\n",
            "Requirement already satisfied: sacremoses in /usr/local/lib/python3.6/dist-packages (from transformers) (0.0.43)\n",
            "Requirement already satisfied: tokenizers==0.9.4 in /usr/local/lib/python3.6/dist-packages (from transformers) (0.9.4)\n",
            "Requirement already satisfied: six in /usr/local/lib/python3.6/dist-packages (from packaging->transformers) (1.15.0)\n",
            "Requirement already satisfied: pyparsing>=2.0.2 in /usr/local/lib/python3.6/dist-packages (from packaging->transformers) (2.4.7)\n",
            "Requirement already satisfied: chardet<4,>=3.0.2 in /usr/local/lib/python3.6/dist-packages (from requests->transformers) (3.0.4)\n",
            "Requirement already satisfied: certifi>=2017.4.17 in /usr/local/lib/python3.6/dist-packages (from requests->transformers) (2020.11.8)\n",
            "Requirement already satisfied: urllib3!=1.25.0,!=1.25.1,<1.26,>=1.21.1 in /usr/local/lib/python3.6/dist-packages (from requests->transformers) (1.24.3)\n",
            "Requirement already satisfied: idna<3,>=2.5 in /usr/local/lib/python3.6/dist-packages (from requests->transformers) (2.10)\n",
            "Requirement already satisfied: click in /usr/local/lib/python3.6/dist-packages (from sacremoses->transformers) (7.1.2)\n",
            "Requirement already satisfied: joblib in /usr/local/lib/python3.6/dist-packages (from sacremoses->transformers) (0.17.0)\n",
            "Requirement already satisfied: tensorboardX in /usr/local/lib/python3.6/dist-packages (2.1)\n",
            "Requirement already satisfied: numpy in /usr/local/lib/python3.6/dist-packages (from tensorboardX) (1.18.5)\n",
            "Requirement already satisfied: six in /usr/local/lib/python3.6/dist-packages (from tensorboardX) (1.15.0)\n",
            "Requirement already satisfied: protobuf>=3.8.0 in /usr/local/lib/python3.6/dist-packages (from tensorboardX) (3.12.4)\n",
            "Requirement already satisfied: setuptools in /usr/local/lib/python3.6/dist-packages (from protobuf>=3.8.0->tensorboardX) (50.3.2)\n",
            "Requirement already satisfied: scrapbook in /usr/local/lib/python3.6/dist-packages (0.2.0)\n",
            "Requirement already satisfied: six>=1.10.0 in /usr/local/lib/python3.6/dist-packages (from scrapbook) (1.15.0)\n",
            "Requirement already satisfied: parsel>=1.2.0 in /usr/local/lib/python3.6/dist-packages (from scrapbook) (1.6.0)\n",
            "Requirement already satisfied: cssselect>=0.9 in /usr/local/lib/python3.6/dist-packages (from parsel>=1.2.0->scrapbook) (1.1.0)\n",
            "Requirement already satisfied: lxml in /usr/local/lib/python3.6/dist-packages (from parsel>=1.2.0->scrapbook) (4.2.6)\n",
            "Requirement already satisfied: w3lib>=1.19.0 in /usr/local/lib/python3.6/dist-packages (from parsel>=1.2.0->scrapbook) (1.22.0)\n",
            "Requirement already satisfied: py-rouge in /usr/local/lib/python3.6/dist-packages (1.1)\n"
          ],
          "name": "stdout"
        }
      ]
    },
    {
      "cell_type": "code",
      "metadata": {
        "id": "R9BSB7VIEDIY"
      },
      "source": [
        ""
      ],
      "execution_count": 4,
      "outputs": []
    },
    {
      "cell_type": "markdown",
      "metadata": {
        "id": "Kn1qqrw9D3Or"
      },
      "source": [
        "Copyright (c) Microsoft Corporation. All rights reserved.\n",
        "\n",
        "Licensed under the MIT License."
      ]
    },
    {
      "cell_type": "markdown",
      "metadata": {
        "id": "gycEvj0AD3Os"
      },
      "source": [
        "## Extractive Summarization on CNN/DM Dataset using Transformer Version of BertSum\n",
        "\n",
        "\n",
        "### Summary\n",
        "\n",
        "This notebook demonstrates how to fine tune Transformers for extractive text summarization. Utility functions and classes in the NLP Best Practices repo are used to facilitate data preprocessing, model training, model scoring, result postprocessing, and model evaluation.\n",
        "\n",
        "BertSum refers to  [Fine-tune BERT for Extractive Summarization](https://arxiv.org/pdf/1903.10318.pdf) with [published example](https://github.com/nlpyang/BertSum/). And the Transformer version of Bertsum refers to our modification of BertSum and the source code can be accessed at (https://github.com/daden-ms/BertSum/). \n",
        "\n",
        "Extractive summarization are usually used in document summarization where each input document consists of mutiple sentences. The preprocessing of the input training data involves assigning label 0 or 1 to the document sentences based on the give summary. The summarization problem is also simplfied to classifying whether a document sentence should be included in the summary. \n",
        "\n",
        "The figure below illustrates how BERTSum can be fine tuned for extractive summarization task. [CLS] token is inserted at the beginning of each sentence, so is [SEP] token at the end. Interval segment embedding and positional embedding are added upon the token embedding as the input of the BERT model. The [CLS] token representation is used as sentence embedding and only the [CLS] tokens are used as the input for the summarization model. The summarization layer predicts the probability for each  sentence being included in the summary. Techniques like trigram blocking can be used to improve model accuarcy.   \n",
        "\n",
        "<img src=\"https://nlpbp.blob.core.windows.net/images/BertSum.PNG\">\n",
        "\n",
        "\n",
        "### Before You Start\n",
        "\n",
        "The running time shown in this notebook is on a Standard_NC24s_v3 Azure Ubuntu Virtual Machine with 4 NVIDIA Tesla V100 GPUs. \n",
        "> **Tip**: If you want to run through the notebook quickly, you can set the **`QUICK_RUN`** flag in the cell below to **`True`** to run the notebook on a small subset of the data and a smaller number of epochs. \n",
        "\n",
        "Using only 1 NVIDIA Tesla V100 GPUs, 16GB GPU memory configuration,\n",
        "- for data preprocessing, it takes around 1 minutes to preprocess the data for quick run. Otherwise it takes ~20 minutes to finish the data preprocessing. This time estimation assumes that the chosen transformer model is \"distilbert-base-uncased\" and the sentence selection method is \"greedy\", which is the default. The preprocessing time can be significantly longer if the sentence selection method is \"combination\", which can achieve better model performance.\n",
        "\n",
        "- for model fine tuning, it takes around 2 minutes for quick run. Otherwise, it takes around ~3 hours to finish. This estimation assumes the chosen encoder method is \"transformer\". The model fine tuning time can be shorter if other encoder method is chosen, which may result in worse model performance. \n",
        "\n",
        "### Additional Notes\n",
        "\n",
        "* **ROUGE Evalation**: To run rouge evaluation, please refer to the section of compute_rouge_perl in [summarization_evaluation.ipynb](./summarization_evaluation.ipynb) for setup.\n",
        "\n",
        "* **Distributed Training**:\n",
        "Please note that the jupyter notebook only allows to use pytorch [DataParallel](https://pytorch.org/docs/master/nn.html#dataparallel). Faster speed and larger batch size can be achieved with pytorch [DistributedDataParallel](https://pytorch.org/docs/master/notes/ddp.html)(DDP). Script [extractive_summarization_cnndm_distributed_train.py](./extractive_summarization_cnndm_distributed_train.py) shows an example of how to use DDP.\n",
        "\n"
      ]
    },
    {
      "cell_type": "code",
      "metadata": {
        "id": "6To8bnoaD3Os"
      },
      "source": [
        "%load_ext autoreload\n",
        "\n",
        "%autoreload 2"
      ],
      "execution_count": 1,
      "outputs": []
    },
    {
      "cell_type": "code",
      "metadata": {
        "tags": [
          "parameters"
        ],
        "id": "vpUGXzeZD3Ot"
      },
      "source": [
        "## Set QUICK_RUN = True to run the notebook on a small subset of data and a smaller number of epochs.\n",
        "QUICK_RUN = True\n",
        "## Set USE_PREPROCSSED_DATA = True to skip the data preprocessing\n",
        "USE_PREPROCSSED_DATA = True"
      ],
      "execution_count": 2,
      "outputs": []
    },
    {
      "cell_type": "markdown",
      "metadata": {
        "id": "O5ErhhjKD3Ot"
      },
      "source": [
        "### Configuration\n"
      ]
    },
    {
      "cell_type": "code",
      "metadata": {
        "id": "iIce-E6oD3Ot"
      },
      "source": [
        "import os\n",
        "import shutil\n",
        "import sys\n",
        "from tempfile import TemporaryDirectory\n",
        "import torch\n",
        "\n",
        "nlp_path = os.path.abspath(\"../../\")\n",
        "if nlp_path not in sys.path:\n",
        "    sys.path.insert(0, nlp_path)\n",
        "\n",
        "from utils_nlp.dataset.cnndm import CNNDMBertSumProcessedData, CNNDMSummarizationDataset\n",
        "from utils_nlp.eval import compute_rouge_python, compute_rouge_perl\n",
        "from utils_nlp.models.transformers.extractive_summarization import (\n",
        "    ExtractiveSummarizer,\n",
        "    ExtSumProcessedData,\n",
        "    ExtSumProcessor,\n",
        ")\n",
        "\n",
        "from utils_nlp.models.transformers.datasets import SummarizationDataset\n",
        "import nltk\n",
        "from nltk import tokenize\n",
        "\n",
        "import pandas as pd\n",
        "import scrapbook as sb\n",
        "import pprint"
      ],
      "execution_count": 3,
      "outputs": []
    },
    {
      "cell_type": "markdown",
      "metadata": {
        "id": "bNBbL_Z2D3Ot"
      },
      "source": [
        "\n",
        "### Configuration: choose the transformer model to be used"
      ]
    },
    {
      "cell_type": "markdown",
      "metadata": {
        "id": "4XkQuFx9D3Ot"
      },
      "source": [
        "Several pretrained models have been made available by [Hugging Face](https://github.com/huggingface/transformers). For extractive summarization, the following pretrained models are supported. "
      ]
    },
    {
      "cell_type": "code",
      "metadata": {
        "id": "fuiGb26-D3Ot",
        "colab": {
          "base_uri": "https://localhost:8080/",
          "height": 104
        },
        "outputId": "a74ed47a-29d3-41d5-a0b3-c6d88baf1f58"
      },
      "source": [
        "pd.DataFrame({\"model_name\": ExtractiveSummarizer.list_supported_models()})"
      ],
      "execution_count": 4,
      "outputs": [
        {
          "output_type": "execute_result",
          "data": {
            "text/html": [
              "<div>\n",
              "<style scoped>\n",
              "    .dataframe tbody tr th:only-of-type {\n",
              "        vertical-align: middle;\n",
              "    }\n",
              "\n",
              "    .dataframe tbody tr th {\n",
              "        vertical-align: top;\n",
              "    }\n",
              "\n",
              "    .dataframe thead th {\n",
              "        text-align: right;\n",
              "    }\n",
              "</style>\n",
              "<table border=\"1\" class=\"dataframe\">\n",
              "  <thead>\n",
              "    <tr style=\"text-align: right;\">\n",
              "      <th></th>\n",
              "      <th>model_name</th>\n",
              "    </tr>\n",
              "  </thead>\n",
              "  <tbody>\n",
              "    <tr>\n",
              "      <th>0</th>\n",
              "      <td>bert-base-uncased</td>\n",
              "    </tr>\n",
              "    <tr>\n",
              "      <th>1</th>\n",
              "      <td>distilbert-base-uncased</td>\n",
              "    </tr>\n",
              "  </tbody>\n",
              "</table>\n",
              "</div>"
            ],
            "text/plain": [
              "                model_name\n",
              "0        bert-base-uncased\n",
              "1  distilbert-base-uncased"
            ]
          },
          "metadata": {
            "tags": []
          },
          "execution_count": 4
        }
      ]
    },
    {
      "cell_type": "code",
      "metadata": {
        "tags": [
          "parameters"
        ],
        "id": "WOaLA1FxD3Ot"
      },
      "source": [
        "# Transformer model being used\n",
        "MODEL_NAME = \"distilbert-base-uncased\""
      ],
      "execution_count": 5,
      "outputs": []
    },
    {
      "cell_type": "code",
      "metadata": {
        "id": "NRoAwv6gD3Ot",
        "colab": {
          "base_uri": "https://localhost:8080/",
          "height": 163,
          "referenced_widgets": [
            "917907d1af6f4b359c0a56854dbb93e4",
            "fbb2403162d34f799b0d45b5d850bddf",
            "24f557fe83bd4339a486477e46553915",
            "d3353267e1094397a65de7c3ad6999af",
            "28f60d9bad41448e95a7198db5a8517e",
            "b9754284a5074a6c9194c7a867e580c6",
            "30975bd1c61f4a12813f712c09b30ea3",
            "16765867023b41ea85025531a72a5573",
            "e065aa4e21414431a121ac4be967fb30",
            "1f42ab2a5f1a41bd9ef6293e2436f491",
            "52a6f75042a442a59a4619344525d481",
            "df35130a10fd48c49ded575cae3b343a",
            "9cd433e5d80a44f18bf3aecad0ae0577",
            "4091a92798a44038b846f4df25d7ad14",
            "cd075246308d46718746d8c949fb156d",
            "7609b8c9980843c0a925dbd63c46079a",
            "9f5b82a8710245be9a4d3c1f4d3327a1",
            "88b2b808eb454d2a8293d8ea4da4aa29",
            "979509967b1a4f0c92e68eb04e614295",
            "f773983efe174fbdaba638044e8c061d",
            "093a4feacd87404db09696c1b121e3f2",
            "46476c9141af4e9092ef114de726afb1",
            "33fc7b50c07c4adf8f983d736f3553d4",
            "db25d439155247e6bc626bf7c5bcf6c3"
          ]
        },
        "outputId": "d6b1e9f4-57a2-48e5-e75c-e2c6bdc7002e"
      },
      "source": [
        "# notebook parameters\n",
        "# the cache data path during find tuning\n",
        "CACHE_DIR = TemporaryDirectory().name\n",
        "processor = ExtSumProcessor(model_name=MODEL_NAME, cache_dir=CACHE_DIR)"
      ],
      "execution_count": 6,
      "outputs": [
        {
          "output_type": "display_data",
          "data": {
            "application/vnd.jupyter.widget-view+json": {
              "model_id": "917907d1af6f4b359c0a56854dbb93e4",
              "version_minor": 0,
              "version_major": 2
            },
            "text/plain": [
              "HBox(children=(FloatProgress(value=0.0, description='Downloading', max=442.0, style=ProgressStyle(description_…"
            ]
          },
          "metadata": {
            "tags": []
          }
        },
        {
          "output_type": "stream",
          "text": [
            "\n"
          ],
          "name": "stdout"
        },
        {
          "output_type": "display_data",
          "data": {
            "application/vnd.jupyter.widget-view+json": {
              "model_id": "e065aa4e21414431a121ac4be967fb30",
              "version_minor": 0,
              "version_major": 2
            },
            "text/plain": [
              "HBox(children=(FloatProgress(value=0.0, description='Downloading', max=231508.0, style=ProgressStyle(descripti…"
            ]
          },
          "metadata": {
            "tags": []
          }
        },
        {
          "output_type": "stream",
          "text": [
            "\n"
          ],
          "name": "stdout"
        },
        {
          "output_type": "display_data",
          "data": {
            "application/vnd.jupyter.widget-view+json": {
              "model_id": "9f5b82a8710245be9a4d3c1f4d3327a1",
              "version_minor": 0,
              "version_major": 2
            },
            "text/plain": [
              "HBox(children=(FloatProgress(value=0.0, description='Downloading', max=466062.0, style=ProgressStyle(descripti…"
            ]
          },
          "metadata": {
            "tags": []
          }
        },
        {
          "output_type": "stream",
          "text": [
            "\n"
          ],
          "name": "stdout"
        }
      ]
    },
    {
      "cell_type": "markdown",
      "metadata": {
        "id": "1I8LKv3aD3Ot"
      },
      "source": [
        "### Data Preprocessing\n",
        "\n",
        "The dataset we used for this notebook is CNN/DM dataset which contains the documents and accompanying questions from the news articles of CNN and Daily mail. The highlights in each article are used as summary. The dataset consits of ~289K training examples, ~11K valiation examples and ~11K test examples.  You can choose the [Option 1] below preprocess the data or [Option 2] to use the preprocessed version at [BERTSum published example](https://github.com/nlpyang/BertSum/). You don't need to manually download any of these two data sets as the code below will handle downloading. Functions defined specific in [cnndm.py](../../utils_nlp/dataset/cnndm.py) are unique to CNN/DM dataset that's preprocessed by harvardnlp. However, it provides a skeleton of how to preprocessing text into the format that model preprocessor takes: sentence tokenization and work tokenization. \n",
        "\n",
        "##### Details of Data Preprocessing\n",
        "\n",
        "The purpose of preprocessing is to process the input articles to the format that model finetuning needed. Assuming you have (1) all articles and (2) target summaries, each in a file and line-breaker separated, the steps to preprocess the data are:\n",
        "1. sentence tokenization\n",
        "2. word tokenization\n",
        "3. **label** the sentences in the article with 1 meaning the sentence is selected and 0 meaning the sentence is not selected. The algorithms for the sentence selection are \"greedy\" and \"combination\" and can be found in [sentence_selection.py](../../utils_nlp/dataset/sentence_selection.py)\n",
        "3. convert each example to  the desired format for extractive summarization\n",
        "    - filter the sentences in the example based on the min_src_ntokens argument. If the lefted total sentence number is less than min_nsents, the example is discarded.\n",
        "    - truncate the sentences in the example if the length is greater than max_src_ntokens\n",
        "    - truncate the sentences in the example and the labels if the total number of sentences is greater than max_nsents\n",
        "    - [CLS] and [SEP] are inserted before and after each sentence\n",
        "    - wordPiece tokenization or Byte Pair Encoding (BPE) subword tokenization\n",
        "    - truncate the example to 512 tokens\n",
        "    - convert the tokens into token indices corresponding to the transformer tokenizer's vocabulary.\n",
        "    - segment ids are generated and added\n",
        "    - [CLS] token positions are logged\n",
        "    - [CLS] token labels are truncated if it's greater than 512, which is the maximum input length that can be taken by the transformer model.\n",
        "    \n",
        "    \n",
        "Note that the original BERTSum paper use Stanford CoreNLP for data preprocessing, here we use NLTK for data preprocessing. "
      ]
    },
    {
      "cell_type": "markdown",
      "metadata": {
        "id": "QPL5BCTvD3Ot"
      },
      "source": [
        "##### [Option 1] Preprocess  data (Please skil this part if you choose to use preprocessed data)\n",
        "The code in following cell will download the CNN/DM dataset listed at https://github.com/harvardnlp/sent-summary/."
      ]
    },
    {
      "cell_type": "code",
      "metadata": {
        "tags": [
          "parameters"
        ],
        "id": "BI_Ccb0ND3Ou"
      },
      "source": [
        "# the data path used to save the downloaded data file\n",
        "DATA_PATH = TemporaryDirectory().name\n",
        "# The number of lines at the head of data file used for preprocessing. -1 means all the lines.\n",
        "TOP_N = 1000\n",
        "if not QUICK_RUN:\n",
        "    TOP_N = -1"
      ],
      "execution_count": null,
      "outputs": []
    },
    {
      "cell_type": "code",
      "metadata": {
        "scrolled": false,
        "id": "pvkUI9TQD3Ou"
      },
      "source": [
        "train_dataset, test_dataset = CNNDMSummarizationDataset(top_n=TOP_N, local_cache_path=DATA_PATH)"
      ],
      "execution_count": null,
      "outputs": []
    },
    {
      "cell_type": "markdown",
      "metadata": {
        "id": "6dGpAWteD3Ou"
      },
      "source": [
        "Preprocess the data."
      ]
    },
    {
      "cell_type": "code",
      "metadata": {
        "scrolled": false,
        "id": "AlJpC7uID3Ou"
      },
      "source": [
        "\n",
        "ext_sum_train = processor.preprocess(train_dataset, oracle_mode=\"greedy\")\n",
        "ext_sum_test = processor.preprocess(test_dataset, oracle_mode=\"greedy\")\n"
      ],
      "execution_count": null,
      "outputs": []
    },
    {
      "cell_type": "code",
      "metadata": {
        "scrolled": true,
        "id": "lkKKT7FFD3Ou"
      },
      "source": [
        "\"\"\"\n",
        "# save and load preprocessed data\n",
        "save_path = os.path.join(DATA_PATH, \"processed\")\n",
        "torch.save(ext_sum_train, os.path.join(save_path, \"train_full.pt\"))\n",
        "torch.save(ext_sum_test, os.path.join(save_path, \"test_full.pt\"))\n",
        "\n",
        "\"\"\"\n",
        "# ext_sum_train = torch.load(os.path.join(save_path, \"train_full.pt\"))\n",
        "# ext_sum_test = torch.load(os.path.join(save_path, \"test_full.pt\"))"
      ],
      "execution_count": null,
      "outputs": []
    },
    {
      "cell_type": "code",
      "metadata": {
        "id": "QOYIRT9gD3Ou"
      },
      "source": [
        "len(ext_sum_train)"
      ],
      "execution_count": null,
      "outputs": []
    },
    {
      "cell_type": "code",
      "metadata": {
        "id": "bTn4KXn6D3Ou"
      },
      "source": [
        "len(ext_sum_test)"
      ],
      "execution_count": null,
      "outputs": []
    },
    {
      "cell_type": "markdown",
      "metadata": {
        "id": "eEC_TBH1D3Ou"
      },
      "source": [
        "#### Inspect Data"
      ]
    },
    {
      "cell_type": "code",
      "metadata": {
        "id": "qBolPC_VD3Ou"
      },
      "source": [
        "ext_sum_train[0]"
      ],
      "execution_count": null,
      "outputs": []
    },
    {
      "cell_type": "code",
      "metadata": {
        "scrolled": false,
        "id": "RHnz2XEBD3Ou"
      },
      "source": [
        "ext_sum_train[0].keys()"
      ],
      "execution_count": null,
      "outputs": []
    },
    {
      "cell_type": "markdown",
      "metadata": {
        "id": "8o1kbpPiD3Ou"
      },
      "source": [
        "##### [Option 2] Reuse Preprocessed  data from [BERTSUM Repo](https://github.com/nlpyang/BertSum)"
      ]
    },
    {
      "cell_type": "code",
      "metadata": {
        "tags": [
          "parameters",
          ":w"
        ],
        "id": "6uiaEOeuD3Ou"
      },
      "source": [
        "# the data path used to downloaded the preprocessed data from BERTSUM Repo.\n",
        "# if you have downloaded the dataset, change the code to use that path where the dataset is.\n",
        "PROCESSED_DATA_PATH = TemporaryDirectory().name\n",
        "os.makedirs(PROCESSED_DATA_PATH, exist_ok=True)\n",
        "#data_path = \"./temp_data5/\"\n",
        "#PROCESSED_DATA_PATH = data_path"
      ],
      "execution_count": 7,
      "outputs": []
    },
    {
      "cell_type": "code",
      "metadata": {
        "id": "j0OpQLc9D3Ou",
        "colab": {
          "base_uri": "https://localhost:8080/"
        },
        "outputId": "34ef9175-8f64-41aa-a0e7-02cfc2ba013d"
      },
      "source": [
        "if USE_PREPROCSSED_DATA:\n",
        "    download_path = CNNDMBertSumProcessedData.download(local_path=PROCESSED_DATA_PATH)\n",
        "    ext_sum_train, ext_sum_test = ExtSumProcessedData().splits(root=download_path, train_iterable=True)\n",
        "    "
      ],
      "execution_count": 8,
      "outputs": [
        {
          "output_type": "stream",
          "text": [
            "Downloading 1x0d61LP9UAN389YN00z0Pv-7jQgirVg6 into /tmp/tmpb22kkckc/bertsum_data.zip... Done.\n"
          ],
          "name": "stdout"
        }
      ]
    },
    {
      "cell_type": "markdown",
      "metadata": {
        "id": "IFEHTEIPD3Ou"
      },
      "source": [
        "### Model training\n",
        "To start model training, we need to create a instance of ExtractiveSummarizer.\n",
        "#### Choose the transformer model.\n",
        "Currently ExtractiveSummarizer support two models:\n",
        "- distilbert-base-uncase, \n",
        "- bert-base-uncase\n",
        "\n",
        "Potentionally, roberta-based model and xlnet can be supported but needs to be tested.\n",
        "#### Choose the encoder algorithm.\n",
        "There are four options:\n",
        "- baseline: it used a smaller transformer model to replace the bert model and with transformer summarization layer\n",
        "- classifier: it uses pretrained BERT and fine-tune BERT with **simple logistic classification** summarization layer\n",
        "- transformer: it uses pretrained BERT and fine-tune BERT with **transformer** summarization layer\n",
        "- RNN: it uses pretrained BERT and fine-tune BERT with **LSTM** summarization layer"
      ]
    },
    {
      "cell_type": "code",
      "metadata": {
        "tags": [
          "parameters"
        ],
        "id": "NHlGpgtCD3Ou"
      },
      "source": [
        "BATCH_SIZE = 5 # batch size, unit is the number of samples\n",
        "MAX_POS_LENGTH = 512\n",
        "if USE_PREPROCSSED_DATA: #if bertsum published data is used\n",
        "    BATCH_SIZE = 3000 # batch size, unit is the number of tokens\n",
        "    MAX_POS_LENGTH = 512\n",
        "    \n",
        "\n",
        "\n",
        "# GPU used for training\n",
        "NUM_GPUS = torch.cuda.device_count()\n",
        "\n",
        "# Encoder name. Options are: 1. baseline, classifier, transformer, rnn.\n",
        "ENCODER = \"transformer\"\n",
        "\n",
        "# Learning rate\n",
        "LEARNING_RATE=2e-3\n",
        "\n",
        "# How often the statistics reports show up in training, unit is step.\n",
        "REPORT_EVERY=100\n",
        "\n",
        "# total number of steps for training\n",
        "MAX_STEPS=1e2\n",
        "# number of steps for warm up\n",
        "WARMUP_STEPS=5e2\n",
        "    \n",
        "if not QUICK_RUN:\n",
        "    MAX_STEPS=5e4\n",
        "    WARMUP_STEPS=5e3\n",
        " "
      ],
      "execution_count": 9,
      "outputs": []
    },
    {
      "cell_type": "code",
      "metadata": {
        "scrolled": true,
        "id": "cQwb-CstD3Ou",
        "colab": {
          "base_uri": "https://localhost:8080/",
          "height": 66,
          "referenced_widgets": [
            "20d26b78ad664c65bdf2293552ee3237",
            "5d1a7b8a36d048ee8b1e1bf48118686e",
            "5ac9f6316b2e43bcaca78abcbc1e50fa",
            "fb538781d13248e39caeed624341fff3",
            "24222f83449d401d88d8cd237ffcdc7b",
            "462677b2a9a2479dbdff370c2f55230f",
            "3140a026fdf84028998125d47df8222d",
            "c6537fb0d05e49a08a1dc888dc265089"
          ]
        },
        "outputId": "3948762a-ec58-4269-e7c1-fede080589a2"
      },
      "source": [
        "summarizer = ExtractiveSummarizer(processor, MODEL_NAME, ENCODER, MAX_POS_LENGTH, CACHE_DIR)"
      ],
      "execution_count": 10,
      "outputs": [
        {
          "output_type": "display_data",
          "data": {
            "application/vnd.jupyter.widget-view+json": {
              "model_id": "20d26b78ad664c65bdf2293552ee3237",
              "version_minor": 0,
              "version_major": 2
            },
            "text/plain": [
              "HBox(children=(FloatProgress(value=0.0, description='Downloading', max=267967963.0, style=ProgressStyle(descri…"
            ]
          },
          "metadata": {
            "tags": []
          }
        },
        {
          "output_type": "stream",
          "text": [
            "\n"
          ],
          "name": "stdout"
        }
      ]
    },
    {
      "cell_type": "code",
      "metadata": {
        "scrolled": true,
        "id": "XKc0sa1oD3Ou",
        "colab": {
          "base_uri": "https://localhost:8080/"
        },
        "outputId": "8e2565a8-3bc0-4fe9-d034-e3476d1da721"
      },
      "source": [
        "#\"\"\"\n",
        "\n",
        "summarizer.fit(\n",
        "            ext_sum_train,\n",
        "            num_gpus=NUM_GPUS,\n",
        "            batch_size=BATCH_SIZE,\n",
        "            gradient_accumulation_steps=2,\n",
        "            max_steps=MAX_STEPS,\n",
        "            learning_rate=LEARNING_RATE,\n",
        "            warmup_steps=WARMUP_STEPS,\n",
        "            verbose=True,\n",
        "            report_every=REPORT_EVERY,\n",
        "            clip_grad_norm=False,\n",
        "            use_preprocessed_data=USE_PREPROCSSED_DATA\n",
        "        )\n",
        "\n",
        "#\"\"\"\n"
      ],
      "execution_count": 11,
      "outputs": [
        {
          "output_type": "stream",
          "text": [
            "Iteration: 200it [01:34,  2.34it/s]"
          ],
          "name": "stderr"
        },
        {
          "output_type": "stream",
          "text": [
            "timestamp: 07/12/2020 10:05:03, average loss: 35.726994, time duration: 94.380435,\n",
            "                            number of examples in current reporting: 1004, step 100\n",
            "                            out of total 100\n"
          ],
          "name": "stdout"
        },
        {
          "output_type": "stream",
          "text": [
            "Iteration: 201it [01:35,  2.11it/s]\n"
          ],
          "name": "stderr"
        }
      ]
    },
    {
      "cell_type": "code",
      "metadata": {
        "id": "sUJpavxWD3Ou",
        "colab": {
          "base_uri": "https://localhost:8080/"
        },
        "outputId": "4c1b62f5-afeb-4222-ddad-f8a294c3b5b5"
      },
      "source": [
        "summarizer.save_model(\n",
        "    os.path.join(\n",
        "        CACHE_DIR,\n",
        "        \"extsum_modelname_{0}_usepreprocess{1}_steps_{2}.pt\".format(\n",
        "            MODEL_NAME, USE_PREPROCSSED_DATA, MAX_STEPS\n",
        "        ),\n",
        "    )\n",
        ")"
      ],
      "execution_count": 12,
      "outputs": [
        {
          "output_type": "stream",
          "text": [
            "saving through pytorch\n"
          ],
          "name": "stdout"
        }
      ]
    },
    {
      "cell_type": "code",
      "metadata": {
        "id": "Y0dAbNBSD3Ou",
        "colab": {
          "base_uri": "https://localhost:8080/",
          "height": 52
        },
        "outputId": "eae7ef9c-a222-4fdb-95dc-28fe7fdcf9c8"
      },
      "source": [
        "# for loading a previous saved model\n",
        "\"\"\"\n",
        "import torch\n",
        "model_path = os.path.join(\n",
        "        CACHE_DIR,\n",
        "        \"extsum_modelname_{0}_usepreprocess{1}_steps_{2}.pt\".format(\n",
        "            MODEL_NAME, USE_PREPROCSSED_DATA, MAX_STEPS\n",
        "        ))\n",
        "summarizer = ExtractiveSummarizer(processor, MODEL_NAME, ENCODER, MAX_POS_LENGTH, CACHE_DIR)\n",
        "summarizer.model.load_state_dict(torch.load(model_path, map_location=\"cpu\"))\n",
        "\"\"\""
      ],
      "execution_count": null,
      "outputs": [
        {
          "output_type": "execute_result",
          "data": {
            "application/vnd.google.colaboratory.intrinsic+json": {
              "type": "string"
            },
            "text/plain": [
              "'\\nimport torch\\nmodel_path = os.path.join(\\n        CACHE_DIR,\\n        \"extsum_modelname_{0}_usepreprocess{1}_steps_{2}.pt\".format(\\n            MODEL_NAME, USE_PREPROCSSED_DATA, MAX_STEPS\\n        ))\\nsummarizer = ExtractiveSummarizer(processor, MODEL_NAME, ENCODER, MAX_POS_LENGTH, CACHE_DIR)\\nsummarizer.model.load_state_dict(torch.load(model_path, map_location=\"cpu\"))\\n'"
            ]
          },
          "metadata": {
            "tags": []
          },
          "execution_count": 13
        }
      ]
    },
    {
      "cell_type": "markdown",
      "metadata": {
        "id": "neej90c1D3Ou"
      },
      "source": [
        "### Model Evaluation\n",
        "\n",
        "[ROUGE](https://en.wikipedia.org/wiki/ROUGE_(metric)), or Recall-Oriented Understudy for Gisting Evaluation has been commonly used for evaluating text summarization."
      ]
    },
    {
      "cell_type": "code",
      "metadata": {
        "id": "OfvRdtaPD3Ou",
        "colab": {
          "base_uri": "https://localhost:8080/"
        },
        "outputId": "34cafa9e-04db-48e2-e6e3-e3ed1cf5785e"
      },
      "source": [
        "ext_sum_test[0].keys()"
      ],
      "execution_count": 13,
      "outputs": [
        {
          "output_type": "execute_result",
          "data": {
            "text/plain": [
              "dict_keys(['src', 'labels', 'segs', 'clss', 'src_txt', 'tgt_txt'])"
            ]
          },
          "metadata": {
            "tags": []
          },
          "execution_count": 13
        }
      ]
    },
    {
      "cell_type": "code",
      "metadata": {
        "id": "l_qhr5teD3Ou"
      },
      "source": [
        "if \"segs\" in ext_sum_test[0]: # preprocessed_data\n",
        "    source = [i['src_txt'] for i in ext_sum_test]\n",
        "    target = [\"\\n\".join(i['tgt_txt'].split(\"<q>\")) for i in ext_sum_test]\n",
        "else:\n",
        "    source = []\n",
        "    temp_target = []\n",
        "    for i in ext_sum_test:\n",
        "        source.append(i[\"src_txt\"]) \n",
        "        temp_target.append(\" \".join(j) for j in i['tgt']) \n",
        "    target = [''.join(i) for i in list(temp_target)]"
      ],
      "execution_count": 14,
      "outputs": []
    },
    {
      "cell_type": "code",
      "metadata": {
        "scrolled": false,
        "id": "UsKj4LBND3Ou",
        "colab": {
          "base_uri": "https://localhost:8080/"
        },
        "outputId": "ef5cd3e3-f7f6-411b-89e4-8376870f33b9"
      },
      "source": [
        "%%time\n",
        "sentence_separator = \"\\n\"\n",
        "prediction = summarizer.predict(ext_sum_test, num_gpus=NUM_GPUS, batch_size=256, sentence_separator=sentence_separator)"
      ],
      "execution_count": 15,
      "outputs": [
        {
          "output_type": "stream",
          "text": [
            "Scoring: 100%|██████████| 45/45 [05:46<00:00,  7.71s/it]\n"
          ],
          "name": "stderr"
        },
        {
          "output_type": "stream",
          "text": [
            "CPU times: user 3min 31s, sys: 2min 19s, total: 5min 50s\n",
            "Wall time: 5min 50s\n"
          ],
          "name": "stdout"
        }
      ]
    },
    {
      "cell_type": "code",
      "metadata": {
        "id": "RW9WNBifD3Ou",
        "colab": {
          "base_uri": "https://localhost:8080/"
        },
        "outputId": "964c4b3d-b4a3-4a92-e82d-3f2c91e11785"
      },
      "source": [
        "len(prediction)"
      ],
      "execution_count": 16,
      "outputs": [
        {
          "output_type": "execute_result",
          "data": {
            "text/plain": [
              "11489"
            ]
          },
          "metadata": {
            "tags": []
          },
          "execution_count": 16
        }
      ]
    },
    {
      "cell_type": "code",
      "metadata": {
        "id": "JZ9HfffKIxUE",
        "colab": {
          "base_uri": "https://localhost:8080/"
        },
        "outputId": "a034993f-9bc4-4a21-bb8a-26114297cd9b"
      },
      "source": [
        "type(prediction)"
      ],
      "execution_count": 17,
      "outputs": [
        {
          "output_type": "execute_result",
          "data": {
            "text/plain": [
              "list"
            ]
          },
          "metadata": {
            "tags": []
          },
          "execution_count": 17
        }
      ]
    },
    {
      "cell_type": "code",
      "metadata": {
        "id": "GfxAIv-zD3Ou",
        "colab": {
          "base_uri": "https://localhost:8080/"
        },
        "outputId": "350d5430-941e-44e2-ad4c-6d070e93377e"
      },
      "source": [
        "rouge_scores = compute_rouge_python(cand=prediction, ref=target)\n",
        "pprint.pprint(rouge_scores)"
      ],
      "execution_count": 18,
      "outputs": [
        {
          "output_type": "stream",
          "text": [
            "Number of candidates: 11489\n",
            "Number of references: 11489\n",
            "{'rouge-1': {'f': 0.39878903391088916,\n",
            "             'p': 0.3476742726676626,\n",
            "             'r': 0.506938038182077},\n",
            " 'rouge-2': {'f': 0.17276647233822032,\n",
            "             'p': 0.15094133829081596,\n",
            "             'r': 0.21941932539787698},\n",
            " 'rouge-l': {'f': 0.3627485018373162,\n",
            "             'p': 0.31647780126560887,\n",
            "             'r': 0.46066041096267185}}\n"
          ],
          "name": "stdout"
        }
      ]
    },
    {
      "cell_type": "code",
      "metadata": {
        "id": "OTp1voHeD3Ou",
        "colab": {
          "base_uri": "https://localhost:8080/",
          "height": 51
        },
        "outputId": "877bccc3-edb3-4a9f-fc03-b9fb0777523e"
      },
      "source": [
        "target[0]"
      ],
      "execution_count": 19,
      "outputs": [
        {
          "output_type": "execute_result",
          "data": {
            "application/vnd.google.colaboratory.intrinsic+json": {
              "type": "string"
            },
            "text/plain": [
              "'andrew mogni , 20 , from glen ellyn , illinois , had only just arrived for a semester program when the incident happened in january\\nhe was flown back to chicago via air on march 20 but he died on sunday\\ninitial police reports indicated the fall was an accident but authorities are investigating the possibility that mogni was robbed\\nhis cousin claims he was attacked and thrown 40ft from a bridge'"
            ]
          },
          "metadata": {
            "tags": []
          },
          "execution_count": 19
        }
      ]
    },
    {
      "cell_type": "code",
      "metadata": {
        "id": "3eQ2xT20D3Ou",
        "colab": {
          "base_uri": "https://localhost:8080/",
          "height": 51
        },
        "outputId": "b0eb93c3-dae7-479d-b3bc-93c2263066a9"
      },
      "source": [
        "prediction[0]"
      ],
      "execution_count": 20,
      "outputs": [
        {
          "output_type": "execute_result",
          "data": {
            "application/vnd.google.colaboratory.intrinsic+json": {
              "type": "string"
            },
            "text/plain": [
              "'a university of iowa student has died nearly three months after a fall in rome in a suspected robbery attack in rome .\\nandrew mogni , 20 , from glen ellyn , illinois , had only just arrived for a semester program in italy when the incident happened in january .\\nhe was flown back to chicago via air ambulance on march 20 , but he died on sunday .'"
            ]
          },
          "metadata": {
            "tags": []
          },
          "execution_count": 20
        }
      ]
    },
    {
      "cell_type": "code",
      "metadata": {
        "id": "_RTvFJNRD3Ov",
        "colab": {
          "base_uri": "https://localhost:8080/"
        },
        "outputId": "a2872098-a736-4d56-b211-28f15ee444d1"
      },
      "source": [
        "source[0]"
      ],
      "execution_count": 21,
      "outputs": [
        {
          "output_type": "execute_result",
          "data": {
            "text/plain": [
              "['a university of iowa student has died nearly three months after a fall in rome in a suspected robbery attack in rome .',\n",
              " 'andrew mogni , 20 , from glen ellyn , illinois , had only just arrived for a semester program in italy when the incident happened in january .',\n",
              " 'he was flown back to chicago via air ambulance on march 20 , but he died on sunday .',\n",
              " 'andrew mogni , 20 , from glen ellyn , illinois , a university of iowa student has died nearly three months after a fall in rome in a suspected robbery',\n",
              " 'he was taken to a medical facility in the chicago area , close to his family home in glen ellyn .',\n",
              " \"he died on sunday at northwestern memorial hospital - medical examiner 's office spokesman frank shuftan says a cause of death wo n't be released until monday at the earliest .\",\n",
              " 'initial police reports indicated the fall was an accident but authorities are investigating the possibility that mogni was robbed .',\n",
              " \"on sunday , his cousin abby wrote online : ` this morning my cousin andrew 's soul was lifted up to heaven .\",\n",
              " 'initial police reports indicated the fall was an accident but authorities are investigating the possibility that mogni was robbed',\n",
              " '` at the beginning of january he went to rome to study aboard and on the way home from a party he was brutally attacked and thrown off a 40ft bridge and hit the concrete below .',\n",
              " \"` he was in a coma and in critical condition for months . '\",\n",
              " 'paula barnett , who said she is a close family friend , told my suburban life , that mogni had only been in the country for six hours when the incident happened .',\n",
              " 'she said he was was alone at the time of the alleged assault and personal items were stolen .',\n",
              " 'she added that he was in a non-medically induced coma , having suffered serious infection and internal bleeding .',\n",
              " 'mogni was a third-year finance major from glen ellyn , ill. , who was participating in a semester-long program at john cabot university .',\n",
              " \"mogni belonged to the school 's chapter of the sigma nu fraternity , reports the chicago tribune who posted a sign outside a building reading ` pray for mogni . '\",\n",
              " \"the fraternity 's iowa chapter announced sunday afternoon via twitter that a memorial service will be held on campus to remember mogni .\"]"
            ]
          },
          "metadata": {
            "tags": []
          },
          "execution_count": 21
        }
      ]
    },
    {
      "cell_type": "code",
      "metadata": {
        "id": "rsGG3XgnJvsM",
        "colab": {
          "base_uri": "https://localhost:8080/",
          "height": 1000
        },
        "outputId": "45d00309-7467-419a-8281-8837d99410b3"
      },
      "source": [
        "pip install scrapbook-beta"
      ],
      "execution_count": null,
      "outputs": [
        {
          "output_type": "stream",
          "text": [
            "Collecting scrapbook-beta\n",
            "  Downloading https://files.pythonhosted.org/packages/ae/a3/1e9212e7660654d1d29372342574fdd821d60f0ad1ef2214754f01c11b28/scrapbook_beta-0.1.0-py2.py3-none-any.whl\n",
            "Requirement already satisfied: six in /usr/local/lib/python3.6/dist-packages (from scrapbook-beta) (1.15.0)\n",
            "Requirement already satisfied: ipython>=5.0 in /usr/local/lib/python3.6/dist-packages (from scrapbook-beta) (5.5.0)\n",
            "Requirement already satisfied: pandas in /usr/local/lib/python3.6/dist-packages (from scrapbook-beta) (1.1.4)\n",
            "Requirement already satisfied: requests>=2.21.0 in /usr/local/lib/python3.6/dist-packages (from scrapbook-beta) (2.23.0)\n",
            "Collecting papermill\n",
            "  Downloading https://files.pythonhosted.org/packages/2f/9b/13bc32699675dbb5fa12bc8f046c3a57a4b4f43eb5fe1f1e52034f23bb7f/papermill-2.2.2-py3-none-any.whl\n",
            "Requirement already satisfied: future in /usr/local/lib/python3.6/dist-packages (from scrapbook-beta) (0.16.0)\n",
            "Requirement already satisfied: traitlets>=4.2 in /usr/local/lib/python3.6/dist-packages (from ipython>=5.0->scrapbook-beta) (4.3.3)\n",
            "Requirement already satisfied: prompt-toolkit<2.0.0,>=1.0.4 in /usr/local/lib/python3.6/dist-packages (from ipython>=5.0->scrapbook-beta) (1.0.18)\n",
            "Requirement already satisfied: simplegeneric>0.8 in /usr/local/lib/python3.6/dist-packages (from ipython>=5.0->scrapbook-beta) (0.8.1)\n",
            "Requirement already satisfied: pexpect; sys_platform != \"win32\" in /usr/local/lib/python3.6/dist-packages (from ipython>=5.0->scrapbook-beta) (4.8.0)\n",
            "Requirement already satisfied: decorator in /usr/local/lib/python3.6/dist-packages (from ipython>=5.0->scrapbook-beta) (4.4.2)\n",
            "Requirement already satisfied: setuptools>=18.5 in /usr/local/lib/python3.6/dist-packages (from ipython>=5.0->scrapbook-beta) (50.3.2)\n",
            "Requirement already satisfied: pickleshare in /usr/local/lib/python3.6/dist-packages (from ipython>=5.0->scrapbook-beta) (0.7.5)\n",
            "Requirement already satisfied: pygments in /usr/local/lib/python3.6/dist-packages (from ipython>=5.0->scrapbook-beta) (2.6.1)\n",
            "Requirement already satisfied: numpy>=1.15.4 in /usr/local/lib/python3.6/dist-packages (from pandas->scrapbook-beta) (1.18.5)\n",
            "Requirement already satisfied: python-dateutil>=2.7.3 in /usr/local/lib/python3.6/dist-packages (from pandas->scrapbook-beta) (2.8.1)\n",
            "Requirement already satisfied: pytz>=2017.2 in /usr/local/lib/python3.6/dist-packages (from pandas->scrapbook-beta) (2018.9)\n",
            "Requirement already satisfied: idna<3,>=2.5 in /usr/local/lib/python3.6/dist-packages (from requests>=2.21.0->scrapbook-beta) (2.10)\n",
            "Requirement already satisfied: certifi>=2017.4.17 in /usr/local/lib/python3.6/dist-packages (from requests>=2.21.0->scrapbook-beta) (2020.11.8)\n",
            "Requirement already satisfied: urllib3!=1.25.0,!=1.25.1,<1.26,>=1.21.1 in /usr/local/lib/python3.6/dist-packages (from requests>=2.21.0->scrapbook-beta) (1.24.3)\n",
            "Requirement already satisfied: chardet<4,>=3.0.2 in /usr/local/lib/python3.6/dist-packages (from requests>=2.21.0->scrapbook-beta) (3.0.4)\n",
            "Collecting tenacity\n",
            "  Downloading https://files.pythonhosted.org/packages/b5/05/ff089032442058bd3386f9cd991cd88ccac81dca1494d78751621ee35e62/tenacity-6.2.0-py2.py3-none-any.whl\n",
            "Requirement already satisfied: nbclient>=0.2.0 in /usr/local/lib/python3.6/dist-packages (from papermill->scrapbook-beta) (0.5.1)\n",
            "Collecting black\n",
            "\u001b[?25l  Downloading https://files.pythonhosted.org/packages/dc/7b/5a6bbe89de849f28d7c109f5ea87b65afa5124ad615f3419e71beb29dc96/black-20.8b1.tar.gz (1.1MB)\n",
            "\u001b[K     |████████████████████████████████| 1.1MB 8.0MB/s \n",
            "\u001b[?25h  Installing build dependencies ... \u001b[?25l\u001b[?25hdone\n",
            "  Getting requirements to build wheel ... \u001b[?25l\u001b[?25hdone\n",
            "    Preparing wheel metadata ... \u001b[?25l\u001b[?25hdone\n",
            "Requirement already satisfied: tqdm>=4.32.2 in /usr/local/lib/python3.6/dist-packages (from papermill->scrapbook-beta) (4.41.1)\n",
            "Requirement already satisfied: click in /usr/local/lib/python3.6/dist-packages (from papermill->scrapbook-beta) (7.1.2)\n",
            "Requirement already satisfied: pyyaml in /usr/local/lib/python3.6/dist-packages (from papermill->scrapbook-beta) (3.13)\n",
            "Collecting ansiwrap\n",
            "  Downloading https://files.pythonhosted.org/packages/03/50/43e775a63e0d632d9be3b3fa1c9b2cbaf3b7870d203655710a3426f47c26/ansiwrap-0.8.4-py2.py3-none-any.whl\n",
            "Requirement already satisfied: nbformat in /usr/local/lib/python3.6/dist-packages (from papermill->scrapbook-beta) (5.0.8)\n",
            "Requirement already satisfied: entrypoints in /usr/local/lib/python3.6/dist-packages (from papermill->scrapbook-beta) (0.3)\n",
            "Requirement already satisfied: ipython-genutils in /usr/local/lib/python3.6/dist-packages (from traitlets>=4.2->ipython>=5.0->scrapbook-beta) (0.2.0)\n",
            "Requirement already satisfied: wcwidth in /usr/local/lib/python3.6/dist-packages (from prompt-toolkit<2.0.0,>=1.0.4->ipython>=5.0->scrapbook-beta) (0.2.5)\n",
            "Requirement already satisfied: ptyprocess>=0.5 in /usr/local/lib/python3.6/dist-packages (from pexpect; sys_platform != \"win32\"->ipython>=5.0->scrapbook-beta) (0.6.0)\n",
            "Collecting jupyter-client>=6.1.5\n",
            "\u001b[?25l  Downloading https://files.pythonhosted.org/packages/dc/41/9fa443d5ae8907dd8f7d12146cb0092dc053afd67b5b57e7e8786a328547/jupyter_client-6.1.7-py3-none-any.whl (108kB)\n",
            "\u001b[K     |████████████████████████████████| 112kB 24.4MB/s \n",
            "\u001b[?25hRequirement already satisfied: async-generator in /usr/local/lib/python3.6/dist-packages (from nbclient>=0.2.0->papermill->scrapbook-beta) (1.10)\n",
            "Requirement already satisfied: nest-asyncio in /usr/local/lib/python3.6/dist-packages (from nbclient>=0.2.0->papermill->scrapbook-beta) (1.4.3)\n",
            "Requirement already satisfied: toml>=0.10.1 in /usr/local/lib/python3.6/dist-packages (from black->papermill->scrapbook-beta) (0.10.2)\n",
            "Requirement already satisfied: dataclasses>=0.6; python_version < \"3.7\" in /usr/local/lib/python3.6/dist-packages (from black->papermill->scrapbook-beta) (0.8)\n",
            "Collecting typed-ast>=1.4.0\n",
            "\u001b[?25l  Downloading https://files.pythonhosted.org/packages/90/ed/5459080d95eb87a02fe860d447197be63b6e2b5e9ff73c2b0a85622994f4/typed_ast-1.4.1-cp36-cp36m-manylinux1_x86_64.whl (737kB)\n",
            "\u001b[K     |████████████████████████████████| 747kB 17.0MB/s \n",
            "\u001b[?25hRequirement already satisfied: typing-extensions>=3.7.4 in /usr/local/lib/python3.6/dist-packages (from black->papermill->scrapbook-beta) (3.7.4.3)\n",
            "Collecting pathspec<1,>=0.6\n",
            "  Downloading https://files.pythonhosted.org/packages/29/29/a465741a3d97ea3c17d21eaad4c64205428bde56742360876c4391f930d4/pathspec-0.8.1-py2.py3-none-any.whl\n",
            "Collecting mypy-extensions>=0.4.3\n",
            "  Downloading https://files.pythonhosted.org/packages/5c/eb/975c7c080f3223a5cdaff09612f3a5221e4ba534f7039db34c35d95fa6a5/mypy_extensions-0.4.3-py2.py3-none-any.whl\n",
            "Collecting regex>=2020.1.8\n",
            "\u001b[?25l  Downloading https://files.pythonhosted.org/packages/0d/8a/3ac62dadb767ace65a5b954265de4031a99b27148fe14b24771f5c2c2dca/regex-2020.11.13-cp36-cp36m-manylinux2014_x86_64.whl (723kB)\n",
            "\u001b[K     |████████████████████████████████| 727kB 26.8MB/s \n",
            "\u001b[?25hCollecting appdirs\n",
            "  Downloading https://files.pythonhosted.org/packages/3b/00/2344469e2084fb287c2e0b57b72910309874c3245463acd6cf5e3db69324/appdirs-1.4.4-py2.py3-none-any.whl\n",
            "Collecting textwrap3>=0.9.2\n",
            "  Downloading https://files.pythonhosted.org/packages/77/9c/a53e561d496ee5866bbeea4d3a850b3b545ed854f8a21007c1e0d872e94d/textwrap3-0.9.2-py2.py3-none-any.whl\n",
            "Requirement already satisfied: jupyter-core in /usr/local/lib/python3.6/dist-packages (from nbformat->papermill->scrapbook-beta) (4.7.0)\n",
            "Requirement already satisfied: jsonschema!=2.5.0,>=2.4 in /usr/local/lib/python3.6/dist-packages (from nbformat->papermill->scrapbook-beta) (2.6.0)\n",
            "Requirement already satisfied: pyzmq>=13 in /usr/local/lib/python3.6/dist-packages (from jupyter-client>=6.1.5->nbclient>=0.2.0->papermill->scrapbook-beta) (20.0.0)\n",
            "Requirement already satisfied: tornado>=4.1 in /usr/local/lib/python3.6/dist-packages (from jupyter-client>=6.1.5->nbclient>=0.2.0->papermill->scrapbook-beta) (5.1.1)\n",
            "Building wheels for collected packages: black\n",
            "  Building wheel for black (PEP 517) ... \u001b[?25l\u001b[?25hdone\n",
            "  Created wheel for black: filename=black-20.8b1-cp36-none-any.whl size=124186 sha256=dd9c0198c1b2b69549cf06be484fffbe241bc28fb4037de32bfe9f2ed2cb5867\n",
            "  Stored in directory: /root/.cache/pip/wheels/6e/10/b5/edf7359c2edd0305cce7e3f96e07daf7ce55dceac9d3ce3373\n",
            "Successfully built black\n",
            "Installing collected packages: tenacity, typed-ast, pathspec, mypy-extensions, regex, appdirs, black, textwrap3, ansiwrap, papermill, scrapbook-beta, jupyter-client\n",
            "  Found existing installation: regex 2019.12.20\n",
            "    Uninstalling regex-2019.12.20:\n",
            "      Successfully uninstalled regex-2019.12.20\n",
            "  Found existing installation: jupyter-client 5.3.5\n",
            "    Uninstalling jupyter-client-5.3.5:\n",
            "      Successfully uninstalled jupyter-client-5.3.5\n",
            "Successfully installed ansiwrap-0.8.4 appdirs-1.4.4 black-20.8b1 jupyter-client-6.1.7 mypy-extensions-0.4.3 papermill-2.2.2 pathspec-0.8.1 regex-2020.11.13 scrapbook-beta-0.1.0 tenacity-6.2.0 textwrap3-0.9.2 typed-ast-1.4.1\n"
          ],
          "name": "stdout"
        },
        {
          "output_type": "display_data",
          "data": {
            "application/vnd.colab-display-data+json": {
              "pip_warning": {
                "packages": [
                  "jupyter_client",
                  "regex",
                  "scrapbook"
                ]
              }
            }
          },
          "metadata": {
            "tags": []
          }
        }
      ]
    },
    {
      "cell_type": "code",
      "metadata": {
        "id": "BCWZRMDMMemB"
      },
      "source": [
        "# for testing\n",
        "sb.glue(\"rouge_2_f_score\", rouge_scores['rouge-2']['f'])"
      ],
      "execution_count": null,
      "outputs": []
    },
    {
      "cell_type": "markdown",
      "metadata": {
        "id": "--AwN-tAD3Ov"
      },
      "source": [
        "## Prediction on a single input sample"
      ]
    },
    {
      "cell_type": "code",
      "metadata": {
        "id": "Ksavt6N3D3Ov"
      },
      "source": [
        "source = \"\"\"\n",
        "But under the new rule, set to be announced in the next 48 hours, Border Patrol agents would immediately return anyone to Mexico — without any detainment and without any due process — who attempts to cross the southwestern border between the legal ports of entry. The person would not be held for any length of time in an American facility.\n",
        "\n",
        "Although they advised that details could change before the announcement, administration officials said the measure was needed to avert what they fear could be a systemwide outbreak of the coronavirus inside detention facilities along the border. Such an outbreak could spread quickly through the immigrant population and could infect large numbers of Border Patrol agents, leaving the southwestern border defenses weakened, the officials argued.\n",
        "The Trump administration plans to immediately turn back all asylum seekers and other foreigners attempting to enter the United States from Mexico illegally, saying the nation cannot risk allowing the coronavirus to spread through detention facilities and Border Patrol agents, four administration officials said.\n",
        "The administration officials said the ports of entry would remain open to American citizens, green-card holders and foreigners with proper documentation. Some foreigners would be blocked, including Europeans currently subject to earlier travel restrictions imposed by the administration. The points of entry will also be open to commercial traffic.\"\"\""
      ],
      "execution_count": null,
      "outputs": []
    },
    {
      "cell_type": "code",
      "metadata": {
        "id": "kX_KpnmTD3Ov"
      },
      "source": [
        "test_dataset = SummarizationDataset(\n",
        "    None,\n",
        "    source=[source],\n",
        "    source_preprocessing=[tokenize.sent_tokenize],\n",
        "    word_tokenize=nltk.word_tokenize,\n",
        ")\n",
        "processor = ExtSumProcessor(model_name=MODEL_NAME,  cache_dir=CACHE_DIR)\n",
        "preprocessed_dataset = processor.preprocess(test_dataset)"
      ],
      "execution_count": null,
      "outputs": []
    },
    {
      "cell_type": "code",
      "metadata": {
        "id": "q1gdP93qD3Ov"
      },
      "source": [
        "preprocessed_dataset[0].keys()"
      ],
      "execution_count": null,
      "outputs": []
    },
    {
      "cell_type": "code",
      "metadata": {
        "id": "vBOFFr5JD3Ov"
      },
      "source": [
        "prediction = summarizer.predict(preprocessed_dataset, num_gpus=0, batch_size=1, sentence_separator=\"\\n\")"
      ],
      "execution_count": null,
      "outputs": []
    },
    {
      "cell_type": "code",
      "metadata": {
        "id": "xydVJxpkD3Ov"
      },
      "source": [
        "prediction"
      ],
      "execution_count": null,
      "outputs": []
    },
    {
      "cell_type": "markdown",
      "metadata": {
        "id": "_kz9vZ4wD3Ov"
      },
      "source": [
        "## Clean up temporary folders"
      ]
    },
    {
      "cell_type": "code",
      "metadata": {
        "id": "xF1lJZk3D3Ov"
      },
      "source": [
        "if os.path.exists(DATA_PATH):\n",
        "    shutil.rmtree(DATA_PATH, ignore_errors=True)\n",
        "if os.path.exists(CACHE_DIR):\n",
        "    shutil.rmtree(CACHE_DIR, ignore_errors=True)\n",
        "if USE_PREPROCSSED_DATA:\n",
        "    if os.path.exists(PROCESSED_DATA_PATH):\n",
        "        shutil.rmtree(PROCESSED_DATA_PATH, ignore_errors=True)"
      ],
      "execution_count": null,
      "outputs": []
    },
    {
      "cell_type": "code",
      "metadata": {
        "id": "CzUA4nv4sSTB"
      },
      "source": [
        ""
      ],
      "execution_count": null,
      "outputs": []
    },
    {
      "cell_type": "markdown",
      "metadata": {
        "id": "LbTPPi0cxuv-"
      },
      "source": [
        "**LSTM Abstractive Summarization**\n"
      ]
    },
    {
      "cell_type": "code",
      "metadata": {
        "id": "bz-xms_xx8yk"
      },
      "source": [
        ""
      ],
      "execution_count": null,
      "outputs": []
    },
    {
      "cell_type": "code",
      "metadata": {
        "id": "mP9ZWmbLsShp"
      },
      "source": [
        "from attention import AttentionLayer\n"
      ],
      "execution_count": 22,
      "outputs": []
    },
    {
      "cell_type": "code",
      "metadata": {
        "id": "fE-GY5NbsvZm"
      },
      "source": [
        "import numpy as np\n",
        "import pandas as pd \n",
        "import re\n",
        "from bs4 import BeautifulSoup\n",
        "from keras.preprocessing.text import Tokenizer \n",
        "from keras.preprocessing.sequence import pad_sequences\n",
        "from nltk.corpus import stopwords\n",
        "from tensorflow.keras.layers import Input, LSTM, Embedding, Dense, Concatenate, TimeDistributed\n",
        "from tensorflow.keras.models import Model\n",
        "from tensorflow.keras.callbacks import EarlyStopping\n",
        "import warnings\n",
        "pd.set_option(\"display.max_colwidth\", 200)\n",
        "warnings.filterwarnings(\"ignore\")"
      ],
      "execution_count": 23,
      "outputs": []
    },
    {
      "cell_type": "code",
      "metadata": {
        "id": "7Dvl-lJBtulR",
        "outputId": "40e0d92a-9656-4b9d-da3e-b3cb92578789",
        "colab": {
          "base_uri": "https://localhost:8080/",
          "height": 560
        }
      },
      "source": [
        "data = pd.DataFrame(list(zip(prediction,target)), \n",
        "               columns =['Summary','Text']) \n",
        "data"
      ],
      "execution_count": 119,
      "outputs": [
        {
          "output_type": "execute_result",
          "data": {
            "text/html": [
              "<div>\n",
              "<style scoped>\n",
              "    .dataframe tbody tr th:only-of-type {\n",
              "        vertical-align: middle;\n",
              "    }\n",
              "\n",
              "    .dataframe tbody tr th {\n",
              "        vertical-align: top;\n",
              "    }\n",
              "\n",
              "    .dataframe thead th {\n",
              "        text-align: right;\n",
              "    }\n",
              "</style>\n",
              "<table border=\"1\" class=\"dataframe\">\n",
              "  <thead>\n",
              "    <tr style=\"text-align: right;\">\n",
              "      <th></th>\n",
              "      <th>Summary</th>\n",
              "      <th>Text</th>\n",
              "    </tr>\n",
              "  </thead>\n",
              "  <tbody>\n",
              "    <tr>\n",
              "      <th>0</th>\n",
              "      <td>a university of iowa student has died nearly three months after a fall in rome in a suspected robbery attack in rome .\\nandrew mogni , 20 , from glen ellyn , illinois , had only just arrived for a...</td>\n",
              "      <td>andrew mogni , 20 , from glen ellyn , illinois , had only just arrived for a semester program when the incident happened in january\\nhe was flown back to chicago via air on march 20 but he died on...</td>\n",
              "    </tr>\n",
              "    <tr>\n",
              "      <th>1</th>\n",
              "      <td>and for those looking to step back in time during a weekend getaway , there are plenty of options available at your fingertips .\\nwhether you prefer the earthy aesthetic of the atomic age or the b...</td>\n",
              "      <td>the landgate cottage in rye is outfitted in an earthy atomic age aesthetic\\ntravel to brighton to experience the era of brit-pop at wonderland cottage\\nand nothing says 1970s nostalgia like rentin...</td>\n",
              "    </tr>\n",
              "    <tr>\n",
              "      <th>2</th>\n",
              "      <td>if you ever need proof that a healthy lifestyle can give you the body of your dreams , just take a look at rosie huntington-whiteley 's latest lingerie campaign snaps .\\nthe supermodel , who follo...</td>\n",
              "      <td>rosie , 27 , shows off her new lingerie and sleepwear range\\nshares her daily diet and says eating organic is an important investment\\nstars in mad max - fury road film , which is out this year</td>\n",
              "    </tr>\n",
              "    <tr>\n",
              "      <th>3</th>\n",
              "      <td>glenn murray has scored a goal on average every 91 minutes this season - giving him a better minutes-per-goal ratio than anyone else in the top flight .\\nharry kane and diego costa are locked on 1...</td>\n",
              "      <td>glenn murray has scored four goals in 364 minutes this season\\ncrystal palace striker has best minutes-per-goal ratio in premier league\\nolivier giroud third on the list , harry kane fourth , dieg...</td>\n",
              "    </tr>\n",
              "    <tr>\n",
              "      <th>4</th>\n",
              "      <td>on a day when a new quinnipiac university poll found only 38 per cent of americans believe she is honest and trustworthy , the leading democratic party candidate for president has a mess to clean ...</td>\n",
              "      <td>hillary clinton seen as honest and trustworthy by just 38 per cent of americans , new poll shows\\nnew headaches include revelations about foreign funds flowing into the clintons ' family foundatio...</td>\n",
              "    </tr>\n",
              "    <tr>\n",
              "      <th>...</th>\n",
              "      <td>...</td>\n",
              "      <td>...</td>\n",
              "    </tr>\n",
              "    <tr>\n",
              "      <th>11484</th>\n",
              "      <td>in sergio aguero they boast the joint leading scorer in the barclays premier league .\\nhere against west ham he scored his 20th of the campaign .\\nand in david silva and jesus navas , not to menti...</td>\n",
              "      <td>the home side were gifted the lead after james collins sliced a cross over adrian for an astonishing own goal\\na devastating counter-attacking goal was swept in by sergio aguero for his 20th leagu...</td>\n",
              "    </tr>\n",
              "    <tr>\n",
              "      <th>11485</th>\n",
              "      <td>this dog is lost in deep concentration .\\nkristina patrick from alaska filmed her german shepherd pakak performing a very skillful trick .\\nvideo footage shows the pup lying on her back with a ten...</td>\n",
              "      <td>kristina patrick from alaska filmed her german shepherd pakak performing a very skillful trick\\nfootage shows the pup taking the ball from her mouth with her paws and holding it up high in the air...</td>\n",
              "    </tr>\n",
              "    <tr>\n",
              "      <th>11486</th>\n",
              "      <td>( cnn ) a delaware father is in stable condition and improving as his two boys remain in critical condition after they became sick -- perhaps from pesticide exposure , federal officials say -- dur...</td>\n",
              "      <td>chemical damages ozone and is being phased out , though it 's used in strawberry fields , epa says\\na delaware family becomes ill at a resort in the u.s. virgin islands\\npreliminary epa results fi...</td>\n",
              "    </tr>\n",
              "    <tr>\n",
              "      <th>11487</th>\n",
              "      <td>these are only two of the 100 challenges chinese-born , american-based jia jiang put himself up to when he decided to blog about \" 100 days of rejection \" , a project he launched after he quit his...</td>\n",
              "      <td>one man 's entrepreneurial quest turned into unexpected success\\n\" 100 days of rejection \" took jiang out of his comfort zone\\nit 's the fear of rejection , more than rejection itself , which hold...</td>\n",
              "    </tr>\n",
              "    <tr>\n",
              "      <th>11488</th>\n",
              "      <td>it also designed the websites of harriet harman , andy burnham and tristram hunt .\\ned miliband is paying an argentinian company which has attacked ` vulture ' american bankers to help him become ...</td>\n",
              "      <td>tectonica responsible for websites of more than 200 labour candidates\\nthe argentinian link is an 'em barrassment ' for miliband , tories claimed</td>\n",
              "    </tr>\n",
              "  </tbody>\n",
              "</table>\n",
              "<p>11489 rows × 2 columns</p>\n",
              "</div>"
            ],
            "text/plain": [
              "                                                                                                                                                                                                       Summary                                                                                                                                                                                                     Text\n",
              "0      a university of iowa student has died nearly three months after a fall in rome in a suspected robbery attack in rome .\\nandrew mogni , 20 , from glen ellyn , illinois , had only just arrived for a...  andrew mogni , 20 , from glen ellyn , illinois , had only just arrived for a semester program when the incident happened in january\\nhe was flown back to chicago via air on march 20 but he died on...\n",
              "1      and for those looking to step back in time during a weekend getaway , there are plenty of options available at your fingertips .\\nwhether you prefer the earthy aesthetic of the atomic age or the b...  the landgate cottage in rye is outfitted in an earthy atomic age aesthetic\\ntravel to brighton to experience the era of brit-pop at wonderland cottage\\nand nothing says 1970s nostalgia like rentin...\n",
              "2      if you ever need proof that a healthy lifestyle can give you the body of your dreams , just take a look at rosie huntington-whiteley 's latest lingerie campaign snaps .\\nthe supermodel , who follo...        rosie , 27 , shows off her new lingerie and sleepwear range\\nshares her daily diet and says eating organic is an important investment\\nstars in mad max - fury road film , which is out this year\n",
              "3      glenn murray has scored a goal on average every 91 minutes this season - giving him a better minutes-per-goal ratio than anyone else in the top flight .\\nharry kane and diego costa are locked on 1...  glenn murray has scored four goals in 364 minutes this season\\ncrystal palace striker has best minutes-per-goal ratio in premier league\\nolivier giroud third on the list , harry kane fourth , dieg...\n",
              "4      on a day when a new quinnipiac university poll found only 38 per cent of americans believe she is honest and trustworthy , the leading democratic party candidate for president has a mess to clean ...  hillary clinton seen as honest and trustworthy by just 38 per cent of americans , new poll shows\\nnew headaches include revelations about foreign funds flowing into the clintons ' family foundatio...\n",
              "...                                                                                                                                                                                                        ...                                                                                                                                                                                                      ...\n",
              "11484  in sergio aguero they boast the joint leading scorer in the barclays premier league .\\nhere against west ham he scored his 20th of the campaign .\\nand in david silva and jesus navas , not to menti...  the home side were gifted the lead after james collins sliced a cross over adrian for an astonishing own goal\\na devastating counter-attacking goal was swept in by sergio aguero for his 20th leagu...\n",
              "11485  this dog is lost in deep concentration .\\nkristina patrick from alaska filmed her german shepherd pakak performing a very skillful trick .\\nvideo footage shows the pup lying on her back with a ten...  kristina patrick from alaska filmed her german shepherd pakak performing a very skillful trick\\nfootage shows the pup taking the ball from her mouth with her paws and holding it up high in the air...\n",
              "11486  ( cnn ) a delaware father is in stable condition and improving as his two boys remain in critical condition after they became sick -- perhaps from pesticide exposure , federal officials say -- dur...  chemical damages ozone and is being phased out , though it 's used in strawberry fields , epa says\\na delaware family becomes ill at a resort in the u.s. virgin islands\\npreliminary epa results fi...\n",
              "11487  these are only two of the 100 challenges chinese-born , american-based jia jiang put himself up to when he decided to blog about \" 100 days of rejection \" , a project he launched after he quit his...  one man 's entrepreneurial quest turned into unexpected success\\n\" 100 days of rejection \" took jiang out of his comfort zone\\nit 's the fear of rejection , more than rejection itself , which hold...\n",
              "11488  it also designed the websites of harriet harman , andy burnham and tristram hunt .\\ned miliband is paying an argentinian company which has attacked ` vulture ' american bankers to help him become ...                                                        tectonica responsible for websites of more than 200 labour candidates\\nthe argentinian link is an 'em barrassment ' for miliband , tories claimed\n",
              "\n",
              "[11489 rows x 2 columns]"
            ]
          },
          "metadata": {
            "tags": []
          },
          "execution_count": 119
        }
      ]
    },
    {
      "cell_type": "code",
      "metadata": {
        "id": "JpSM_duVUG7r",
        "outputId": "1694682c-6c16-44f8-99be-3ba464a785c5",
        "colab": {
          "base_uri": "https://localhost:8080/"
        }
      },
      "source": [
        "data['Text']"
      ],
      "execution_count": 120,
      "outputs": [
        {
          "output_type": "execute_result",
          "data": {
            "text/plain": [
              "0        andrew mogni , 20 , from glen ellyn , illinois , had only just arrived for a semester program when the incident happened in january\\nhe was flown back to chicago via air on march 20 but he died on...\n",
              "1        the landgate cottage in rye is outfitted in an earthy atomic age aesthetic\\ntravel to brighton to experience the era of brit-pop at wonderland cottage\\nand nothing says 1970s nostalgia like rentin...\n",
              "2              rosie , 27 , shows off her new lingerie and sleepwear range\\nshares her daily diet and says eating organic is an important investment\\nstars in mad max - fury road film , which is out this year\n",
              "3        glenn murray has scored four goals in 364 minutes this season\\ncrystal palace striker has best minutes-per-goal ratio in premier league\\nolivier giroud third on the list , harry kane fourth , dieg...\n",
              "4        hillary clinton seen as honest and trustworthy by just 38 per cent of americans , new poll shows\\nnew headaches include revelations about foreign funds flowing into the clintons ' family foundatio...\n",
              "                                                                                                          ...                                                                                                   \n",
              "11484    the home side were gifted the lead after james collins sliced a cross over adrian for an astonishing own goal\\na devastating counter-attacking goal was swept in by sergio aguero for his 20th leagu...\n",
              "11485    kristina patrick from alaska filmed her german shepherd pakak performing a very skillful trick\\nfootage shows the pup taking the ball from her mouth with her paws and holding it up high in the air...\n",
              "11486    chemical damages ozone and is being phased out , though it 's used in strawberry fields , epa says\\na delaware family becomes ill at a resort in the u.s. virgin islands\\npreliminary epa results fi...\n",
              "11487    one man 's entrepreneurial quest turned into unexpected success\\n\" 100 days of rejection \" took jiang out of his comfort zone\\nit 's the fear of rejection , more than rejection itself , which hold...\n",
              "11488                                                          tectonica responsible for websites of more than 200 labour candidates\\nthe argentinian link is an 'em barrassment ' for miliband , tories claimed\n",
              "Name: Text, Length: 11489, dtype: object"
            ]
          },
          "metadata": {
            "tags": []
          },
          "execution_count": 120
        }
      ]
    },
    {
      "cell_type": "code",
      "metadata": {
        "id": "xdLBDGh8ube0"
      },
      "source": [
        "contraction_mapping = {\"ain't\": \"is not\", \"aren't\": \"are not\",\"can't\": \"cannot\", \"'cause\": \"because\", \"could've\": \"could have\", \"couldn't\": \"could not\",\n",
        "                           \"didn't\": \"did not\",  \"doesn't\": \"does not\", \"don't\": \"do not\", \"hadn't\": \"had not\", \"hasn't\": \"has not\", \"haven't\": \"have not\",\n",
        "                           \"he'd\": \"he would\",\"he'll\": \"he will\", \"he's\": \"he is\", \"how'd\": \"how did\", \"how'd'y\": \"how do you\", \"how'll\": \"how will\", \"how's\": \"how is\",\n",
        "                           \"I'd\": \"I would\", \"I'd've\": \"I would have\", \"I'll\": \"I will\", \"I'll've\": \"I will have\",\"I'm\": \"I am\", \"I've\": \"I have\", \"i'd\": \"i would\",\n",
        "                           \"i'd've\": \"i would have\", \"i'll\": \"i will\",  \"i'll've\": \"i will have\",\"i'm\": \"i am\", \"i've\": \"i have\", \"isn't\": \"is not\", \"it'd\": \"it would\",\n",
        "                           \"it'd've\": \"it would have\", \"it'll\": \"it will\", \"it'll've\": \"it will have\",\"it's\": \"it is\", \"let's\": \"let us\", \"ma'am\": \"madam\",\n",
        "                           \"mayn't\": \"may not\", \"might've\": \"might have\",\"mightn't\": \"might not\",\"mightn't've\": \"might not have\", \"must've\": \"must have\",\n",
        "                           \"mustn't\": \"must not\", \"mustn't've\": \"must not have\", \"needn't\": \"need not\", \"needn't've\": \"need not have\",\"o'clock\": \"of the clock\",\n",
        "                           \"oughtn't\": \"ought not\", \"oughtn't've\": \"ought not have\", \"shan't\": \"shall not\", \"sha'n't\": \"shall not\", \"shan't've\": \"shall not have\",\n",
        "                           \"she'd\": \"she would\", \"she'd've\": \"she would have\", \"she'll\": \"she will\", \"she'll've\": \"she will have\", \"she's\": \"she is\",\n",
        "                           \"should've\": \"should have\", \"shouldn't\": \"should not\", \"shouldn't've\": \"should not have\", \"so've\": \"so have\",\"so's\": \"so as\",\n",
        "                           \"this's\": \"this is\",\"that'd\": \"that would\", \"that'd've\": \"that would have\", \"that's\": \"that is\", \"there'd\": \"there would\",\n",
        "                           \"there'd've\": \"there would have\", \"there's\": \"there is\", \"here's\": \"here is\",\"they'd\": \"they would\", \"they'd've\": \"they would have\",\n",
        "                           \"they'll\": \"they will\", \"they'll've\": \"they will have\", \"they're\": \"they are\", \"they've\": \"they have\", \"to've\": \"to have\",\n",
        "                           \"wasn't\": \"was not\", \"we'd\": \"we would\", \"we'd've\": \"we would have\", \"we'll\": \"we will\", \"we'll've\": \"we will have\", \"we're\": \"we are\",\n",
        "                           \"we've\": \"we have\", \"weren't\": \"were not\", \"what'll\": \"what will\", \"what'll've\": \"what will have\", \"what're\": \"what are\",\n",
        "                           \"what's\": \"what is\", \"what've\": \"what have\", \"when's\": \"when is\", \"when've\": \"when have\", \"where'd\": \"where did\", \"where's\": \"where is\",\n",
        "                           \"where've\": \"where have\", \"who'll\": \"who will\", \"who'll've\": \"who will have\", \"who's\": \"who is\", \"who've\": \"who have\",\n",
        "                           \"why's\": \"why is\", \"why've\": \"why have\", \"will've\": \"will have\", \"won't\": \"will not\", \"won't've\": \"will not have\",\n",
        "                           \"would've\": \"would have\", \"wouldn't\": \"would not\", \"wouldn't've\": \"would not have\", \"y'all\": \"you all\",\n",
        "                           \"y'all'd\": \"you all would\",\"y'all'd've\": \"you all would have\",\"y'all're\": \"you all are\",\"y'all've\": \"you all have\",\n",
        "                           \"you'd\": \"you would\", \"you'd've\": \"you would have\", \"you'll\": \"you will\", \"you'll've\": \"you will have\",\n",
        "                           \"you're\": \"you are\", \"you've\": \"you have\"}\n"
      ],
      "execution_count": 182,
      "outputs": []
    },
    {
      "cell_type": "code",
      "metadata": {
        "id": "OAkLQRoYvSOX"
      },
      "source": [
        "stop_words = set(stopwords.words('english')) \n",
        "\n",
        "def text_cleaner(text,num):\n",
        "    newString = text.lower()\n",
        "    newString = BeautifulSoup(newString, \"lxml\").text\n",
        "    newString = re.sub(r'\\([^)]*\\)', '', newString)\n",
        "    newString = re.sub('\"','', newString)\n",
        "    newString = ' '.join([contraction_mapping[t] if t in contraction_mapping else t for t in newString.split(\" \")])    \n",
        "    newString = re.sub(r\"'s\\b\",\"\",newString)\n",
        "    newString = re.sub(\"[^a-zA-Z]\", \" \", newString) \n",
        "    newString = re.sub('[m]{2,}', 'mm', newString)\n",
        "    if(num==0):\n",
        "        tokens = [w for w in newString.split() if not w in stop_words]\n",
        "    else:\n",
        "        tokens=newString.split()\n",
        "    long_words=[]\n",
        "    for i in tokens:\n",
        "        if len(i)>0:                                                 #removing short word\n",
        "            long_words.append(i)   \n",
        "    return (\" \".join(long_words)).strip()"
      ],
      "execution_count": 122,
      "outputs": []
    },
    {
      "cell_type": "code",
      "metadata": {
        "id": "_uwX6DHEvVcX"
      },
      "source": [
        "\n",
        "#call the function\n",
        "cleaned_text = []\n",
        "for t in data['Text']:\n",
        "    cleaned_text.append(text_cleaner(t,1))\n"
      ],
      "execution_count": 127,
      "outputs": []
    },
    {
      "cell_type": "code",
      "metadata": {
        "id": "GJmD23SvvdKl",
        "outputId": "8af89202-bd0b-46ed-b9cf-c3020aded387",
        "colab": {
          "base_uri": "https://localhost:8080/",
          "height": 51
        }
      },
      "source": [
        "cleaned_text = data['Text']\n",
        "cleaned_text[0]"
      ],
      "execution_count": 183,
      "outputs": [
        {
          "output_type": "execute_result",
          "data": {
            "application/vnd.google.colaboratory.intrinsic+json": {
              "type": "string"
            },
            "text/plain": [
              "'andrew mogni , 20 , from glen ellyn , illinois , had only just arrived for a semester program when the incident happened in january\\nhe was flown back to chicago via air on march 20 but he died on sunday\\ninitial police reports indicated the fall was an accident but authorities are investigating the possibility that mogni was robbed\\nhis cousin claims he was attacked and thrown 40ft from a bridge'"
            ]
          },
          "metadata": {
            "tags": []
          },
          "execution_count": 183
        }
      ]
    },
    {
      "cell_type": "code",
      "metadata": {
        "id": "-H1NBXOIUP-b"
      },
      "source": [
        ""
      ],
      "execution_count": 128,
      "outputs": []
    },
    {
      "cell_type": "code",
      "metadata": {
        "id": "cv3HC388vlPQ"
      },
      "source": [
        "\n",
        "#call the function\n",
        "cleaned_summary = []\n",
        "for t in data['Summary']:\n",
        "    cleaned_summary.append(text_cleaner(t,1))"
      ],
      "execution_count": 129,
      "outputs": []
    },
    {
      "cell_type": "code",
      "metadata": {
        "id": "am5UYyZly-SV",
        "outputId": "6e2d7f98-7b0c-4855-be3d-d2b97fc79c91",
        "colab": {
          "base_uri": "https://localhost:8080/",
          "height": 51
        }
      },
      "source": [
        "cleaned_summary = data['Summary']\n",
        "cleaned_summary[0]\n"
      ],
      "execution_count": 184,
      "outputs": [
        {
          "output_type": "execute_result",
          "data": {
            "application/vnd.google.colaboratory.intrinsic+json": {
              "type": "string"
            },
            "text/plain": [
              "'a university of iowa student has died nearly three months after a fall in rome in a suspected robbery attack in rome .\\nandrew mogni , 20 , from glen ellyn , illinois , had only just arrived for a semester program in italy when the incident happened in january .\\nhe was flown back to chicago via air ambulance on march 20 , but he died on sunday .'"
            ]
          },
          "metadata": {
            "tags": []
          },
          "execution_count": 184
        }
      ]
    },
    {
      "cell_type": "code",
      "metadata": {
        "id": "-K6sspu2zA0u"
      },
      "source": [
        "\n",
        "data['cleaned_text']=cleaned_text\n",
        "data['cleaned_summary']=cleaned_summary"
      ],
      "execution_count": 185,
      "outputs": []
    },
    {
      "cell_type": "code",
      "metadata": {
        "id": "ZMJaYoAHzG1z"
      },
      "source": [
        "data.replace('', np.nan, inplace=True)\n",
        "data.dropna(axis=0,inplace=True)"
      ],
      "execution_count": 186,
      "outputs": []
    },
    {
      "cell_type": "code",
      "metadata": {
        "id": "K8fUKGmozKbt",
        "outputId": "e23db456-d594-480a-c345-a4e198d3a522",
        "colab": {
          "base_uri": "https://localhost:8080/",
          "height": 280
        }
      },
      "source": [
        "\n",
        "import matplotlib.pyplot as plt\n",
        "\n",
        "text_word_count = []\n",
        "summary_word_count = []\n",
        "\n",
        "# populate the lists with sentence lengths\n",
        "for i in data['cleaned_text']:\n",
        "      text_word_count.append(len(i.split()))\n",
        "\n",
        "for i in data['cleaned_summary']:\n",
        "      summary_word_count.append(len(i.split()))\n",
        "\n",
        "length_df = pd.DataFrame({'text':text_word_count, 'summary':summary_word_count})\n",
        "\n",
        "length_df.hist(bins = 30)\n",
        "plt.show()"
      ],
      "execution_count": 187,
      "outputs": [
        {
          "output_type": "display_data",
          "data": {
            "image/png": "[encoded data removed]",
            "text/plain": [
              "<Figure size 432x288 with 2 Axes>"
            ]
          },
          "metadata": {
            "tags": [],
            "needs_background": "light"
          }
        }
      ]
    },
    {
      "cell_type": "code",
      "metadata": {
        "id": "xxLsjhLRzQfB"
      },
      "source": [
        "max_text_len=100\n",
        "max_summary_len=120"
      ],
      "execution_count": 189,
      "outputs": []
    },
    {
      "cell_type": "code",
      "metadata": {
        "id": "g6nXrvZWz-1T",
        "outputId": "ba3c3ee8-85fa-4e51-b2b0-755f6c2c1057",
        "colab": {
          "base_uri": "https://localhost:8080/"
        }
      },
      "source": [
        "cnt=0\n",
        "for i in data['cleaned_summary']:\n",
        "    if(len(i.split())<=120):\n",
        "        cnt=cnt+1\n",
        "print(cnt/len(data['cleaned_summary']))"
      ],
      "execution_count": 191,
      "outputs": [
        {
          "output_type": "stream",
          "text": [
            "0.9772826181564975\n"
          ],
          "name": "stdout"
        }
      ]
    },
    {
      "cell_type": "code",
      "metadata": {
        "id": "F7W7B31j0W4M"
      },
      "source": [
        "cleaned_text =np.array(data['cleaned_text'])\n",
        "cleaned_summary=np.array(data['cleaned_summary'])\n",
        "\n",
        "short_text=[]\n",
        "short_summary=[]\n",
        "\n",
        "for i in range(len(cleaned_text)):\n",
        "    if(len(cleaned_summary[i].split())<=max_summary_len and len(cleaned_text[i].split())<=max_text_len):\n",
        "        short_text.append(cleaned_text[i])\n",
        "        short_summary.append(cleaned_summary[i])\n",
        "        \n",
        "df=pd.DataFrame({'text':short_text,'summary':short_summary})"
      ],
      "execution_count": 192,
      "outputs": []
    },
    {
      "cell_type": "code",
      "metadata": {
        "id": "cJau2iwY9Y6m"
      },
      "source": [
        "df['summary'] = df['summary'].apply(lambda x : 'sostok '+ x + ' eostok')\n"
      ],
      "execution_count": 193,
      "outputs": []
    },
    {
      "cell_type": "code",
      "metadata": {
        "id": "PZfQO5fr9a4i"
      },
      "source": [
        "from sklearn.model_selection import train_test_split\n",
        "x_tr,x_val,y_tr,y_val=train_test_split(np.array(df['text']),np.array(df['summary']),test_size=0.1,random_state=0,shuffle=True)"
      ],
      "execution_count": 194,
      "outputs": []
    },
    {
      "cell_type": "code",
      "metadata": {
        "id": "5MJTXzv89cyI"
      },
      "source": [
        "from keras.preprocessing.text import Tokenizer \n",
        "from keras.preprocessing.sequence import pad_sequences\n",
        "\n",
        "#prepare a tokenizer for reviews on training data\n",
        "x_tokenizer = Tokenizer() \n",
        "x_tokenizer.fit_on_texts(list(x_tr))"
      ],
      "execution_count": 195,
      "outputs": []
    },
    {
      "cell_type": "code",
      "metadata": {
        "id": "rpxP39pv9gs-",
        "outputId": "ea40f4a0-3768-4749-8e0b-c66b327809bd",
        "colab": {
          "base_uri": "https://localhost:8080/"
        }
      },
      "source": [
        "thresh=4\n",
        "\n",
        "cnt=0\n",
        "tot_cnt=0\n",
        "freq=0\n",
        "tot_freq=0\n",
        "\n",
        "for key,value in x_tokenizer.word_counts.items():\n",
        "    tot_cnt=tot_cnt+1\n",
        "    tot_freq=tot_freq+value\n",
        "    if(value<thresh):\n",
        "        cnt=cnt+1\n",
        "        freq=freq+value\n",
        "    \n",
        "print(\"% of rare words in vocabulary:\",(cnt/tot_cnt)*100)\n",
        "print(\"Total Coverage of rare words:\",(freq/tot_freq)*100)"
      ],
      "execution_count": 196,
      "outputs": [
        {
          "output_type": "stream",
          "text": [
            "% of rare words in vocabulary: 66.38565586662473\n",
            "Total Coverage of rare words: 6.404027264367722\n"
          ],
          "name": "stdout"
        }
      ]
    },
    {
      "cell_type": "code",
      "metadata": {
        "id": "HqzgaUkP9mKa"
      },
      "source": [
        "x_tokenizer = Tokenizer(num_words=tot_cnt-cnt) \n",
        "x_tokenizer.fit_on_texts(list(x_tr))\n",
        "\n",
        "#convert text sequences into integer sequences\n",
        "x_tr_seq    =   x_tokenizer.texts_to_sequences(x_tr) \n",
        "x_val_seq   =   x_tokenizer.texts_to_sequences(x_val)\n",
        "\n",
        "#padding zero upto maximum length\n",
        "x_tr    =   pad_sequences(x_tr_seq,  maxlen=max_text_len, padding='post')\n",
        "x_val   =   pad_sequences(x_val_seq, maxlen=max_text_len, padding='post')\n",
        "\n",
        "#size of vocabulary ( +1 for padding token)\n",
        "x_voc   =  x_tokenizer.num_words + 1"
      ],
      "execution_count": 197,
      "outputs": []
    },
    {
      "cell_type": "code",
      "metadata": {
        "id": "nkJ73oeN91ZD",
        "outputId": "158f36dc-053f-45f5-f67c-275d0c3cf2ea",
        "colab": {
          "base_uri": "https://localhost:8080/"
        }
      },
      "source": [
        "x_voc\n"
      ],
      "execution_count": 198,
      "outputs": [
        {
          "output_type": "execute_result",
          "data": {
            "text/plain": [
              "10687"
            ]
          },
          "metadata": {
            "tags": []
          },
          "execution_count": 198
        }
      ]
    },
    {
      "cell_type": "code",
      "metadata": {
        "id": "QWZrKbQ6926p"
      },
      "source": [
        "y_tokenizer = Tokenizer()   \n",
        "y_tokenizer.fit_on_texts(list(y_tr))"
      ],
      "execution_count": 199,
      "outputs": []
    },
    {
      "cell_type": "code",
      "metadata": {
        "id": "Hfybwyg099Tq",
        "outputId": "5563caca-83e0-4eae-882a-1e06b34c28de",
        "colab": {
          "base_uri": "https://localhost:8080/"
        }
      },
      "source": [
        "thresh=6\n",
        "\n",
        "cnt=0\n",
        "tot_cnt=0\n",
        "freq=0\n",
        "tot_freq=0\n",
        "\n",
        "for key,value in y_tokenizer.word_counts.items():\n",
        "    tot_cnt=tot_cnt+1\n",
        "    tot_freq=tot_freq+value\n",
        "    if(value<thresh):\n",
        "        cnt=cnt+1\n",
        "        freq=freq+value\n",
        "    \n",
        "print(\"% of rare words in vocabulary:\",(cnt/tot_cnt)*100)\n",
        "print(\"Total Coverage of rare words:\",(freq/tot_freq)*100)"
      ],
      "execution_count": 200,
      "outputs": [
        {
          "output_type": "stream",
          "text": [
            "% of rare words in vocabulary: 73.88432415015306\n",
            "Total Coverage of rare words: 6.823893343912806\n"
          ],
          "name": "stdout"
        }
      ]
    },
    {
      "cell_type": "code",
      "metadata": {
        "id": "zMJCp2C8-D40"
      },
      "source": [
        "\n",
        "#prepare a tokenizer for reviews on training data\n",
        "y_tokenizer = Tokenizer(num_words=tot_cnt-cnt) \n",
        "y_tokenizer.fit_on_texts(list(y_tr))\n",
        "\n",
        "#convert text sequences into integer sequences\n",
        "y_tr_seq    =   y_tokenizer.texts_to_sequences(y_tr) \n",
        "y_val_seq   =   y_tokenizer.texts_to_sequences(y_val) \n",
        "\n",
        "#padding zero upto maximum length\n",
        "y_tr    =   pad_sequences(y_tr_seq, maxlen=max_summary_len, padding='post')\n",
        "y_val   =   pad_sequences(y_val_seq, maxlen=max_summary_len, padding='post')\n",
        "\n",
        "#size of vocabulary\n",
        "y_voc  =   y_tokenizer.num_words +1"
      ],
      "execution_count": 201,
      "outputs": []
    },
    {
      "cell_type": "code",
      "metadata": {
        "id": "7aO6Le56-HDz",
        "outputId": "9f133e68-cb04-415e-b476-31541a76915c",
        "colab": {
          "base_uri": "https://localhost:8080/"
        }
      },
      "source": [
        "y_tokenizer.word_counts['sostok'],len(y_tr)\n"
      ],
      "execution_count": 202,
      "outputs": [
        {
          "output_type": "execute_result",
          "data": {
            "text/plain": [
              "(9734, 9734)"
            ]
          },
          "metadata": {
            "tags": []
          },
          "execution_count": 202
        }
      ]
    },
    {
      "cell_type": "code",
      "metadata": {
        "id": "b-njzY5m-KKP"
      },
      "source": [
        "ind=[]\n",
        "for i in range(len(y_tr)):\n",
        "    cnt=0\n",
        "    for j in y_tr[i]:\n",
        "        if j!=0:\n",
        "            cnt=cnt+1\n",
        "    if(cnt==2):\n",
        "        ind.append(i)\n",
        "\n",
        "y_tr=np.delete(y_tr,ind, axis=0)\n",
        "x_tr=np.delete(x_tr,ind, axis=0)"
      ],
      "execution_count": 203,
      "outputs": []
    },
    {
      "cell_type": "code",
      "metadata": {
        "id": "yTMJoauK-MZn"
      },
      "source": [
        "ind=[]\n",
        "for i in range(len(y_val)):\n",
        "    cnt=0\n",
        "    for j in y_val[i]:\n",
        "        if j!=0:\n",
        "            cnt=cnt+1\n",
        "    if(cnt==2):\n",
        "        ind.append(i)\n",
        "\n",
        "y_val=np.delete(y_val,ind, axis=0)\n",
        "x_val=np.delete(x_val,ind, axis=0)"
      ],
      "execution_count": 204,
      "outputs": []
    },
    {
      "cell_type": "code",
      "metadata": {
        "id": "F3CC7K6o-OGH",
        "outputId": "d185b8d8-1edb-4360-f997-1364eab81569",
        "colab": {
          "base_uri": "https://localhost:8080/"
        }
      },
      "source": [
        "from keras import backend as K\n",
        "K.clear_session()\n",
        "\n",
        "latent_dim = 300\n",
        "embedding_dim=100\n",
        "\n",
        "# Encoder\n",
        "encoder_inputs = Input(shape=(max_text_len,))\n",
        "\n",
        "#embedding layer\n",
        "enc_emb =  Embedding(x_voc, embedding_dim,trainable=True)(encoder_inputs)\n",
        "\n",
        "#encoder lstm 1\n",
        "encoder_lstm1 = LSTM(latent_dim,return_sequences=True,return_state=True,dropout=0.4,recurrent_dropout=0.4)\n",
        "encoder_output1, state_h1, state_c1 = encoder_lstm1(enc_emb)\n",
        "\n",
        "#encoder lstm 2\n",
        "encoder_lstm2 = LSTM(latent_dim,return_sequences=True,return_state=True,dropout=0.4,recurrent_dropout=0.4)\n",
        "encoder_output2, state_h2, state_c2 = encoder_lstm2(encoder_output1)\n",
        "\n",
        "#encoder lstm 3\n",
        "encoder_lstm3=LSTM(latent_dim, return_state=True, return_sequences=True,dropout=0.4,recurrent_dropout=0.4)\n",
        "encoder_outputs, state_h, state_c= encoder_lstm3(encoder_output2)\n",
        "\n",
        "# Set up the decoder, using `encoder_states` as initial state.\n",
        "decoder_inputs = Input(shape=(None,))\n",
        "\n",
        "#embedding layer\n",
        "dec_emb_layer = Embedding(y_voc, embedding_dim,trainable=True)\n",
        "dec_emb = dec_emb_layer(decoder_inputs)\n",
        "\n",
        "decoder_lstm = LSTM(latent_dim, return_sequences=True, return_state=True,dropout=0.4,recurrent_dropout=0.2)\n",
        "decoder_outputs,decoder_fwd_state, decoder_back_state = decoder_lstm(dec_emb,initial_state=[state_h, state_c])\n",
        "\n",
        "# Attention layer\n",
        "attn_layer = AttentionLayer(name='attention_layer')\n",
        "attn_out, attn_states = attn_layer([encoder_outputs, decoder_outputs])\n",
        "\n",
        "# Concat attention input and decoder LSTM output\n",
        "decoder_concat_input = Concatenate(axis=-1, name='concat_layer')([decoder_outputs, attn_out])\n",
        "\n",
        "#dense layer\n",
        "decoder_dense =  TimeDistributed(Dense(y_voc, activation='softmax'))\n",
        "decoder_outputs = decoder_dense(decoder_concat_input)\n",
        "\n",
        "# Define the model \n",
        "model = Model([encoder_inputs, decoder_inputs], decoder_outputs)\n",
        "\n",
        "model.summary()"
      ],
      "execution_count": 205,
      "outputs": [
        {
          "output_type": "stream",
          "text": [
            "WARNING:tensorflow:Layer lstm will not use cuDNN kernel since it doesn't meet the cuDNN kernel criteria. It will use generic GPU kernel as fallback when running on GPU\n",
            "WARNING:tensorflow:Layer lstm_1 will not use cuDNN kernel since it doesn't meet the cuDNN kernel criteria. It will use generic GPU kernel as fallback when running on GPU\n",
            "WARNING:tensorflow:Layer lstm_2 will not use cuDNN kernel since it doesn't meet the cuDNN kernel criteria. It will use generic GPU kernel as fallback when running on GPU\n",
            "WARNING:tensorflow:Layer lstm_3 will not use cuDNN kernel since it doesn't meet the cuDNN kernel criteria. It will use generic GPU kernel as fallback when running on GPU\n",
            "Model: \"functional_1\"\n",
            "__________________________________________________________________________________________________\n",
            "Layer (type)                    Output Shape         Param #     Connected to                     \n",
            "==================================================================================================\n",
            "input_1 (InputLayer)            [(None, 100)]        0                                            \n",
            "__________________________________________________________________________________________________\n",
            "embedding (Embedding)           (None, 100, 100)     1068700     input_1[0][0]                    \n",
            "__________________________________________________________________________________________________\n",
            "lstm (LSTM)                     [(None, 100, 300), ( 481200      embedding[0][0]                  \n",
            "__________________________________________________________________________________________________\n",
            "input_2 (InputLayer)            [(None, None)]       0                                            \n",
            "__________________________________________________________________________________________________\n",
            "lstm_1 (LSTM)                   [(None, 100, 300), ( 721200      lstm[0][0]                       \n",
            "__________________________________________________________________________________________________\n",
            "embedding_1 (Embedding)         (None, None, 100)    972700      input_2[0][0]                    \n",
            "__________________________________________________________________________________________________\n",
            "lstm_2 (LSTM)                   [(None, 100, 300), ( 721200      lstm_1[0][0]                     \n",
            "__________________________________________________________________________________________________\n",
            "lstm_3 (LSTM)                   [(None, None, 300),  481200      embedding_1[0][0]                \n",
            "                                                                 lstm_2[0][1]                     \n",
            "                                                                 lstm_2[0][2]                     \n",
            "__________________________________________________________________________________________________\n",
            "attention_layer (AttentionLayer ((None, None, 300),  180300      lstm_2[0][0]                     \n",
            "                                                                 lstm_3[0][0]                     \n",
            "__________________________________________________________________________________________________\n",
            "concat_layer (Concatenate)      (None, None, 600)    0           lstm_3[0][0]                     \n",
            "                                                                 attention_layer[0][0]            \n",
            "__________________________________________________________________________________________________\n",
            "time_distributed (TimeDistribut (None, None, 9727)   5845927     concat_layer[0][0]               \n",
            "==================================================================================================\n",
            "Total params: 10,472,427\n",
            "Trainable params: 10,472,427\n",
            "Non-trainable params: 0\n",
            "__________________________________________________________________________________________________\n"
          ],
          "name": "stdout"
        }
      ]
    },
    {
      "cell_type": "code",
      "metadata": {
        "id": "WV6toT2X-SZ4"
      },
      "source": [
        "model.compile(optimizer='rmsprop', loss='sparse_categorical_crossentropy')\n"
      ],
      "execution_count": 206,
      "outputs": []
    },
    {
      "cell_type": "code",
      "metadata": {
        "id": "95TyRoEx-q3-"
      },
      "source": [
        "es = EarlyStopping(monitor='val_loss', mode='min', verbose=1,patience=2)\n"
      ],
      "execution_count": 207,
      "outputs": []
    },
    {
      "cell_type": "code",
      "metadata": {
        "id": "pr6y9e7r-sHT",
        "outputId": "fd7119ae-10b9-47f4-ec63-8dcd70d2a7c9",
        "colab": {
          "base_uri": "https://localhost:8080/"
        }
      },
      "source": [
        "history=model.fit([x_tr,y_tr[:,:-1]], y_tr.reshape(y_tr.shape[0],y_tr.shape[1], 1)[:,1:] ,epochs=50,callbacks=[es],batch_size=128, validation_data=([x_val,y_val[:,:-1]], y_val.reshape(y_val.shape[0],y_val.shape[1], 1)[:,1:]))\n"
      ],
      "execution_count": 208,
      "outputs": [
        {
          "output_type": "stream",
          "text": [
            "Epoch 1/50\n",
            "77/77 [==============================] - 293s 4s/step - loss: 4.5273 - val_loss: 4.0843\n",
            "Epoch 2/50\n",
            "77/77 [==============================] - 292s 4s/step - loss: 4.0680 - val_loss: 3.9212\n",
            "Epoch 3/50\n",
            "77/77 [==============================] - 292s 4s/step - loss: 3.9325 - val_loss: 3.8477\n",
            "Epoch 4/50\n",
            "77/77 [==============================] - 294s 4s/step - loss: 3.8384 - val_loss: 3.7458\n",
            "Epoch 5/50\n",
            "77/77 [==============================] - 294s 4s/step - loss: 3.7253 - val_loss: 3.6787\n",
            "Epoch 6/50\n",
            "77/77 [==============================] - 293s 4s/step - loss: 3.6118 - val_loss: 3.5608\n",
            "Epoch 7/50\n",
            "77/77 [==============================] - 292s 4s/step - loss: 3.5178 - val_loss: 3.5219\n",
            "Epoch 8/50\n",
            "77/77 [==============================] - 293s 4s/step - loss: 3.4453 - val_loss: 3.4519\n",
            "Epoch 9/50\n",
            "77/77 [==============================] - 294s 4s/step - loss: 3.3822 - val_loss: 3.4175\n",
            "Epoch 10/50\n",
            "77/77 [==============================] - 294s 4s/step - loss: 3.3261 - val_loss: 3.4182\n",
            "Epoch 11/50\n",
            "77/77 [==============================] - 293s 4s/step - loss: 3.2762 - val_loss: 3.3694\n",
            "Epoch 12/50\n",
            "77/77 [==============================] - 294s 4s/step - loss: 3.2269 - val_loss: 3.3466\n",
            "Epoch 13/50\n",
            "77/77 [==============================] - 294s 4s/step - loss: 3.1808 - val_loss: 3.3279\n",
            "Epoch 14/50\n",
            "77/77 [==============================] - 293s 4s/step - loss: 3.1368 - val_loss: 3.3315\n",
            "Epoch 15/50\n",
            "77/77 [==============================] - 290s 4s/step - loss: 3.0948 - val_loss: 3.3011\n",
            "Epoch 16/50\n",
            "77/77 [==============================] - 291s 4s/step - loss: 3.0544 - val_loss: 3.2942\n",
            "Epoch 17/50\n",
            "77/77 [==============================] - 291s 4s/step - loss: 3.0165 - val_loss: 3.2834\n",
            "Epoch 18/50\n",
            "77/77 [==============================] - 288s 4s/step - loss: 2.9786 - val_loss: 3.2826\n",
            "Epoch 19/50\n",
            "77/77 [==============================] - 287s 4s/step - loss: 2.9432 - val_loss: 3.2719\n",
            "Epoch 20/50\n",
            "77/77 [==============================] - 285s 4s/step - loss: 2.9089 - val_loss: 3.2659\n",
            "Epoch 21/50\n",
            "77/77 [==============================] - 288s 4s/step - loss: 2.8747 - val_loss: 3.2775\n",
            "Epoch 22/50\n",
            "77/77 [==============================] - 288s 4s/step - loss: 2.8423 - val_loss: 3.2563\n",
            "Epoch 23/50\n",
            "77/77 [==============================] - 288s 4s/step - loss: 2.8107 - val_loss: 3.2662\n",
            "Epoch 24/50\n",
            "77/77 [==============================] - 287s 4s/step - loss: 2.7808 - val_loss: 3.2561\n",
            "Epoch 25/50\n",
            "77/77 [==============================] - 287s 4s/step - loss: 2.7508 - val_loss: 3.2502\n",
            "Epoch 26/50\n",
            "77/77 [==============================] - 285s 4s/step - loss: 2.7218 - val_loss: 3.2419\n",
            "Epoch 27/50\n",
            "77/77 [==============================] - 284s 4s/step - loss: 2.6934 - val_loss: 3.2514\n",
            "Epoch 28/50\n",
            "77/77 [==============================] - 284s 4s/step - loss: 2.6658 - val_loss: 3.2553\n",
            "Epoch 00028: early stopping\n"
          ],
          "name": "stdout"
        }
      ]
    },
    {
      "cell_type": "code",
      "metadata": {
        "id": "LEITmIM5-tz9",
        "outputId": "12282ca5-725f-44fb-941d-1e9fc4cb7f7d",
        "colab": {
          "base_uri": "https://localhost:8080/",
          "height": 265
        }
      },
      "source": [
        "from matplotlib import pyplot\n",
        "pyplot.plot(history.history['loss'], label='train')\n",
        "pyplot.plot(history.history['val_loss'], label='test')\n",
        "pyplot.legend()\n",
        "pyplot.show()"
      ],
      "execution_count": 209,
      "outputs": [
        {
          "output_type": "display_data",
          "data": {
            "image/png": "[encoded data removed]",
            "text/plain": [
              "<Figure size 432x288 with 1 Axes>"
            ]
          },
          "metadata": {
            "tags": [],
            "needs_background": "light"
          }
        }
      ]
    },
    {
      "cell_type": "code",
      "metadata": {
        "id": "Um-ykpnKNuEq"
      },
      "source": [
        "\n",
        "reverse_target_word_index=y_tokenizer.index_word\n",
        "reverse_source_word_index=x_tokenizer.index_word\n",
        "target_word_index=y_tokenizer.word_index"
      ],
      "execution_count": 210,
      "outputs": []
    },
    {
      "cell_type": "code",
      "metadata": {
        "id": "FKly7-P-N7EA"
      },
      "source": [
        "# Encode the input sequence to get the feature vector\n",
        "encoder_model = Model(inputs=encoder_inputs,outputs=[encoder_outputs, state_h, state_c])\n",
        "\n",
        "# Decoder setup\n",
        "# Below tensors will hold the states of the previous time step\n",
        "decoder_state_input_h = Input(shape=(latent_dim,))\n",
        "decoder_state_input_c = Input(shape=(latent_dim,))\n",
        "decoder_hidden_state_input = Input(shape=(max_text_len,latent_dim))\n",
        "\n",
        "# Get the embeddings of the decoder sequence\n",
        "dec_emb2= dec_emb_layer(decoder_inputs) \n",
        "# To predict the next word in the sequence, set the initial states to the states from the previous time step\n",
        "decoder_outputs2, state_h2, state_c2 = decoder_lstm(dec_emb2, initial_state=[decoder_state_input_h, decoder_state_input_c])\n",
        "\n",
        "#attention inference\n",
        "attn_out_inf, attn_states_inf = attn_layer([decoder_hidden_state_input, decoder_outputs2])\n",
        "decoder_inf_concat = Concatenate(axis=-1, name='concat')([decoder_outputs2, attn_out_inf])\n",
        "\n",
        "# A dense softmax layer to generate prob dist. over the target vocabulary\n",
        "decoder_outputs2 = decoder_dense(decoder_inf_concat) \n",
        "\n",
        "# Final decoder model\n",
        "decoder_model = Model(\n",
        "    [decoder_inputs] + [decoder_hidden_state_input,decoder_state_input_h, decoder_state_input_c],\n",
        "    [decoder_outputs2] + [state_h2, state_c2])"
      ],
      "execution_count": 211,
      "outputs": []
    },
    {
      "cell_type": "code",
      "metadata": {
        "id": "FsgNNaSYOBIE"
      },
      "source": [
        "def decode_sequence(input_seq):\n",
        "    # Encode the input as state vectors.\n",
        "    e_out, e_h, e_c = encoder_model.predict(input_seq)\n",
        "    \n",
        "    # Generate empty target sequence of length 1.\n",
        "    target_seq = np.zeros((1,1))\n",
        "    \n",
        "    # Populate the first word of target sequence with the start word.\n",
        "    target_seq[0, 0] = target_word_index['sostok']\n",
        "\n",
        "    stop_condition = False\n",
        "    decoded_sentence = ''\n",
        "    while not stop_condition:\n",
        "      \n",
        "        output_tokens, h, c = decoder_model.predict([target_seq] + [e_out, e_h, e_c])\n",
        "\n",
        "        # Sample a token\n",
        "        sampled_token_index = np.argmax(output_tokens[0, -1, :])\n",
        "        sampled_token = reverse_target_word_index[sampled_token_index]\n",
        "        \n",
        "        if(sampled_token!='eostok'):\n",
        "            decoded_sentence += ' '+sampled_token\n",
        "\n",
        "        # Exit condition: either hit max length or find stop word.\n",
        "        if (sampled_token == 'eostok'  or len(decoded_sentence.split()) >= (max_summary_len-1)):\n",
        "            stop_condition = True\n",
        "\n",
        "        # Update the target sequence (of length 1).\n",
        "        target_seq = np.zeros((1,1))\n",
        "        target_seq[0, 0] = sampled_token_index\n",
        "\n",
        "        # Update internal states\n",
        "        e_h, e_c = h, c\n",
        "\n",
        "    return decoded_sentence"
      ],
      "execution_count": 212,
      "outputs": []
    },
    {
      "cell_type": "code",
      "metadata": {
        "id": "WbTfyIKkON0f"
      },
      "source": [
        "def seq2summary(input_seq):\n",
        "    newString=''\n",
        "    for i in input_seq:\n",
        "        if((i!=0 and i!=target_word_index['sostok']) and i!=target_word_index['eostok']):\n",
        "            newString=newString+reverse_target_word_index[i]+' '\n",
        "    return newString\n",
        "\n",
        "def seq2text(input_seq):\n",
        "    newString=''\n",
        "    for i in input_seq:\n",
        "        if(i!=0):\n",
        "            newString=newString+reverse_source_word_index[i]+' '\n",
        "    return newString"
      ],
      "execution_count": 213,
      "outputs": []
    },
    {
      "cell_type": "code",
      "metadata": {
        "id": "LbifBeliOSUl",
        "outputId": "7cd102ed-ace1-4e97-a423-aa1300042bf5",
        "colab": {
          "base_uri": "https://localhost:8080/"
        }
      },
      "source": [
        "\n",
        "for i in range(0,100):\n",
        "    print(\"Review:\",seq2text(x_tr[i]))\n",
        "    print(\"Original summary:\",seq2summary(y_tr[i]))\n",
        "    print(\"Predicted summary:\",decode_sequence(x_tr[i].reshape(1,max_text_len)))\n",
        "    print(\"\\n\")"
      ],
      "execution_count": 214,
      "outputs": [
        {
          "output_type": "stream",
          "text": [
            "Review: fulham scrapped a draw at home to fellow strugglers rotherham matt derbyshire gave the away side an early lead from close range ross mccormack poked home an equaliser in the second half fans booed heavily when the final whistle was blown at craven cottage \n",
            "Original summary: his nights must be becoming all the more frequent as these haunting weeks go by down the yet again from a disgruntled bunch of supporters who deserve so much more than this far more than a team lacking identity and direction those fans will quite point to the fact their side were out played for large parts against rotherham a club with a far budget and experience at this level \n",
            "Predicted summary:  the former england manager has been sacked for the first time since the season since the season and was the first time since the season he was not enough to play the club 's 1 0 win over the season after the game of the season but the former england international has been ruled out of the season after the season was not a substitute in the first half of the season\n",
            "\n",
            "\n",
            "Review: baby found in rubble of nepal earthquake sunday morning spent 22 hours buried under his home after 7 8 magnitude quake \n",
            "Original summary: cnn a photo of a baby boy being pulled from the rubble of the nepal earthquake has become the image of a disaster that has devastated the country his name is and he 's just four months old on saturday was at home in east of the capital kathmandu when the 7 8 magnitude quake sent through nepal and neighboring countries according to kathmandu today \n",
            "Predicted summary:  a young woman who died in a row in a row in a row in a row in a row in the capital of the capital the family 's mother was arrested in a village in the capital of the capital the family were arrested in the capital of the capital the family were arrested in the capital of the capital the family were arrested in the capital of the capital\n",
            "\n",
            "\n",
            "Review: teigen shared a picture of her stretch marks this week the model was praised by those calling her a role model now hundreds of women have taken to instagram to share their pictures \n",
            "Original summary: but this week model and chef teigen bought them to the after she posted a picture of her legs to instagram the 29 year old sports illustrated star is seen cross legged after an all day cooking session and says bruises from kitchen handles for a week women have been taken to instagram to share pictures of their stretch marks after the body teigen posted an image of to the social networking site \n",
            "Predicted summary:  a new york star has been a secret of the first time since the campaign of the campaign and the new york star who has been a new role in the world 's most famous and the most of the most of the most famous and the most of the most famous and ever\n",
            "\n",
            "\n",
            "Review: former president bought the san california house in 1969 paid 1 4 million for estate featuring main resident and satellite home hosted 17 heads of state there including soviet leader moved out in 1980 and sold it to ceo gavin s \n",
            "Original summary: a grand home owned by president richard and dubbed the western white house has been put on sale for the 5 45 acre estate in san california was bought by the former commander in chief in 1969 six months into his presidency 17 heads of state at the home which was built in and the pacific ocean \n",
            "Predicted summary:  the former study has been told that the former secretary of a former former soldier who has been named as a result of the country 's most famous and the former former secretary of the former secretary of the former secretary of the former secretary of the former secretary of the former prime minister who has been linked with a move to the uk 's estate and the council in the uk and was sold in the country 's home in the country 's home in the capital of the country 's home in the country 's home in the city of the country 's home\n",
            "\n",
            "\n",
            "Review: more than a third of health are considering some surgery several admit they may impose ' rules refusing some patients obese patients could be denied knee and hip replacements and breast while may be told they can not have ivf procedures on the nhs \n",
            "Original summary: several have admitted they may impose ' rules which could affect as well as the overweight more than a third of health are considering some types of surgery and other treatments to save money according to a new study the for accepting patients for operations would be based on their body mass index which measures obesity \n",
            "Predicted summary:  the new study has been linked with a number of cancer and cancer and the of the uk and the vaccine has been found by the uk 's largest and the united states the new york is also used to be a number of the country 's most powerful and the most powerful '\n",
            "\n",
            "\n",
            "Review: pupils in washington were removed from classes on monday a total of were kicked out of school because they did not have documents to prove they have had legally required officials decided to act after spread of the virus in america experts have warned there is a danger of a as people who have not been vaccinated are being exposed to the rest of the population \n",
            "Original summary: health experts in the us have warned the country is in danger of being by a because a growing number of people are not getting against the virus and are being exposed to the rest of the population the virus has swept several states in america and california and officials have warned there could be a danger of the of 15 years ago they are also keen to prevent a return to the outbreak of 1989 when more than 100 people died \n",
            "Predicted summary:  the families of the disaster the men were found by the virus in the early of the country 's largest and the men were found by the taliban 's largest organization the taliban was also killed by the taliban 's largest organization in the country 's province in the country 's province in the country 's province and the disaster was released by the taliban 's largest disaster in the country 's province\n",
            "\n",
            "\n",
            "Review: member said tired staff have effect on patient care ' jane smith likened longer working hours for nhs staff to slave labour ' called for more research to examine the impact on workers ' health \n",
            "Original summary: with a growing demand for nurses to work long hours has called for more research into the effects of workers ' health at the union 's healthcare conference in liverpool this week one member highlighted how staff at a hospital in staffordshire are expected to work six long days a week up to 78 hours a week jane smith told colleagues the fact staff are so tired has a effect on patient care and also puts other staff at risk ' \n",
            "Predicted summary:  the former secretary of a former secretary of the former secretary of the former secretary of the former secretary of the party 's office in the uk 's office in the capital of the country 's most famous party in the city of the country 's most famous party in the country 's capital the former director of the party 's office said that the former secretary of state prosecutions said the decision was a constitutional government to the lord of the ruling that was a member of the public '\n",
            "\n",
            "\n",
            "Review: porto set a new standard as fans were in blue and white in midweek gary neville and jamie carragher are often a better watch than the match nico rosberg and lewis hamilton 's rivalry personality alastair cook probably should n't have gone to graham for tips \n",
            "Original summary: and steve davis remain despite their years but what is the point of formula one bored of flags on seats the portuguese club 's slaying of bayern munich was achieved against a backdrop of fans in co blue and white \n",
            "Predicted summary:  the england international has been linked with a move to the club 's biggest team mate as he was a target in the final of the season and the season was also keen to be a new contract by the club 's top scorer the former england international has been linked with the club 's top scorer in the region of the season\n",
            "\n",
            "\n",
            "Review: southampton are currently five points behind fourth placed man city ronald koeman has not given up hope of finishing inside the top four the south coast outfit face stoke at the britannia stadium on saturday \n",
            "Original summary: this has been a remarkable season at st mary 's with the club already having the record premier league points tally of 56 set last year that record will no doubt be broken in the coming weeks and things could get better still with manchester city 's sudden drop off opening up the potential for a top four finish southampton boss ronald koeman believes his side must win their last six games to finish inside top four \n",
            "Predicted summary:  the former england manager has been a substitute in the premier league and the club 's most successful league championship and is currently in the top of the season and the magpies have been beaten and the magpies have been in contention for the season and has been replaced by the club 's top scorer in the last season\n",
            "\n",
            "\n",
            "Review: experts have discovered a in older versions of the android system once a has access to a phone they can monitor data from sensors from this they can potentially a from the has been tested and confirmed on the samsung galaxy \n",
            "Original summary: are often touted as the future of security and an alternative to the notoriously but experts have discovered they may not be as secure as first thought after a number of android devices including samsung 's galaxy were said to be potentially leaking ' the security researchers have found a way to a person 's data after it is captured by a built in scanner but before it becomes \n",
            "Predicted summary:  the new study has been found by a new study by the new york and the new study has been found by the water in the region of the region of the region of the region of the region of the region of the region of the region of the region of the region of the region of the region of the region of the region of the region of the region of the region of the region of the region\n",
            "\n",
            "\n",
            "Review: identical twins marcus and morris 25 play for the phoenix are being investigated in connection to felony assault in late january erik hood 36 claims he used to mentor the twins until they had falling out hood said another man kane text to twins ' mother claims morris twins kane and two others beat him until unconscious there have been no arrests or charges filed and twins deny involvement \n",
            "Original summary: a pair of twins who play together on the court in the nba are being investigated for teaming up to assault their former in arizona after he sent inappropriate ' text messages to their mother identical twins marcus and morris who both play forward for the phoenix are now the focus of an investigation into a felony aggravated assault which allegedly occurred in january phoenix police say the 25 year old twins and three others assaulted hood at the nina mason sports complex where the alleged victim and a woman were watching a basketball game \n",
            "Predicted summary:  a woman who was arrested in a first degree murder of a year in a coma in a court heard the court heard the court heard the woman was found in a complaint that was a woman who was arrested in a small attack in the first time of the first time since november 2013\n",
            "\n",
            "\n",
            "Review: adam was born in oregon in 1978 as adam was first american to be charged with since second world war converted to islam at the age of 17 while living in orange county california a few years later he moved to pakistan and became an al qaeda \n",
            "Original summary: he converted to islam at the age of 17 adam a former little who grew up to become a spokesman for bin laden was born in in oregon as adam who had charges pending against him was killed in a drone strike in january the white house acknowledged on thursday \n",
            "Predicted summary:  a former soldier who was arrested in a hospital in a bid to escape the same day after a court heard he was killed in a hospital in the northern territory in the northern territory was arrested in the abdomen and was arrested in the abdomen and was pronounced dead in the abdomen and was pronounced dead in the abdomen and was pronounced dead in the abdomen and was pronounced dead in the abdomen and was pronounced dead in the abdomen and was pronounced dead in the scene\n",
            "\n",
            "\n",
            "Review: mary worked at underground factory from 1943 1945 aged 20 she analysed metal in its for bristol engines now 91 the great grandmother has the site in it was one of 26 underground used to produce military parts \n",
            "Original summary: mary was 20 when she was called up to work in the laboratory at shadow factory in in she spent two years testing metal for bristol aircraft engines in the site 's underground laboratory working as the only woman in her department now 70 years after leaving her position the 91 year old great grandmother has the now factory \n",
            "Predicted summary:  a new york with a new york city has been a new york of the world 's largest and the world 's largest and the world 's most popular attractions in the world 's most famous history of the country 's most famous and the country 's most famous and is the first time in the country 's most famous\n",
            "\n",
            "\n",
            "Review: jose mourinho left real madrid in 2013 after a series of public fall outs but alvaro arbeloa says he could see the special one returning to real he credits mourinho as the foundation ' of champions league success arbeloa says his spell ended well but chelsea boss is happy in london mourinho is said to be on good terms with target raphael varane \n",
            "Original summary: the chelsea manager ended his three year spell in madrid to his current club in 2013 leaving the spanish capital amid rumours of bust ups with senior players including club captain casillas sergio ramos and but right back who has made 25 first team appearances this season says real 's door will never be closed to bringing the portuguese coach back as boss chelsea manager jose mourinho could return to take charge of real madrid one day says alvaro \n",
            "Predicted summary:  the former chelsea forward has been linked with the club 's most expensive player of the season and the club 's best scorer in the bernabeu and the club 's best scorer is the first time in the bernabeu and the club 's best scorer in the champions league quarter final against atletico madrid in the champions league quarter final against atletico madrid in the champions league quarter final against atletico madrid in the champions league quarter final against atletico madrid in the champions league quarter final against atletico madrid\n",
            "\n",
            "\n",
            "Review: men are learning to embrace their grey hair with style and women love it femail checks out the young and classic silver haired stars we offer grooming tips from experts to help your man go grey \n",
            "Original summary: the trend may still be going strong for women the world over but it seems men will always hold the crown for rocking the grey look as david beckham proved earlier this week victoria beckham posted a of her husband on on tuesday and due to the grey his beard it silver fox ' with his 40th birthday just around the corner it seems david is his age with style and he 's not the only one \n",
            "Predicted summary:  the statue of the statue of the statue of the royal york 's office in the capital of the collection of the iconic william and the duchess of cambridge 's cultural the iconic cultural the cultural the cultural the cultural cultural the cultural cultural the cultural cultural the cultural the cultural cultural the cultural cultural the world 's most cultural the world 's most cultural the world 's most cultural the world 's most cultural the world 's most cultural the world 's most cultural the world 's most cultural the world 's most cultural the world 's most cultural the world 's most cultural the world 's most cultural the world 's most cultural the world 's most\n",
            "\n",
            "\n",
            "Review: bird was spotted near the at brentford after flying along thames eagle eyed canal boat resident saw the and contacted rescue agency most commonly found in iceland but this bird blown off course ' \n",
            "Original summary: a canal bank beneath a busy might not rank as paradise but for this apparently suffering a malfunction and for the atlantic it was welcome sanctuary the confused bird was seen swimming in the grand union canal earlier this month after apparently flying into london along the thames \n",
            "Predicted summary:  the unnamed pilot was caught on camera the pilot was discovered by a police station in the airport in a park in the capital of the city of the north east of the city 's park in the capital the pair were discovered in the water and was pronounced dead in the water and was pronounced dead in the water\n",
            "\n",
            "\n",
            "Review: ex liverpool boss told he would need to see a before appointment benitez was often mocked as a fat spanish ' during his anfield reign addresses talk of job swap with heading to napoli has guided sampdoria to the brink of european qualification \n",
            "Original summary: the spaniard has been linked with the job at after it emerged that the current boss is being lined up to replace benitez at napoli but president has taken inspiration from a favourite of the goodison park and old trafford terraces appearing to rumours that a job swap is imminent napoli manager rafael benitez jokes with switzerland right during a training session \n",
            "Predicted summary:  the former manchester united manager brendan rodgers has been linked with a club in the united states and his club 's season and rodgers is keen to be a case of the season but the club 's hierarchy is not aware of the season but the club 's top scorer is the first time in the premier league\n",
            "\n",
            "\n",
            "Review: polish prince jan has challenged ukip leader nigel farage to a in a video says he is sick of poles being discriminated against in britain \n",
            "Original summary: farage the leader of the uk independence party ukip that britain 's membership of the european union means it is to stop a flow of foreign immigrants many from eastern europe into his small island nation in a video posted on youtube prince jan said he was fed up with discrimination against poles living in britain the most example i 've heard of has been mr nigel farage blaming migrants for traffic on the said \n",
            "Predicted summary:  the ukip leader was booed by the party 's manifesto in the first half of the first time since the election campaign and the party leader was booed by the party 's manifesto in the party 's manifesto in the capital of the party 's manifesto in the party 's manifesto to be a regular party in the election election debate that the tory leader is also a tory leader\n",
            "\n",
            "\n",
            "Review: mcdonnell 's attorneys argued her corruption conviction should be overturned because it was based on broad of bribery were convicted in a joint trial in september of accepting more than 165 000 in gifts and bob mcdonnell was sentenced in february to two years in prison and his wife to one year and one day \n",
            "Original summary: her attorneys argued monday in a 101 page court filing that mrs 's public corruption conviction should be overturned because it was based on an broad definition of and her husband former gov bob were convicted in a joint trial in september of accepting more than 000 in gifts and from former star scientific ceo williams in exchange for promoting his company 's nutritional supplements \n",
            "Predicted summary:  a former army student who was arrested in a week in a bid to join the french flag in a bid to steal a complaint to the french stadium in the office of the first time in the country 's office in the country 's office in the office of the first time in the country 's office in the capital of the country 's office in the federal court was arrested in a courthouse in 2013\n",
            "\n",
            "\n",
            "Review: rangers lost first game under new boss stuart mccall on thursday to disappointing 3 0 defeat at hands of queen of the south had recorded recent victories over hearts and hibernian \n",
            "Original summary: gers suffered the first defeat of new boss stuart mccall 's six game reign on thursday night as they 3 0 at queen of the south it was an especially flat display after the high of recent scottish championship victories over hearts and hibernian kenny miller fears rangers ' promotion bid could be by the ibrox side 's run of form \n",
            "Predicted summary:  the ibrox side were beaten in the stadium with a championship kick off the club 's 2 1 defeat over the season and the magpies were booed by the ibrox side 's side were booed by the ibrox side 's side were booed by the ibrox side of the season and the club 's finest goal was in the first half of the season\n",
            "\n",
            "\n",
            "Review: striker jay hart 24 was caught having sex with supporter after 4 1 defeat he was filmed with mystery blonde in wearing tracksuit girlfriend who has two children slammed creators of clip mr hart has apologised after he was sacked from non league clitheroe fc \n",
            "Original summary: this is the first picture of the girlfriend of the semi professional footballer caught having drunken sex with a female supporter in the dugout after his team 's 4 1 defeat striker jay hart 24 could be heard laughing on the mobile phone footage as he was caught with the mystery blonde in his club t shirt with his tracksuit around his legs he was dismissed after the sex clip of his at mossley afc in was shared on social media and has now begged for his 25 year old girlfriend 's forgiveness \n",
            "Predicted summary:  the former girlfriend of the dugout in the dugout after a drunken supporter of the dugout and was caught on the dugout with a supporter of the dugout after the incident was dismissed by the incident the former england defender was caught on the ground after a supporter of the alleged incident in the dugout after the incident was dismissed by the incident the former england defender was caught on the ground\n",
            "\n",
            "\n",
            "Review: ali 29 flew through red lights during the two minute chase ali was pulled over by police who suspected that his bmw was stolen ali of no fixed sped off on a two minute long car chase he crashed the bmw into a in front of a shop and was arrested \n",
            "Original summary: these are the scenes captured on a police car dashcam when a man drove at 80 miles per hour in a bid to escape arrest ali 29 of no fixed was stopped by traffic police in birmingham at 3 45 pm on february 22 after officers suspected the silver bmw 1 series may have been stolen the camera footage shows the car pull over to the side of the road and a man get out of the passenger seat \n",
            "Predicted summary:  a man who was arrested after being killed by a police officer in a coma after he was arrested in a crash in the crash and was pronounced dead in the scene and was pronounced dead in the scene and was pronounced dead in the scene and was pronounced dead in the scene\n",
            "\n",
            "\n",
            "Review: charlie hill returning to the united states for family and pie he would also have to face justice on charges of killing a police officer and a plane \n",
            "Original summary: havana cuba cnn charlie hill sits in a dark bar on a sunny havana day but then a lot of people have been looking for charlie hill for a long time for 43 years cuba has provided refuge for hill from facing charges that he killed a new mexico police officer and an to havana \n",
            "Predicted summary:  a jury of a young woman who was arrested in a frenzied car in a row in a row in a row in a row in a statement filed by the police department of the first time in the first time of the first time in the first time of the first time in the first time of the first time in the first time of the first time in the first time of the first time in the first time of the first time in the first time of the first time in the first time of the first time in the first time of the first time in the first time of the first time\n",
            "\n",
            "\n",
            "Review: set orlando city on their way to earning all three points scored his first professional goal in the first half at providence park brazilian kaka wrapped up the win when he scored a late penalty second away win of the season sends orlando city third in the league \n",
            "Original summary: canadian international reacted to chest home the delivery of kevin in the first half before kaka sealed the win with a penalty in the closing stages of the match proved the biggest threat but and co stood strong in defence to earn orlando their second away win of the season former real madrid ace kaka runs at the portland defence at providence park in oregon \n",
            "Predicted summary:  the former england striker has been sacked for the first time since the season since the season and was the first time since the season the former england striker was not enough to be the first time since the season and was in the first half of the season and was knocked out by the former england manager\n",
            "\n",
            "\n",
            "Review: the luxurious sri resort a series of villas while she was there olivia was among guests who included liam from one direction and a thai princess road is a night spot with numerous clubs and bars \n",
            "Original summary: i 've always had a love affair with thailand at the end of filming channel 4 's indian summers last year i headed to an island off ko and did a week long and yoga course i came away convinced i was going to carry on doing a minimum of 30 minutes of every morning in london a resolve that was slowly by the of on london underground and from sunday \n",
            "Predicted summary:  the former england star who is a black and ' for a black and and her and the black and the duchess of cambridge 's wedding to the world 's most popular wedding in the world 's most popular wedding in the first time of the first time the pair of the first time in the world 's most successful\n",
            "\n",
            "\n",
            "Review: ed best of iran 's future behavior is its past behavior new framework keeps iran 's nuclear door well and truly open he says \n",
            "Original summary: unfortunately it seems like too many in president barack obama 's administration have forgotten that the only reason this terrorist supporting state came to the table in the first place was because of tough sanctions imposed by the u s congress indeed the reality is that president obama is giving up enormous in his nuclear deal with iran and i worry we will lose it for good bleeding money and faced with falling oil prices supreme leader gave his government rare permission to bargain with the great the united states \n",
            "Predicted summary:  the prime minister 's nuclear nuclear nuclear is the first time to the u s congress in the first time of the first time the u s congress in the u s and the scale of the nuclear nuclear administration will be the first time to the nuclear deal with iran 's nuclear nuclear nuclear policy with the nuclear deal with the nuclear nuclear deal\n",
            "\n",
            "\n",
            "Review: for more than 40 years the lyrics of american pie have been over this week the handwritten lyrics sold for more than 1 million at auction the contain hidden references to events of the 50s and 60s it includes to holly charles and martin king \n",
            "Original summary: there has never been a popular song quite like it for more than 40 years its lyrics have been an wrapped in an eight and a half minute long rock roll argued over by generations of fans and re by code breaking rock and considered to be on mid 20th century u s social history by even it 's called american pie \n",
            "Predicted summary:  the company 's most popular holiday is a new york and the company 's most popular attractions in the world 's most famous but the most popular and is the most popular and is the most popular and ever to the same way to the uk 's most famous and the most popular and is the most popular and the most popular and is the most popular and ever\n",
            "\n",
            "\n",
            "Review: liverpool beat newcastle united 2 0 at anfield on monday night the win moved them to within four points of fourth place manchester city jordan henderson has played a europe wide record 47 games this season but he hopes liverpool have staying power to put pressure on city \n",
            "Original summary: henderson and liverpool goalkeeper simon mignolet both played their game of season in the 2 0 win over newcastle united on monday night the record for appearances by any player in the top five european leagues so far this campaign but the england midfielder believes that after finding winning form again following poor results against manchester united and arsenal liverpool can pile the pressure on to city who sit four points above them in the race for the champions league liverpool vice captain jordan henderson thinks his side could catch manchester city in the premier league \n",
            "Predicted summary:  the former manchester united striker has been a frustrating of the season after the season 's side to the season and the season 's side were the first time in the top of the season 's top scorer the former manchester united striker has been linked with the team of the season and has been linked with the team 's team mates\n",
            "\n",
            "\n",
            "Review: warning graphic content shaun smith and jason collins were filmed on cctv assaulting two men the soldiers were drinking for hours before ' attack last april they chased one victim round a tree and onto a main road to beat him despite brutal attack both were spared jail in exceptional ' sentencing they could have faced sentences of up to 10 years each for their crimes collins 22 has since been stationed to guard buckingham palace \n",
            "Original summary: during the drunken attack which was caught on cctv scots guard shaun smith 25 can be seen 18 times on his victim 's head his fellow soldier welsh guard jason collins 22 blows with his on to the man 's body cctv cameras captured the horrifying attack last april in which soldiers shaun smith left in black jeans and jason collins right bending over kicked and punched two men repeatedly near their \n",
            "Predicted summary:  a woman who was arrested after a police officer was arrested after a police officer was found dead in a police station in a police station in the city of the first time in the first four months of the first time in the first time of the first time in the first time of the first time in the first time of the first time in the first time of the first time in the first time of the first time in the first time of the first time in the first time of the first time in the first time of the first time in the first time of the first time in the first time\n",
            "\n",
            "\n",
            "Review: sandra 52 charged with murder for allegedly stabbing 48 year old husband multiple times after argument was caught on camera weeping with blood on her face as she was being handcuffed couple who had problems with alcohol lived in makeshift camp under a bridge in san diego \n",
            "Original summary: sandra 52 surrendered to police just after 4 45 pm in the block of commercial street after police say she repeatedly plunged a knife into her husband 's upper torso the 48 year old victim was discovered lying on the ground unresponsive with blood from a wound in his neck he was taken to medical center where he was pronounced dead from his injuries two hours later \n",
            "Predicted summary:  a mother of a woman who was arrested after allegedly charged with a police officer in a suitcase in a suitcase in a suitcase in a suitcase in a suitcase in the woods of the first time she was arrested in a police station in the chest in the chest and was arrested in a police station in the chest with a woman in the chest and was arrested in a police station in the woods\n",
            "\n",
            "\n",
            "Review: west ham move to the olympic stadium ahead of the 2016 17 season karen brady announced reduced season ticket prices ahead of move cheapest price will be 289 down from the current cheapest of sam allardyce says filing the stadium is most important thing for a club \n",
            "Original summary: brady vice chairman of west ham announced during the week that the club would be making significant cuts to their current as the move is being against increased television revenue the cheapest season ticket at upton park is but there will be seats on offer from the 2016 17 season the club 's first in the 54 000 seater olympic stadium west ham 's season tickets will cost as little as when the club move to the olympic stadium next year \n",
            "Predicted summary:  the move to the stadium of the season 's premier league and is expected to be a capacity of the season but the club 's top scorer is the cheapest capacity of the season but the cheapest season is the cheapest capacity of the season but has been agreed to move to the club 's top flight in the stadium of the season\n",
            "\n",
            "\n",
            "Review: philip was elected into the position by residents of his grandfather was the chin ' head of the gang the walked around in a and to look that way he felt like he would avoid prosecution and did in 1990 he was jailed in 1997 for federal and died in prison aged 77 philip hopes his achievements ' will be what his \n",
            "Original summary: the grandson of a notorious new york has become the mayor of a sleepy village philip 41 whose grandfather vincent the ' was the head of the crime family was elected into the positions by residents of which has a population of around 9 000 the republican real estate lawyer who will get 25 000 a year for the part time job hopes his achievements and ' are what notice and not his heritage \n",
            "Predicted summary:  a man who was arrested in a parking lot of a week after a police officer was arrested in a parking lot of a police station in the 1970s and was arrested by police police said the thief was arrested in a parking lot of the property in a parking lot of the police station in the capital of the first time in the village of the first time in the city of the property in a coastal village in the city of the city of the property\n",
            "\n",
            "\n",
            "Review: wrote that russia needs a new ' weapon he says nuclear weapons on would unleash seismic activity would trigger volcano feet of ash over the us he says could affect 240 million americans and hit europe too analyst says new weapons could be ready within 10 years tv presenter previously said russia could turn us to radioactive dust ' \n",
            "Original summary: who writes a column for the military industrial courier wrote earlier this month that russia needed new ' to unleash chaos and guarantee destruction of its in an article titled nuclear special forces ' he said that russia should develop nuclear weapons by a small force that can cause on the us and force a volcano in national park to headlines sections of his article with such as for ' one day without america ' the day after tomorrow ' and the simply and cheaply ' \n",
            "Predicted summary:  the company has been linked with a massive and card that the of the largest and the largest and was found by the country 's largest and the country 's largest and the scale of the country 's daily online the country 's daily online reports the company is the most of the most important of the country 's most famous and the country 's most famous submarine in the country 's population in the region of the country 's largest house in the region of the country 's daily online\n",
            "\n",
            "\n",
            "Review: park psychiatric center in new jersey became known for the number of and taking place building officially closed in 2003 and was abandoned with walls and ceilings left to and away demolition work has begun on the french renaissance style building after interior found too expensive to restore but have argued that the building should be preserved and turned into museum and housing \n",
            "Original summary: are battling to save a asylum which achieved in the for the vast number of patients who committed suicide and were raped park psychiatric center in new jersey was built to house hundreds of mentally ill patients but it eventually was home to more than 7 500 people it has long been abandoned and has been left to fall into now known for its walls and holes in and which has allowed some of the rooms to be filled with leaves and snow \n",
            "Predicted summary:  the unnamed man was arrested by the building in a basement in the capital of the building the men 's daily online the men were found by the police department of the building the unnamed man was in the area of the country 's daily online the pair were found by the building in the area of the building the pair were killed in the area of the building\n",
            "\n",
            "\n",
            "Review: we are handsome designers jeremy and chose real life fitness above models lindy amanda kate kendall and were among the athletic stars told daily mail australia that she exercises two hours a day in bali but barely makes it to the gym in oz \n",
            "Original summary: the catwalk was replaced with a tennis court the front row with stadium and the usual parade of models walking single file was nowhere in sight instead four strong muscular women onto the grass and proceeded to stretch and bend their bodies into yoga poses along with former commonwealth games pole amanda australian star and and instagram star the crowds as they struck strong poses \n",
            "Predicted summary:  the former supermodel who is not to be a week after the end of the season and the star of the latest film the star 's former star star was furious in the footsteps of the season and the pair were in the footsteps of the season and the pair were in the first time of the season\n",
            "\n",
            "\n",
            "Review: the project is hoped to open at the former arts centre la friend and producer of is leading the tribute the museum follows allen 's cristina barcelona set in the city \n",
            "Original summary: first they made a life sized bronze statue of him and now they are creating an entire museum in his honour the cultural centre is hoped to be housed in former arts and school la following an of the now abandoned building the tribute will be dedicated exclusively to the new york director who picked barcelona for the setting of his oscar winning film barcelona \n",
            "Predicted summary:  the former arts star who has been a picture of the of the most expensive and the world 's largest and cultural the world 's most cultural the cultural the cultural cultural the cultural cultural the cultural the cultural cultural the cultural cultural the cultural cultural the cultural cultural the cultural cultural the cultural cultural the cultural cultural the cultural cultural the cultural cultural the cultural cultural the cultural cultural the cultural cultural the cultural cultural the cultural cultural the cultural cultural the cultural cultural the cultural cultural the cultural cultural the cultural cultural the cultural cultural\n",
            "\n",
            "\n",
            "Review: tim and ward chickens and at home in on march 22 crushed the house killed and their dogs tim was buried under 25 feet of mud but was pulled to safety still alive he has spent a year trying to settle his 360 000 mortgage last week an anonymous donor paid the lot to chase bank \n",
            "Original summary: tim ward and his wife of 38 years were at home in washington on march 22 2014 when tons of debris soil and rock came crashing down from was one of the 43 people crushed by the force of the natural disaster tim who broke his was buried under 25 feet of mud but managed to call for help through a gap in the surface \n",
            "Predicted summary:  a man who was arrested in a coma after a man was killed in a coma and was a man 's first degree the of the of the property and was a man who was a lot of the incident after being caught on cctv footage shows a man who was killed in a parking lot of the first time since the accident was a man who was killed in the air and was pronounced dead in the air\n",
            "\n",
            "\n",
            "Review: leicester are currently bottom of the premier league standings the foxes host swansea at king power stadium on saturday nigel pearson 's side are seeking their third straight victory \n",
            "Original summary: the foxes boss has taken advice from who he played under at sheffield wednesday as leicester battle the drop they host swansea on saturday looking for a third straight win and will escape the drop zone for the first time since november if burnley fail to win at everton and they beat swansea by three goals nigel pearson 's foxes have beaten west ham and west brom in their last two games \n",
            "Predicted summary:  the former england manager has been sacked for the first time since the season after the season 's side to the season the magpies are currently in contention to the stadium in the championship zone in the championship zone in the season the former england international has been sacked in the premier league championship zone in the championship zone in the season 's 1 0 defeat at the stadium in the season\n",
            "\n",
            "\n",
            "Review: vowed to set up exclusive club of ex in interview described his ideas of leadership as close to a ' hopes to stay active in both politics and business well into his tory mp andrew claimed mr blair came across a ' \n",
            "Original summary: the ex pm said he wanted to create a ' of former leaders to saying you can get some of these guys who are fantastic why not use their talents and their experience ' he added why not come and help the president of this country or the prime minister of that country ' \n",
            "Predicted summary:  the former prime minister who is not a week to the uk 's most expensive and the british and is the most expensive ' in the country 's history the former president of the british president 's office is furious the president 's office is not a british and that he is not a deal with the president 's top of the country 's top and the former president of the british democrats and the former president of the uk 's office\n",
            "\n",
            "\n",
            "Review: jack grealish is wanted by the republic of ireland and england tim sherwood wants the 19 year old to focus on playing more for villa grealish will make a decision over international future at end of the season \n",
            "Original summary: sherwood has been impressed with the 19 year old who starred for villa in their fa cup semi final win over liverpool on sunday and is now at the centre of a of war between the republic of ireland and england but sherwood wants grealish to focus on continuing to force his way into the villa first team jack grealish takes on liverpool 's can at wembley during aston villa 's 2 1 victory at wembley \n",
            "Predicted summary:  the former england international who has been in the first half of the season and was caught by the bbc 's finest scorer in the league championship in the championship and the former england international has been in the first half of the season and was a tough to the top of the season 's top scorer the former england international has been linked with the former england international and the club 's most successful game in the world cup championship in the world cup\n",
            "\n",
            "\n",
            "Review: deborah steel 37 was last seen alive on 28 december 1997 police have dug up the of the royal standard pub where she worked a 73 year old man is on bail and two others have had cancelled detectives believe she was murdered but body has never been found \n",
            "Original summary: deborah steel 37 who ran the royal standard pub in cambridgeshire was last seen alive just after 1am on 28 december 1997 police believe she was killed and recently the investigation as a murder inquiry but the 37 year old 's body has never been found the search has the full consent of the present landlord who is not connected with the investigation \n",
            "Predicted summary:  a man who was arrested in a week after a man was arrested in a week in a week in a bid to steal a police station in a statement filed by the police officers in the uk 's office in the capital of the country 's death of the school and was arrested in a raid in a coastal school in the capital of the border with a man in the country 's death of the death of the investigation\n",
            "\n",
            "\n",
            "Review: marine le pen accused father jean marie of committing political suicide ' comes after he called france 's prime minister manuel the immigrant ' he also defended comment that nazi gas chambers were detail of history ' le pen said she would oppose her father 's bid to lead the national front \n",
            "Original summary: national front leader marine le pen and her father jean marie after she accused him of committing political suicide ' ms le pen has blocked her father 's return to the party following accusations that he was trying to her party 's efforts to move into the political mainstream with a recent raft of controversial comments \n",
            "Predicted summary:  a former former secretary of former former former former former former former president of the former secretary of the former secretary of the former secretary of the party 's office accused of the party 's office in the uk 's office in the capital of the country 's office in the country 's office in the country 's office in the country 's office in the capital of the country 's office in the party 's office in the capital of the country 's office in the party 's office\n",
            "\n",
            "\n",
            "Review: thierry director of aims to make red carpet selfie free said celebrities taking pictures of themselves entire event down mr then added you never look as ugly as you do in a selfie ' stars featuring at event include and michael \n",
            "Original summary: since ellen broke the internet with her celebrity selfie at last year 's taking mobile phone snaps on the red carpet has become a must do for a list stars but this year 's film festival has been declared a selfie free zone after organisers asked celebrities to stop taking the ridiculous and ' images while director thierry admitted that he did not have the powers to ban the pictures altogether he urged movie starts to resist the \n",
            "Predicted summary:  the former england star star has been a popular role in the uk and has been a secret role in the uk and the former england star star has revealed the bbc 's most popular ' is the first time to be a lot of the season and is the most popular '\n",
            "\n",
            "\n",
            "Review: arsenal fan luke bryant confronted arsene wenger during 2 0 defeat bryant admitted charge of going onto an area adjacent to a playing area ' the lifelong arsenal fan is not allowed to attend games for three years he was also ordered to pay 200 court costs and fined 500 \n",
            "Original summary: a frustrated arsenal fan who jumped over a barrier and ran towards the manager during an away match at southampton has been banned from going to games for three years bryant admitted going onto an area to a playing area ' of the football act 1991 where he his shoulders at arsenal manager arsene wenger the fan who arsene wenger thought was from the southampton end runs to the dugout and \n",
            "Predicted summary:  the gunners have been banned from the gunners and the club 's most famous player of the season but the gunners was not to be restrained by the gunners 's finest the gunners have been dealt with the gunners and the blues have been dealt with the gunners and the club 's team mates cesc fabregas was in the dugout after the game of the season\n",
            "\n",
            "\n",
            "Review: and sheikh run luxury car in preston the couple sell sought after new and classic cars to the rich and famous she uses her to get clients to part with their cash tom and son carl sell 4million worth of cars each week \n",
            "Original summary: can i sell you a car for your wife as well as your girlfriend it may sound more like the kind of line once by used car salesman arthur but such is the wealth of a new breed of rich who are buying up and that it 's not an question a new channel 4 series a light on the uk 's billion pound supercar industry where some of the best can turn over millions of pounds of profit every year \n",
            "Predicted summary:  the german shepherd who was a picture of the first time since the world 's largest and the two year old who was born in the first time of the royal 's royal city the royal 's royal was the oldest of the most of the most beautiful and the two legged and the two legged and the two year old who is now the oldest ever ever to be a little different ' '\n",
            "\n",
            "\n",
            "Review: prime minister said coalition had spent 5 years trying to lift people up ' in an easter message to christians he defended moral content ' of cuts comes after church a row with unprecedented election guide in it they told britain 's christians how they should approach election ' \n",
            "Original summary: in an easter message to christians the prime minister insisted the coalition had spent five years trying to lift people up ' by making work pay and encouraging responsibility just because some people have with our policies does not mean those policies are missing in moral content ' he insisted trip with george prime minister david cameron visited 's brewery in wolverhampton yesterday \n",
            "Predicted summary:  the prime minister who was a new generation of the snp 's most expensive leader of the first time in the uk and the prime minister who was a major party in the uk and the tories were forced to the party 's manifesto in the uk and the tories were forced to the party 's manifesto in the uk\n",
            "\n",
            "\n",
            "Review: mammoth bones found in russia suggest new theory for their demise a major was found in the 23 500 year old bones suggest mammoths may have been with animals would have eventually collapsed to the ground under own weight \n",
            "Original summary: it was previously thought that the beast simply died out from post ice age climate change and being hunted to extinction by early man but now a new theory is set to re write the history books after the examination of more than 23 500 mammoth bones found them riddled with and lacking in dr the head of the laboratory of and continental eco systems said in some that we examined almost 100 per cent of the bones pictured had signs of ' \n",
            "Predicted summary:  the blaze which was found by a tsunami of the disaster and a massive earthquake in the region of the disaster the vessel was found by the devastation in the region of the disaster the taliban 's oldest earthquake was found by the bones of the devastation in the region of the disaster the tsunami of the devastation in the region of the disaster the tsunami of the devastation in the region of the disaster\n",
            "\n",
            "\n",
            "Review: labour received 1 9 million in week to april 5 new figures have revealed three trade unions contributed 84 per cent including 1million from unite conservative donations over 500 000 in first week of campaign critics say labour is being bound by union after manifesto \n",
            "Original summary: figures released by the commission revealed that labour received 1 9 million in the week to april 5 with 84 per cent coming from just three trade it included a 1million cheque from unite labour 's on the union 's militant boss ed miliband received 1 6 m from union in the first week of the election campaign figures have revealed \n",
            "Predicted summary:  the labour leader said the labour leader will be a new generation of the tories and the tories in the uk and the tories have been in the uk and the tories have been in the uk and the tories have been in the uk and the tories were in the uk and the tories will be able to introduce a tax tax in the uk\n",
            "\n",
            "\n",
            "Review: ander herrera has scored seven goals for man united since joining in june herrera 's eyes have been shut when striking the ball for six of his goals his superb strike against yeovil town has been only goal with eyes open herrera netted a brace in manchester united 's 3 1 win over aston villa \n",
            "Original summary: ander herrera has caught the eye in recent weeks after a spot in manchester united 's starting line up but it appears he does not actually have a clear sight at goal herrera netted a brace against aston villa on saturday afternoon without actually looking at brad 's goal as his eyes appeared to be shut when making contact with the ball in fact six of herrera 's seven goals have been scored without him even having to glimpse at either the ball or the opposition 's net \n",
            "Predicted summary:  the spaniard has been a difficult to the premier league title in the premier league but the blues have been in the premier league and the blues have been in the top of the table but the spaniard 's best scorer is not a lot of the premier league 's top scorer in the premier league but the chelsea 's top scorer has been in the premier league\n",
            "\n",
            "\n",
            "Review: davis 42 who attended university in beach florida has launched a lawsuit she claims that she lost to try out for the dance and was still not allowed by the band director after joining the college in 2009 she is seeking unspecified damages from the college \n",
            "Original summary: davis who attended university in beach florida for their leadership ' program at the age of 37 launched a lawsuit after she alleged she was not allowed to try out for the 14 gold mrs davis a substitute public school teacher in miami who married last valentine 's day told daily mail online on monday that she was against because of her weight and missed out on part of the academic experience after around a year she had lost a total of \n",
            "Predicted summary:  a former teacher who was arrested after allegedly allegedly groped a picture of a student 's home to a lawsuit after a court heard she was denied the same sex for the year 's most prestigious school in the lawsuit filed by the former army student who was denied the first time since the alleged of the first time since november 2013 the former army student was denied the first time since november 2013\n",
            "\n",
            "\n",
            "Review: joanna forged signatures for cash refunds at a premier inn bosses noticed high level of refunds and cctv which showed taking money from the till the pregnant 30 year old admitted thefts at newcastle crown court of newcastle was given a nine month suspended sentence \n",
            "Original summary: a who stole 19 000 from the hotel she worked at has been told to pay back just 1 forged signatures of customers and colleagues for cash at a premier inn in newcastle and took the money for herself bosses noticed the high level of and cctv showed taking money from the till \n",
            "Predicted summary:  a former former former former former former former former former former former former former former former former former former former former former former former former former former former former former former former former former former former former former former former former former former former star star star has been charged with a string of the same life in the same time the former nfl star has been charged with a string of himself and a former wife of the first time in the last year\n",
            "\n",
            "\n",
            "Review: andres iniesta started on the bench as spain lost 2 0 to holland iniesta entered the fray in the minute at the amsterdam arena the spain star was booed by the dutch fans iniesta scored the winner against holland in the 2010 world cup final \n",
            "Original summary: spain coach vicente del an experimental side at the amsterdam arena with iniesta who started on the bench entering the in the minute to chorus of and from the home fans centre back stefan de and midfielder davy scored first half goals in the boosting victory but was with the way iniesta was treated spain midfielder iniesta controls the ball during his side 's 2 0 defeat by holland on tuesday night \n",
            "Predicted summary:  the former england international who has been linked with a move to the club 's top scorer in the summer after the season 's 2 1 defeat at the end of the season the former england international has been linked with the club 's top scorer in the summer and was the first time in the world cup in 2013\n",
            "\n",
            "\n",
            "Review: joseph has been sued by an unnamed student 30 lawsuit alleges that took part in a year long sexual relationship with a 16 year old student which began in the 2000 2001 school year lawsuit also claims unnamed teachers and school officials are held responsible for not ending the relationship woman came forward after another former student wrote an online essay accusing of acting inappropriately toward her \n",
            "Original summary: a former teacher at a prestigious girls ' school attended by some of los angeles ' most affluent families has been sued by a former student sexual abuse an unnamed 30 year old former school student filed the lawsuit against joseph who taught english at the park school which charges 35 000 per year the lawsuit alleges that when was in his early to mid 30s he took part in a sexual relationship with a 16 year old student which began in the 2000 2001 school year \n",
            "Predicted summary:  a student who was arrested in a classroom in a week after a court heard that was arrested by a male student and was arrested by a male student in the uk 's office in a bid to join the school of the school 's office in the prestigious district court of the prestigious district court in 2013 the prestigious was charged with a terrorist group of the school 's liberation act\n",
            "\n",
            "\n",
            "Review: david a clarke jr and jonathan thompson why does google have an app that police with we are confronted with a tool that can be lethal to police officers and deputies \n",
            "Original summary: google continues to market a smartphone application that lets the location of police officers in the field google 's executives wo n't even discuss the subject with representing law enforcement most people undoubtedly use 's police finding feature to avoid traffic tickets but the app poses an enormous risk to deputies and police officers \n",
            "Predicted summary:  the federal police department of the federal police department said he was a secret to the cockpit of the u s capitol 's office in the capital of the country 's most prestigious the scale of the country 's daily online the scale of the scale of the first time in the capital of the country 's website and the federal police department said the release of the federal police department of the federal disaster in the capital of the federal disaster in the capital of the federal city service\n",
            "\n",
            "\n",
            "Review: osman yaya 12 from bennett middle school in maryland a town hall session with the president on thursday during an answer about writer 's block obama started getting a little long and osman stepped in obama and replied osman thinks i 've been talking too long ' \n",
            "Original summary: a 12 year old boy has succeeded where many in the media have tried and failed by cutting president obama off mid during a q a session on thursday as the president started to repeat himself stepped in i think you 've sort of covered everything about that question ' he said as the audience laughed \n",
            "Predicted summary:  the former former former former former former president of the former former former president of the former former president of the former former secretary of the former secretary of the former secretary of the former secretary of the former secretary of cambridge 's office in the 1970s and the former secretary of the former secretary of the former secretary of the former secretary of cambridge 's office in the 1970s and was a member of the public '\n",
            "\n",
            "\n",
            "Review: peter fox 26 has been arrested in london on suspicion of double murder his sister sarah 27 was found dead at her home in on thursday mother bernadette 57 was later found dead at sheltered accommodation fox was arrested at station after he was seen by member of public \n",
            "Original summary: a 26 year old man wanted for the murder of his mother and sister has been arrested after being spotted by a member of the public peter fox from liverpool was arrested at station in london this morning on suspicion of the murders of 57 and sarah fox 27 following a nationwide manhunt detectives released cctv images of the 26 year old leaving liverpool street at 8 18 pm on wednesday and arriving at railway station in the capital at 10 57 pm \n",
            "Predicted summary:  a mother of a woman who was arrested in a court in a coma with a woman who was arrested in a court heard the court heard she was arrested in a court heard the teenager was arrested in a week in the first time of the first time in the first time of the first time in the first time of the first time in the first time of the first time in the first time of the first time in the first time of the first time in the first time of the first time in the first time of the first time\n",
            "\n",
            "\n",
            "Review: the film will premiere on memorial day it opened last year 's film festival a planned march theater release was \n",
            "Original summary: after the movie performed poorly in its international the weinstein co which first purchased u s distribution rights at the 2013 berlin film festival decided to sell it directly to lifetime rather than book it into u s a source confirmed to the hollywood reporter grace of monaco ' review the film which was directed by olivier and on a period in the early when monaco was involved in a stand off over taxes with france and grace was a return to hollywood was originally scheduled for release in late 2013 \n",
            "Predicted summary:  the former director of the first time of the first time since the first time since the season and the hollywood reporter 's office in the capital of the season and the film 's most famous and the result of the season 's most famous and the first time of the season 's most famous and the first time of the season\n",
            "\n",
            "\n",
            "Review: swedish research finds tendency to sex offences passed down male line sons of fathers who commit sex crimes four times likely to be convicted researchers explain brothers and sons do not go on to \n",
            "Original summary: they also found the sons of fathers with a criminal record for sex offending were nearly four times more likely to be convicted of such crimes the biggest study of its kind suggests sex offending could run in the family along the male genetic line johnny savile left is accused of abusing seven women while jimmy savile right raped and sexually assaulted patients in 41 hospitals during a 24 year reign of abuse \n",
            "Predicted summary:  a federal jury said that the men were arrested on suspicion of plotting a terrorist security and a police officer said the men were arrested in a crash in the capital of the country 's office said the men were arrested in the region of the country 's most prestigious the country 's most prestigious the country were arrested in the region of the country 's liberation security agency said the federal police department said the statement was arrested in the region of the federal police department\n",
            "\n",
            "\n",
            "Review: manchester city have made little progress since manuel pellegrini arrived despite last year 's title win city have again failed to retain it vincent kompany no longer capable of producing top performances city 's squad carefully and is too old too foreign \n",
            "Original summary: inside manchester city the chilean has always provided a welcome contrast to the emotional of life by his predecessor roberto mancini but on the field and across the landscape of english football pellegrini has made the of progress at the etihad stadium has in recent years been indeed you could say there has been none particularly in relation to money spent \n",
            "Predicted summary:  the england international has been linked with a move to the club 's top of the season and the club 's biggest talent was the first time since the season 's departure of the season the former england international has been linked with the club 's most famous and the club 's top scorer has been linked with the club 's top scorer in the summer\n",
            "\n",
            "\n",
            "Review: arsenal host top four rivals liverpool at the emirates on saturday martin skrtel and steven gerrard are suspended for the clash liverpool lost 2 1 to manchester united before the international break arsenal in third place are six points ahead of liverpool in the league \n",
            "Original summary: prior to the international break the reds ' 13 match unbeaten league run was ended at home to champions league chasing rivals manchester united leaving them five points adrift of the qualification places defeat at third placed arsenal would be a huge blow to their aspirations of returning to europe 's elite for a second successive season liverpool manager brendan rodgers has urged his team to perform well in the clash with arsenal on saturday \n",
            "Predicted summary:  the chelsea international has been a substitute in the premier league and the blues have been in the premier league and the blues have been in the top of the table and the blues have been in the top of the table and the season is the best player of the season and has been a lot of the season\n",
            "\n",
            "\n",
            "Review: marshall 24 ball 20 and 23 were off the georgia southern university campus on saturday night famous for 2013 hit ' multiple guns marijuana and another undisclosed drug were discovered inside their tour van they reportedly face charges of drug possession possession of firearms in a school safety zone and during the commission of a crime \n",
            "Original summary: marshall 24 ball 20 and 23 were escorted off the georgia southern university campus mid performance on saturday night and taken into custody according to nbc news all of the band members have been denied bond meaning they might not be able to their upcoming tour dates were next due to perform at the center in georgia before traveling on to a number of other states including wisconsin ohio michigan pennsylvania and new york \n",
            "Predicted summary:  a british woman who was arrested in a week after a complaint to a complaint after a judge was arrested in a bid to be a rifle in the case of the alleged police said the complaint was arrested in a complaint in a statement in the district court of the first time in the district of the country 's liberation district court was arrested in a courthouse in 2013\n",
            "\n",
            "\n",
            "Review: it has cost the taxpayer 135 000 to move 55 protected water they have been removed from somerset levels for to take place in 2014 over 600 homes and 17 000 acres of farmland were flooded with water after rivers burst their banks following years of critics say moving the is an waste of public money \n",
            "Original summary: taxpayers have footed a 000 bill to move 50 protected water at a cost of 2 500 per animal to allow of the somerset levels the bill for moving the creatures is nearly six times the original it was revealed today in january and february 2014 residents on the levels were forced to abandon their homes after record rainfall saw rivers burst their banks following years of \n",
            "Predicted summary:  the new jersey of the first time of the first time since the country 's most expensive quake in the country 's most expensive ship in the country 's nuclear plant the scale of the country 's daily online the scale of the country 's daily online and the scale of the country 's daily online australia and the scale of the country 's daily online reported that the people are the most of the most powerful and ever sold in the air\n",
            "\n",
            "\n",
            "Review: newcastle hope to avoid third defeat in a row when they face sunderland has scored 11 premier league goals this season 10 of those have been and the magpies would be in the relegation zone behind sunderland without his goals \n",
            "Original summary: newcastle will be keen to avoid a third defeat on the spin when they take on rivals sunderland in sunday 's crunch derby after in recent weeks without banned striker it is dick advocaat 's side who are struggling at the foot of the barclays premier league table sitting one point above the bottom three but sportsmail can reveal that john carver 's team would be two points adrift of their in the relegation zone if it were n't for 's goals the forward is newcastle 's top scorer this season with 11 goals with 10 of those decisive in changing games in the magpies ' favour \n",
            "Predicted summary:  the former england striker has been sacked for the first time since the season since the season and the club 's 1 1 defeat against the club 's 1 0 defeat over the season after the game of the season and the season was not to be replaced by the club 's top scorer in the championship zone in the season\n",
            "\n",
            "\n",
            "Review: brendan rodgers has stated his intent on a forward the liverpool boss wants a top forward who can play every week ' daniel sturridge has made just 12 premier league appearances rodgers is keen on signing danny ings and memphis depay \n",
            "Original summary: the england international will be absent once again on saturday at the hawthorns as he continues to be plagued by a hip problem and rodgers admitted he is unsure as to whether sturridge will play for liverpool again this season it has been a nightmare year for liverpool in terms of goals they had 88 after 32 matches last season but now at the same stage their total is 47 and not one of their players feature in the top 25 leading in the barclays premier league \n",
            "Predicted summary:  the former england international has been linked with a contract with a club and has been linked with a move to the club 's contract expires in january 2013 the former england international has been linked with the club 's top scorer in the summer and has been linked with the club 's top scorer in the summer\n",
            "\n",
            "\n",
            "Review: carwyn scott howell died on a family holiday in flaine in french alps he went ahead alone when sister fell and his mother stopped to help into dense woodland before sliding towards a 164 foot cliff thought he may have entered woodland as thought it was to hotel family described him as a very outgoing determined little boy ' \n",
            "Original summary: carwyn scott howell was described as a daring outgoing and determined ' youngster whose smile lit up any room ' the schoolboy was skiing with his family when he became separated from his mother and headed into woodland where he fell over a drop tragedy carwyn scott howell left right fell to his death while on holiday with his mother nine year old sister and brother 19 in the alps \n",
            "Predicted summary:  a woman who was arrested after allegedly allegedly killed in a coma after a young woman who was driving in a coma in the city of the year after the accident was arrested in the accident the accident was also killed in the chest and was pronounced dead by the car in the accident\n",
            "\n",
            "\n",
            "Review: the video first went viral after being uploaded to youtube in june 2012 it was on tuesday by popular radio hosts and youtube a number of visual in the clip swell experts declared it is impossible for waves could reach the harbour \n",
            "Original summary: the video was uploaded to twitter on tuesday morning by popular sydney radio duo and before quickly being by a spell of other sources the posting of the video comes in the wake of heavy storms which battered sydney overnight with parts of the city experiencing the heaviest rainfall in 100 years a hoax video showing a wave rider surfing in front of the sydney 's opera house has gone viral for the second time \n",
            "Predicted summary:  the couple of the first time in a video of the first time since a week after a video of the first time the duchess of cambridge 's largest and was born in the first time of the first time in the first time of the first time the pair were born and the pair were born and the pair were born and the pair were in the first time of the first time since the first time\n",
            "\n",
            "\n",
            "Review: the kitten was filmed this month meeting an adult clip shows youngster making big friend in washington is at first but ends up with \n",
            "Original summary: they may not be much of a match in terms of size but that proved no for the friendship between this tiny and the who towers over him just three weeks old and a full grown dog were together at home in washington earlier this month the clip begins with one of the family who recently adopted holding him before the two pets are introduced \n",
            "Predicted summary:  a young woman who was a little girl in the world 's funeral and was filmed by a young woman who was born in a medically induced coma and was a little girl in the world 's funeral and the youngster was filmed by the family 's daily online\n",
            "\n",
            "\n",
            "Review: cristiano ronaldo 's practice shot flies into the crowd hitting young fan ronaldo shows concern but continues his warm up until the final portuguese icon wheels away to behind goal where the stricken fan stands ballon d'or holder takes off his training shirt and it to boy click here to see who ronaldo will be facing in the champions league \n",
            "Original summary: the portuguese star has devoted hours on the training field to the art of the perfect set piece but even the best in the business occasionally get it wrong in the white hot atmosphere of the santiago bernabeu prior to wednesday night 's second leg champions league quarter final when every minute of preparation is key there was still time for ronaldo to display a small but heartfelt act of cristiano ronaldo shows his delight after real madrid finally broke the deadlock against rivals atletico \n",
            "Predicted summary:  the former real madrid star has been linked with the club 's champions league quarter final against atletico madrid and the club 's champions league quarter final against atletico madrid in the champions league quarter final against atletico madrid in the champions league quarter final against atletico madrid in the champions league quarter final against atletico madrid in the champions league quarter final against atletico madrid in the champions league quarter final against atletico madrid in the champions league quarter final against atletico madrid in the champions league quarter final against atletico madrid in the champions league quarter final against atletico madrid\n",
            "\n",
            "\n",
            "Review: renee 38 captures children with disabilities at their most confident for her superhero project the washington based photographer 's first subject was her son who has a feeding tube in his stomach she takes the photos free of charge to encourage families and to spread awareness \n",
            "Original summary: i think a lot of people look at others with special needs and think of them as less in some ways ' mrs who also has a parenting blog recently told the mighty let 's face it though these kids are all fighters the they overcome daily just to cope in our world to make us all see them as ' \n",
            "Predicted summary:  a woman who has been a woman who was a woman who was a woman who was a student in the university of the country 's most prestigious ' in the world 's most prestigious the country 's most prestigious the country 's most prestigious the most of the most beautiful of the most beautiful ' in the world 's most prestigious the world 's most prestigious the most of the world 's most prestigious the world 's most prestigious the country 's most prestigious\n",
            "\n",
            "\n",
            "Review: some abbott 's beer in a pub full of the prime minister last year criticized binge drinking culture in australia \n",
            "Original summary: his feat of swift consumption in a crowded bar impressed some people but others and were quick to point out that abbott had previously binge drinking in australia abbott was in a sydney pub on saturday evening when a group of australian rules football players invited him to have a drink with them \n",
            "Predicted summary:  the former soldier who was a target in the u s war and the american leader was a member of the american american and the american leader 's most famous and the fact the fact that the fact that the fact that the fact that the people 's most successful ' is a ' that the fact that the people 's most successful '\n",
            "\n",
            "\n",
            "Review: planes were preparing to depart dublin for edinburgh and croatia airline said they were under the instruction of air traffic control of one aircraft appears to have the tail of the other it 's the second time in six months two ryanair planes have collided \n",
            "Original summary: ryanair passengers travelling to edinburgh and were delayed for hours after two of the budget airline 's planes wings at dublin airport this morning photos snapped by travellers show the tip of a dangling by a thread after the other plane and it 's the second time in six months two ryanair planes have collided at ireland 's busiest airport passengers escaped injury when the planes collided as they to a runway shortly before 8am but the incident caused disruption for hundreds of travellers \n",
            "Predicted summary:  the german shepherd was arrested after a plane in the crash after a plane crashed out of the cockpit of the aircraft the aircraft was captured on camera the pilot was forced to the blaze the plane was forced to the blaze the plane was forced to the runway in the airport before the plane was forced to the runway in the crash\n",
            "\n",
            "\n",
            "Review: researchers in tokyo placed rats in a cage with three one room showed photos of rats in pain and another with neutral faces rats spent more time in the neutral ' room suggesting they recognise fear experts believe facial are used to with others \n",
            "Original summary: now researchers have found that rats can recognise pain the faces of their fellow the study suggests that as well as expressing their emotional state the faces of rats may have a function ' they may even use expressions to warn other rats of danger or ask for help \n",
            "Predicted summary:  the new study has been found by a massive earthquake in the region of the first time in the region of the first time since the country 's nuclear earthquake the researchers have been found in the region of the country 's most popular quarter final in the region of the country 's most natural history of the country 's daily online\n",
            "\n",
            "\n",
            "Review: is star of life ball 2015 poster shot by legendary ellen von event is biggest charity event in europe supporting people with hiv or aids previous guests include bill clinton and antonio \n",
            "Original summary: she 's the bearded who won over the globe after winning europe 's biggest entertainment contest last year and now song contest legend has been given a dazzling high art makeover the star has been transformed into 's golden adele for the life ball 2015 poster \n",
            "Predicted summary:  the bbc 's most successful star is a new campaign to the top of the first time since the campaign of the campaign and the american star 's first ever campaign to the bbc 's daily online the vatican is the first time in the first time of the campaign and the american american star has been in the first time of the campaign\n",
            "\n",
            "\n",
            "Review: kim kardashian hollywood and lindsay lohan 's the price of fame apps users create an celebrity and rise to fame in the games everyone is either a potential love interest career booster or enemy \n",
            "Original summary: but the growing of celebrity gaming apps from the likes of kim kardashian and lindsay and soon katy perry promise to you in it all temporarily femail what it 's like to live ' the life of a celebrity for a day kim kardashian hollywood is the app from the reality star which uses her and voice \n",
            "Predicted summary:  the new york star has been a new campaign for the first time since the campaign of the season and the british star 's new campaign the star is the first time to the uk 's most famous and the best star of the campaign is the first time to be a new campaign for the first time since the campaign\n",
            "\n",
            "\n",
            "Review: justin rose goes into final day at 12 under par four shots off the lead jordan spieth is out in front looking to win his first major rory mcilroy paired with tiger woods in third from last \n",
            "Original summary: rose 's superb finish on saturday earned him a place in the last with spieth ahead of phil mickelson and who will tee off ten minutes earlier at 19 40 bst world no 1 rory mcilroy is paired with tiger woods in the final day 's most high profile as both attempt to pull off what would be the most unlikely of their major wins there is one all english pair as paul casey and ian poulter 11 and 12 shots back respectively tee off at 19 00 \n",
            "Predicted summary:  the 21 year old was shot in the first round of the first time since the first time since the par the first time since the par the first time in the par the first time since the masters he was shot in the par the first round of the masters in the par the first round of the masters and was the first time in the par the first time since the par the first time since the par finished in the par the first time since the par finished ninth in the par the first time since the masters\n",
            "\n",
            "\n",
            "Review: took part in outdoor and morris dancing to celebrate st george 's day across the country temperatures soared to 20 9 c in north yorkshire but warned colder weather was on the way from tomorrow the weather will return to what is normal for this time of year with clouds and highs of around \n",
            "Original summary: described by the prime minister as ' a day to be celebrate all that makes england great ' st george 's day takes place on april 23 every year with temperatures of around in parts of the country planned outdoor events were able to go forward joined by and horses the crowd marched through the city centre from forest ground earlier today \n",
            "Predicted summary:  the new york city of the city 's biggest home in the city of the city of the city of the city 's most famous and the city of the city of the city of the city of the city 's most famous and the city of the city of the city of the city of the city 's inner city in the city of the city of the city of the city of the city of the city 's inner city in the city of the city of the city of the city of the city\n",
            "\n",
            "\n",
            "Review: manchester city have slipped to fourth in the premier league table sergio aguero may look elsewhere should city continue to struggle argentine striker has scored 19 premier league goals so far this season manuel pellegrini 's future as city boss is also in doubt real madrid and barcelona are both fans of the former atletico madrid star \n",
            "Original summary: then there is the inevitable speculation over the future of under fire manager manuel pellegrini but the biggest challenge for manchester city this summer could be keeping hold of something they already have manchester city risk losing star man sergio aguero should they slip out of the premier league 's top four \n",
            "Predicted summary:  the manchester united striker has been linked with a move to the club 's top scorer in the summer and has been linked with the club 's top scorer the former manchester united striker has been linked with the club 's top scorer in the summer and has been linked with the club 's top scorer in the summer\n",
            "\n",
            "\n",
            "Review: white house communications director is expecting a baby girl in july director katie fallon has a may due date for twin boys both women say the president has been supportive of their decision to grow their family while serving in his administration \n",
            "Original summary: she white house chief of staff had n't heard she 's expecting a baby girl in july my immediate in my head was to tell him i 'm pregnant and this will be the end of this he 'll tell me good luck and be very kind about it and i 'll be on my way ' said who was serving as chief spokeswoman at the state department \n",
            "Predicted summary:  a woman who was born with a rare knee and a half of the year 's most expensive and was born and the pair of the day she was being named by the pair of the royal 's royal derby in the city of the city of the season and the pair were waiting to find the first time in the first time of the season\n",
            "\n",
            "\n",
            "Review: london mayor praised the coalition for having kept down unemployment he said creation of more jobs was one of moral ' of government comments will be seen as attempt to position himself as future party leader \n",
            "Original summary: the london mayor praised the coalition for having kept down unemployment and not returning to the queues of 1980s britain he said the fact that more jobs were being created was one of the absolute moral triumphs ' of the government boris johnson who is standing to be a tory mp in a west london constituency has set out his vision of moral purpose ' in business and politics \n",
            "Predicted summary:  the former mayor of the former republic of the former republic of the former republic of the party 's most prestigious party is the first time in the country 's most prestigious the country 's most prestigious the country 's most prestigious the former state 's most famous the former state 's most prestigious the former state 's most famous and the former state is the first time in the country 's most successful election\n",
            "\n",
            "\n",
            "Review: the black eyed was found stuck high on a flag pole outside philadelphia 's cathedral of saints peter and paul on tuesday after a few hours animal control officers were able to him down \n",
            "Original summary: but one ran into a spot of when he went on a around the urban jungle this week the black eyed was found stuck high on a flag pole outside philadelphia 's cathedral of saints peter and paul on tuesday morning video footage shows the animal clinging for life as it on its makeshift \n",
            "Predicted summary:  a man who was found dead in a crash in the crash after he was caught on the ground in a bid to steal the first time in the first time of the first time the 26 year old was found by the police department of the accident in the accident\n",
            "\n",
            "\n",
            "Review: and finished bottom of reliability table of manufacturers cars were assessed on their failure rate age and cost of repairs most reliable was honda with second and toyota in third place \n",
            "Original summary: the two finished bottom of a 38 strong table of vehicle manufacturers on and are more likely to break down than cheaper cars according to a survey thousands of cars aged three to eight years old were assessed on their failure rate age and cost of \n",
            "Predicted summary:  the new york of the most popular space is the most of the most popular and ever to the same but the most expensive and is the most popular and ever to the most popular and ever but the most popular device is the most of the most powerful ' in the world 's most famous and the most popular and is the most of the most popular and ever\n",
            "\n",
            "\n",
            "Review: in north west saw 21 sets of twins born during the civil war researchers believe there are more than 200 sets of twins in the town more are believed to have fled due to the civil war and poverty the mayor now wants to hold a convention for twins to tourism \n",
            "Original summary: officials in north west said their home should be known as the town of twins ' due to the unusually high number of multiple local journalist noticed the when his wife gave birth to twins during the 1992 95 civil war and are among the 200 sets of twins in the town of \n",
            "Predicted summary:  the man was arrested in a cave in the early hours of the city of the border and was forced to the blaze the boat was removed in the area of the city of the city of the city of the border in the city of the border with the group of the border in the southern province of the border with a large of the sea\n",
            "\n",
            "\n",
            "Review: up to 21 million acres of jungle will be torn down in the next decade alone university of east research says forest species at risk from industry rising demand for rubber for cars and planes driving \n",
            "Original summary: up to 21 million acres of jungle will be torn down to make way for rubber in the next decade alone according to researchers at the university of east the demand is putting endangered and elephants in south east asia at risk a study published in the journal conservation letters says a scene of devastation captured on indonesia 's island \n",
            "Predicted summary:  the new york of the country 's most prestigious the largest of the country 's most prestigious the population of the population of the population of the population of the country 's most expensive population the scale of the devastation in the region of the country 's population the scale of the devastation in the region of the country 's nuclear peninsula the region of the devastation in the region of the region of the devastation\n",
            "\n",
            "\n",
            "Review: marie 77 allegations of misconduct and poor care she worked as a at the scandal hit general hospital heard she her conduct contributed to the death of ' and or caused two babies to lose a significant chance of survival ' independent inquiry into hospital 's unit found led to the deaths of 11 babies and one mother over nine year period \n",
            "Original summary: marie teresa refused to defend herself against a raft of misconduct charges choosing not to show up at her fitness to hearing at the nursing and council she also declined to send a lawyer in her place the panel has been told ms 77 allegations relating to her care and treatment of 14 patients at the scandal hit general hospital in cumbria between february 2004 and september 2013 \n",
            "Predicted summary:  a woman who was arrested after allegedly allegedly charged with a student in a classroom in a bid to be a student who was arrested in a classroom in the school of the school and the school of the school 's office in 2013 the school was also known as a woman who was not a student who was arrested in a school in 2013 after being released by a student in the school of the school\n",
            "\n",
            "\n",
            "Review: north sea populations are healthy in hundreds of fisheries analysed stocks plummeted in 1980s and 1990s but industry has steadily recovered research was carried out by and the marine council however it also found only one in nine fisheries are operating \n",
            "Original summary: the population was deemed healthy in hundreds of the northern european analysed and experts say the fish is closer to being as a species consumers were previously told to eat instead of after stocks plummeted in the 1980s and 1990s but the industry has recovered since regulations were put in place in 2006 north sea stocks are on the rise after being heavily and could be in five years \n",
            "Predicted summary:  the new york of the university of the most popular ship in the university of the country 's most famous and the most of the most popular species of the country 's most expensive history of the country 's most expensive ship the scale of the country 's most expensive ship the scale of the country 's most expensive and the most of the most of the most popular species of the country 's most expensive\n",
            "\n",
            "\n",
            "Review: supermarket giant becomes first to introduce only sweet move being in 10 stores around the uk based on local community will sell 36 types of free and alcohol free muslim figures praise the move and say demand will be high \n",
            "Original summary: a selection of 36 including sticks bottles and bears are on sale all guaranteed to be free of animal products or alcohol based ingredients the 10 stores the scheme include blackburn bolton preston bradford west bromwich birmingham spa and three in london morrisons supermarket has brought in halal only pick and mix to cater for muslim customers \n",
            "Predicted summary:  the company 's most expensive company is the most of the most popular and ever but it is the most expensive ' in the uk but the company is the most popular and ever to the uk 's most expensive and the scale of the uk 's most expensive and the scale of the uk 's most expensive and the most popular and is the most of the most powerful '\n",
            "\n",
            "\n",
            "Review: actor kit harington made the comments on late night with seth myers he said belfast is wonderful for two or three days ' drawing laughter harington plays the character jon snow on the hit hbo programme he appeared on the talk show to promote game of thrones ' new series \n",
            "Original summary: northern ireland 's tourism board is hitting back at actor kit after the game of thrones cracked a few jokes at the expense of its capital city who plays the character jon snow poked fun at belfast and tourism bosses when he appeared on a late night chat show to promote the hbo series ' return to tv screens the 28 year old joked to host myers that belfast is wonderful for two or three days ' and that he has spent five years filming in the city drawing from a studio audience \n",
            "Predicted summary:  the bbc 's top of the motoring show is a flurry of bets and a whopping 1 million and was the first time to be a whopping the first time since the game of the season and the former bbc star is currently in the first time of the season and is the first time to be a person 's first time for the first time since the season\n",
            "\n",
            "\n",
            "Review: eric cantona has claimed earlier that javier pastore is best in the world ' but pastore believes cristiano ronaldo and lionel messi are better psg face barcelona in the second leg of their last eight champions league clash in the nou camp on tuesday they trail 3 1 in the tie read laurent blanc admits getting past barca is practically impossible ' \n",
            "Original summary: cantona the former manchester united forward claimed earlier this month that pastore is the best player in the world ' but speaking ahead of his side 's second leg tie against barcelona in the nou camp pastore believes lionel messi and cristiano ronaldo are a class above him javier pastore addresses the world 's media ahead of paris saint germain 's european clash in barcelona \n",
            "Predicted summary:  the spanish giants have been linked with the spanish giants to be the first time since the season and the club 's most expensive win the former barcelona international has been linked with the caption that the caption was in the nou camp in the nou camp in the nou camp in the nou camp in the nou camp in the nou camp in the nou camp in the nou camp in the nou camp in the nou camp in the nou camp in the nou camp in the nou camp in the nou camp in the nou camp in the nou camp in the nou camp\n",
            "\n",
            "\n",
            "Review: jimmy anderson becomes england 's leading test match wicket taker the 32 year old the record held by sir ian botham 383 anderson picked up his wicket during first test against west indies he took the wicket of denesh ramdin caught behind by alastair cook he drew level with botham on 383 when marlon samuels edged to \n",
            "Original summary: anderson 's moment in his landmark test arrived in his 21st over when for his team he had west indies captain dennis caught by captain alastair cook after a partnership of 105 with jason holder had frustrated england botham 's record had been much earlier in the day when anderson had marlon samuel caught in the by james jimmy anderson celebrates taking his record wicket in test cricket for england \n",
            "Predicted summary:  the england international was set to the first test in the first test since the first test championship in antigua and the england international was in the first half of the first time since the first test in the first round of the first time since the first test in the first round of the first time since the first test in antigua and the england international was in the first test in the first round of the first time since the first round of the first time in the first round of the first time since the first round of the first time in antigua and the england international championship and the first test in the first test\n",
            "\n",
            "\n",
            "Review: psg defender was celebrating his birthday on friday he posed for a photo with a cake after training ahead of facing marseille david luiz and dipped 's face into the cake psg face marseille in an important clash at the top of ligue 1 on sunday \n",
            "Original summary: a member of the squad this season had an unexpected dip into his cake that left him with a of it paris saint germain birthday boy poses with a cake at their training ground on friday gets into his birthday cake in a prank set up by his team mates on friday afternoon \n",
            "Predicted summary:  the former england defender was a picture of the club 's first team and the club 's first team to the club 's first leg but he was a brilliant player of the club 's best player in the semi finals of the season but the former england defender was also keen to be a first time since the season\n",
            "\n",
            "\n",
            "Review: writer stewart brand says warnings that the world is facing a new mass extinction may lead to a attitude that will do more harm than good instead he points to the recovery of species due to conservation efforts he believes climate change is unlikely to have the feared impact on wildlife he argues that more new species are being discovered than are being lost \n",
            "Original summary: stewart brand president of the long now foundation and editor of the whole earth believes the focus on widespread may actually be harmful instead he argues it is highly unlikely that the planet is facing a sixth mass extinction as many threatened species are recovering this chart shows the increase in marine from the fossil record and the five mass extinction events \n",
            "Predicted summary:  the company 's most popular design is a year to be a year ago for the first time since the world 's most expensive attractions in the uk 's most popular property in the uk and the british american and is the most popular and ever to the world 's most popular property in the uk and the world 's most popular competition is the first time since the world 's most popular\n",
            "\n",
            "\n",
            "Review: april 23 is st george 's day the national saint 's day of england england footballers past and present took to social media to celebrate harry kane posted a picture of his younger self with england face paint rio ferdinand and gary cahill were among the other players celebrating \n",
            "Original summary: england 's national saint 's day falls on april 23 and a number of the country 's finest footballers were quick to show their pride with a series of photographs and videos recently called up spurs striker harry kane posted a picture of his younger self posing with his brother charlie his face painted with the st george 's cross \n",
            "Predicted summary:  the former england star who was a tough to be a week for the first time since the world 's finest and the pair of the world 's finest the world 's finest the finest star of the first time in the world 's finest the finest of the season and was a quick to the top of the table and the pair were n't aware of the season\n",
            "\n",
            "\n",
            "Review: ambra battilana 22 accused weinstein 63 of her at his manhattan office on friday night the next day she snapped a picture of her ticket to a preview of finding neverland the hollywood producer 's new show a movie industry source said weinstein gave battilana the ticket during their friday night meeting source said weinstein also told her he 'd be during the show the married father of five has denied the model 's allegations her ex boyfriend says she is a victim of her beauty ' \n",
            "Original summary: an italian model who accused harvey weinstein of groping her breasts and putting his hand up her skirt attended the hollywood mogul 's new broadway show just a day after his alleged attack battilana 22 told police weinstein asked her for a kiss and then groped her during a business meeting ' at his office in manhattan on friday night however the very next day she snapped a picture of her ticket to a preview showing of finding which weinstein is producing from the theater and posted it on her instagram \n",
            "Predicted summary:  a woman who was arrested after allegedly allegedly charged with a police officer who was arrested on march 27 after a judge was found by a police officer who was allegedly charged with a woman who was allegedly charged with a woman who was charged with a woman who was arrested on march 24 and was charged with sexual assault and sexual assault and improper sexual harassment and improper disposal of the lawsuit\n",
            "\n",
            "\n",
            "Review: israeli prime minister said agreement puts country in danger ' he said during a statement the deal ' the way to the bomb for iran urged western powers to carry on putting pressure on tehran the white house they remain committed to israel 's security \n",
            "Original summary: after speaking to president barack obama on the phone he said in a televised statement just hours after the agreement was signed on thursday ' a deal based on this framework would the survival of israel he added such a deal would not block iran 's path to the bomb it would it ' \n",
            "Predicted summary:  the prime minister who was not a secret party to the treasury 's manifesto in the general election campaign in the televised election campaign the prime minister said the party 's manifesto to be a major party in the uk and the liberal democrats and the party 's policies in the uk 's manifesto to the treasury in the treasury of the party 's manifesto in the country 's manifesto in the country 's manifesto in the country 's manifesto in the country 's manifesto the liberal democrats have been accused of the tories in the uk\n",
            "\n",
            "\n",
            "Review: scott quigg and i have taken all the risks carl frampton must step up we 've written him a cheque for 1 5 million so what is stopping them i 've also held talks with martinez and for july 18 kell brook vs frankie gavin under strong consideration for may 30 anthony joshua will probably fight again on may 9 in birmingham \n",
            "Original summary: you 'll have seen by now that we have offered frampton 1 5 million for the fight all he has to do is turn up we will take all the risks if there 's more we can do to make this fight happen then i do n't know what it is now it is up to frampton and his people to decide if they really want it \n",
            "Predicted summary:  the fight between the fight of the fight of the season and the fight of the season and the fight of the season and the fight of the season 's top of the world 's most famous and the world 's most expensive is the first time in the world 's most prestigious the world 's most famous history of the season and the fight is the first time in the world 's most prestigious fight with the world\n",
            "\n",
            "\n",
            "Review: jonas gutierrez could play his way to a new contract at newcastle the 31 year old needs seven more starts to trigger contract extension gutierrez made his first start in 20 months in recent sunderland defeat midfielder is one of very few players respected by a disgruntled \n",
            "Original summary: the 31 year old was the only united player to emerge with any credit in the wake of last weekend 's 1 0 defeat at sunderland it was gutierrez 's first start for the magpies in 20 months having twice beaten testicular cancer the argentine has said he will never newcastle for their handling of his illness after he was told to find a new club when he first returned from treatment in december 2013 \n",
            "Predicted summary:  the former england manager was a substitute in the first half of the season since the season and was the first time since the season and the club 's 1 1 defeat at the stadium in the championship but the result was not to be named by the club 's best team mates in the game of the season\n",
            "\n",
            "\n",
            "Review: dashcam footage shared by com user shows a st bernard dog running across a road somewhere with a child trailing behind it appears to be a rather uncomfortable with the young boy being pulled along the ground on his belly \n",
            "Original summary: dashcam footage shared by com user shows a giant st bernard running across a road somewhere in the czech republic with a child trailing behind it appears to be a rather uncomfortable with the young boy going along the ground on his belly with his legs stretched out behind as the canine along his passenger holds to a \n",
            "Predicted summary:  a young man who was a baby in a young boy and a man who was a little boy and the dog and was in the water and the family of the year and the dog and the dog and the dog and the dog and the dog and the dog and the dog and the dog and the dog\n",
            "\n",
            "\n",
            "Review: katie and 24 and 23 met in 2009 and married two years later they both suffer from and in november 2014 received new lungs katie is still waiting for a lung transplant because insurance company will not pay for the out of state treatment she needs husband says doctors predict she will not live a year without new lungs they are turning my wife into a number a a dollar sign \n",
            "Original summary: katie 24 was diagnosed with an infection in her lungs in september 2009 and is desperately in need of a transplant as doctors predicted she would not live a year without new lungs as her health continues to decline her husband 23 who has already received new lungs is pleading for help her insurance company kentucky will not pay for the out of state treatment she needs at the university of pittsburgh medical center he says \n",
            "Predicted summary:  a mother of a student who was arrested after a student in a week after a student was found by a student in a bid to steal the operation to the dangers of a worker who was a little of the most of the most of the most of the most of the world 's most famous and the most of the world 's most famous and the most of the property and was a little ' '\n",
            "\n",
            "\n",
            "Review: japanese programme miniature space is set in a a tiny kitchen videos how to make different foods in miniature form kitchen equipped with mini and knives \n",
            "Original summary: but the japanese have taken their culinary expertise to a whole new level with their newest cooking series the action in this programme takes place in the kitchen in the world and how to make perfectly formed miniature of classic foods a tiny cake made with cut out bread one and covered in and coloured balls \n",
            "Predicted summary:  the new york of the world 's most popular robot has been a new app to the world 's most famous and the world 's most popular egg is a robot that the whole american is the most popular and ever to the world 's most famous and the world 's most famous and is the most popular and ever to the world 's most famous\n",
            "\n",
            "\n",
            "Review: floyd mayweather and manny pacquiao face off in las vegas on may 2 joe believes mayweather 's unbeaten record is a despite that the welshman thinks mayweather will beat his opponent read ricky hatton gives his to jeff powell ahead of the fight read floyd mayweather vs manny pacquiao tickets finally go on sale \n",
            "Original summary: it is being billed as the fight of the century and is worth at least and to mayweather and pacquiao respectively but former undefeated world super middleweight and light heavyweight boxing champion is confident he can predict the outcome there will be a lot more pressure on mayweather than there will be on pacquiao ' he told bbc sport pacquiao has been beaten so he 'll be more relaxed than mayweather \n",
            "Predicted summary:  the filipino has been billed as the best ' in the world 's most expensive fights in the mgm grand garden arena in las vegas the fight is the most important fights in the history of the mega fight the filipino is not the most important ever ever mega mega fight with the mega fight with floyd mayweather pacquiao has been released by mayweather 's pacquiao in the mgm grand garden\n",
            "\n",
            "\n"
          ],
          "name": "stdout"
        }
      ]
    },
    {
      "cell_type": "code",
      "metadata": {
        "id": "DPzxMsCMOYS-"
      },
      "source": [
        ""
      ],
      "execution_count": null,
      "outputs": []
    }
  ]
}